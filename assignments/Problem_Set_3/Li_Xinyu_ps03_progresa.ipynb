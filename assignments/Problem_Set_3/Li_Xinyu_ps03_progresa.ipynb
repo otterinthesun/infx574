{
 "cells": [
  {
   "cell_type": "markdown",
   "metadata": {
    "ein.tags": "worksheet-0",
    "slideshow": {
     "slide_type": "-"
    }
   },
   "source": [
    "# Problem Set 3, due Wednesday, May 3rd, 5:30pm."
   ]
  },
  {
   "cell_type": "markdown",
   "metadata": {
    "ein.tags": "worksheet-0",
    "slideshow": {
     "slide_type": "-"
    }
   },
   "source": [
    "## Introduction to the assignment\n",
    "\n",
    "For this assignment, you will be using data from the [Progresa\n",
    "program](http://en.wikipedia.org/wiki/Oportunidades), a government\n",
    "social assistance program in Mexico. This program, as well as the\n",
    "details of its impact, are described in the paper \"[School subsidies\n",
    "for the poor: evaluating the Mexican Progresa poverty\n",
    "program](http://www.sciencedirect.com/science/article/pii/S0304387803001858)\",\n",
    "by Paul Shultz (available on Canvas).  The data\n",
    "(progresa_sample.csv.gz) is available on canvas\n",
    "in files/data.\n",
    "\n",
    "Please read the paper to familiarize yourself with\n",
    "the PROGRESA program before beginning this problem set, so you have a\n",
    "rough sense of where the data come from and how they were\n",
    "generated. If you just proceed into the problem set without\n",
    "understanding Progresa or the data, it will be very difficult!\n",
    "\n",
    "The goal of this problem set is to implement some of the basic\n",
    "econometric techniques that you are learning in class to measure the\n",
    "impact of Progresa on secondary school enrollment rates, in particular\n",
    "differences-in-differences.  Your task is to **estimate the impact of\n",
    "_progresa_ subsidies on the school attendance**.  Note: this asks to\n",
    "estimate a causal effect.\n",
    "\n",
    "The timeline of the program was:\n",
    "\n",
    " * Baseline survey conducted in 1997\n",
    " * Intervention begins in 1998, \"Wave 1\" of data collected in 1998\n",
    " * \"Wave 2 of data\" collected in 1999\n",
    " * Evaluation ends in 2000, at which point the control villages were treated. \n",
    " \n",
    "When you are ready, download the progresa_sample.csv data from\n",
    "Canvas. The data are actual data collected to evaluate the impact of\n",
    "the Progresa program.  In this file, each row corresponds to an\n",
    "observation taken for a given child for a given year. There are two\n",
    "years of data (1997 and 1998), and just under 40,000 children who are\n",
    "surveyed in both years.  For each child-year observation, the\n",
    "following variables are collected:\n",
    "\n",
    "| Variable name | Description|\n",
    "|------|------|\n",
    "|year\t  |year in which data is collected\n",
    "|sex\t  |male = 1|\n",
    "|indig\t  |indigenous = 1|\n",
    "|dist_sec |nearest distance to a secondary school|\n",
    "|sc\t      |enrolled in school in year of survey (=1)|\n",
    "|grc      |grade enrolled|\n",
    "|fam_n    |family size|\n",
    "|min_dist |\tmin distance to an urban center|\n",
    "|dist_cap |\tmin distance to the capital|\n",
    "|poor     |\tpoor = \"pobre\", not poor = \"no pobre\"|\n",
    "|progresa |treatment = \"basal\", control = \"0\"|\n",
    "|hohedu\t  |years of schooling of head of household|\n",
    "|hohwag\t  |monthly wages of head of household|\n",
    "|welfare_index|\twelfare index used to classify poor|\n",
    "|hohsex\t|gender of head of household (male=1)|\n",
    "|hohage\t|age of head of household|\n",
    "|age\t|years old|\n",
    "|folnum\t|individual id|\n",
    "|village|\tvillage id|\n",
    "|sc97\t|enrolled in school in 1997 (=1) |"
   ]
  },
  {
   "cell_type": "code",
   "execution_count": 1,
   "metadata": {},
   "outputs": [],
   "source": [
    "import numpy as np\n",
    "import pandas as pd\n",
    "from scipy import stats\n",
    "import matplotlib.pyplot as plt\n",
    "import statsmodels.formula.api as smf\n",
    "\n",
    "%matplotlib inline"
   ]
  },
  {
   "cell_type": "code",
   "execution_count": 2,
   "metadata": {},
   "outputs": [
    {
     "data": {
      "text/html": [
       "<div>\n",
       "<style scoped>\n",
       "    .dataframe tbody tr th:only-of-type {\n",
       "        vertical-align: middle;\n",
       "    }\n",
       "\n",
       "    .dataframe tbody tr th {\n",
       "        vertical-align: top;\n",
       "    }\n",
       "\n",
       "    .dataframe thead th {\n",
       "        text-align: right;\n",
       "    }\n",
       "</style>\n",
       "<table border=\"1\" class=\"dataframe\">\n",
       "  <thead>\n",
       "    <tr style=\"text-align: right;\">\n",
       "      <th></th>\n",
       "      <th>year</th>\n",
       "      <th>sex</th>\n",
       "      <th>indig</th>\n",
       "      <th>dist_sec</th>\n",
       "      <th>sc</th>\n",
       "      <th>grc</th>\n",
       "      <th>fam_n</th>\n",
       "      <th>min_dist</th>\n",
       "      <th>dist_cap</th>\n",
       "      <th>poor</th>\n",
       "      <th>...</th>\n",
       "      <th>hohedu</th>\n",
       "      <th>hohwag</th>\n",
       "      <th>welfare_index</th>\n",
       "      <th>hohsex</th>\n",
       "      <th>hohage</th>\n",
       "      <th>age</th>\n",
       "      <th>village</th>\n",
       "      <th>folnum</th>\n",
       "      <th>grc97</th>\n",
       "      <th>sc97</th>\n",
       "    </tr>\n",
       "  </thead>\n",
       "  <tbody>\n",
       "    <tr>\n",
       "      <th>0</th>\n",
       "      <td>97</td>\n",
       "      <td>0.0</td>\n",
       "      <td>0.0</td>\n",
       "      <td>4.473</td>\n",
       "      <td>1.0</td>\n",
       "      <td>7.0</td>\n",
       "      <td>7</td>\n",
       "      <td>21.168384</td>\n",
       "      <td>21.168384</td>\n",
       "      <td>pobre</td>\n",
       "      <td>...</td>\n",
       "      <td>6</td>\n",
       "      <td>0.0</td>\n",
       "      <td>583.0</td>\n",
       "      <td>1.0</td>\n",
       "      <td>35.0</td>\n",
       "      <td>13</td>\n",
       "      <td>163</td>\n",
       "      <td>1</td>\n",
       "      <td>7</td>\n",
       "      <td>1.0</td>\n",
       "    </tr>\n",
       "    <tr>\n",
       "      <th>1</th>\n",
       "      <td>98</td>\n",
       "      <td>0.0</td>\n",
       "      <td>0.0</td>\n",
       "      <td>4.473</td>\n",
       "      <td>1.0</td>\n",
       "      <td>8.0</td>\n",
       "      <td>7</td>\n",
       "      <td>21.168384</td>\n",
       "      <td>21.168384</td>\n",
       "      <td>pobre</td>\n",
       "      <td>...</td>\n",
       "      <td>6</td>\n",
       "      <td>0.0</td>\n",
       "      <td>583.0</td>\n",
       "      <td>1.0</td>\n",
       "      <td>35.0</td>\n",
       "      <td>14</td>\n",
       "      <td>163</td>\n",
       "      <td>1</td>\n",
       "      <td>7</td>\n",
       "      <td>1.0</td>\n",
       "    </tr>\n",
       "    <tr>\n",
       "      <th>2</th>\n",
       "      <td>97</td>\n",
       "      <td>1.0</td>\n",
       "      <td>0.0</td>\n",
       "      <td>4.473</td>\n",
       "      <td>1.0</td>\n",
       "      <td>6.0</td>\n",
       "      <td>7</td>\n",
       "      <td>21.168384</td>\n",
       "      <td>21.168384</td>\n",
       "      <td>pobre</td>\n",
       "      <td>...</td>\n",
       "      <td>6</td>\n",
       "      <td>0.0</td>\n",
       "      <td>583.0</td>\n",
       "      <td>1.0</td>\n",
       "      <td>35.0</td>\n",
       "      <td>12</td>\n",
       "      <td>163</td>\n",
       "      <td>2</td>\n",
       "      <td>6</td>\n",
       "      <td>1.0</td>\n",
       "    </tr>\n",
       "    <tr>\n",
       "      <th>3</th>\n",
       "      <td>98</td>\n",
       "      <td>1.0</td>\n",
       "      <td>0.0</td>\n",
       "      <td>4.473</td>\n",
       "      <td>1.0</td>\n",
       "      <td>7.0</td>\n",
       "      <td>7</td>\n",
       "      <td>21.168384</td>\n",
       "      <td>21.168384</td>\n",
       "      <td>pobre</td>\n",
       "      <td>...</td>\n",
       "      <td>6</td>\n",
       "      <td>0.0</td>\n",
       "      <td>583.0</td>\n",
       "      <td>1.0</td>\n",
       "      <td>35.0</td>\n",
       "      <td>13</td>\n",
       "      <td>163</td>\n",
       "      <td>2</td>\n",
       "      <td>6</td>\n",
       "      <td>1.0</td>\n",
       "    </tr>\n",
       "    <tr>\n",
       "      <th>4</th>\n",
       "      <td>97</td>\n",
       "      <td>0.0</td>\n",
       "      <td>0.0</td>\n",
       "      <td>4.473</td>\n",
       "      <td>1.0</td>\n",
       "      <td>2.0</td>\n",
       "      <td>7</td>\n",
       "      <td>21.168384</td>\n",
       "      <td>21.168384</td>\n",
       "      <td>pobre</td>\n",
       "      <td>...</td>\n",
       "      <td>6</td>\n",
       "      <td>0.0</td>\n",
       "      <td>583.0</td>\n",
       "      <td>1.0</td>\n",
       "      <td>35.0</td>\n",
       "      <td>8</td>\n",
       "      <td>163</td>\n",
       "      <td>3</td>\n",
       "      <td>2</td>\n",
       "      <td>1.0</td>\n",
       "    </tr>\n",
       "  </tbody>\n",
       "</table>\n",
       "<p>5 rows × 21 columns</p>\n",
       "</div>"
      ],
      "text/plain": [
       "   year  sex  indig  dist_sec   sc  grc  fam_n   min_dist   dist_cap   poor  \\\n",
       "0    97  0.0    0.0     4.473  1.0  7.0      7  21.168384  21.168384  pobre   \n",
       "1    98  0.0    0.0     4.473  1.0  8.0      7  21.168384  21.168384  pobre   \n",
       "2    97  1.0    0.0     4.473  1.0  6.0      7  21.168384  21.168384  pobre   \n",
       "3    98  1.0    0.0     4.473  1.0  7.0      7  21.168384  21.168384  pobre   \n",
       "4    97  0.0    0.0     4.473  1.0  2.0      7  21.168384  21.168384  pobre   \n",
       "\n",
       "   ...  hohedu  hohwag  welfare_index  hohsex  hohage  age  village  folnum  \\\n",
       "0  ...       6     0.0          583.0     1.0    35.0   13      163       1   \n",
       "1  ...       6     0.0          583.0     1.0    35.0   14      163       1   \n",
       "2  ...       6     0.0          583.0     1.0    35.0   12      163       2   \n",
       "3  ...       6     0.0          583.0     1.0    35.0   13      163       2   \n",
       "4  ...       6     0.0          583.0     1.0    35.0    8      163       3   \n",
       "\n",
       "   grc97  sc97  \n",
       "0      7   1.0  \n",
       "1      7   1.0  \n",
       "2      6   1.0  \n",
       "3      6   1.0  \n",
       "4      2   1.0  \n",
       "\n",
       "[5 rows x 21 columns]"
      ]
     },
     "execution_count": 2,
     "metadata": {},
     "output_type": "execute_result"
    }
   ],
   "source": [
    "# loading the data\n",
    "pdf = pd.read_csv('progresa_sample.csv.gz')\n",
    "\n",
    "#check the first couple of rows to see what's the data like\n",
    "pdf.head()"
   ]
  },
  {
   "cell_type": "code",
   "execution_count": 3,
   "metadata": {},
   "outputs": [
    {
     "name": "stdout",
     "output_type": "stream",
     "text": [
      "(77250, 21)\n"
     ]
    }
   ],
   "source": [
    "# check basic data information\n",
    "print(pdf.shape)"
   ]
  },
  {
   "cell_type": "markdown",
   "metadata": {
    "ein.tags": "worksheet-0",
    "slideshow": {
     "slide_type": "-"
    }
   },
   "source": [
    "## Part 1: Descriptive analysis\n",
    "\n",
    "### 1.1\tSummary Statistics\n",
    "\n",
    "Report summary statistics (mean, standard deviation, and number of missings) for all of\n",
    "the demographic variables in the dataset (i.e., everything except\n",
    "year, folnum, village).  Present the actual levels for 'progresa' and\n",
    "'poor'.  Do these fit with the documentation above?\n",
    "\n",
    "Present these in a single table alphabetized\n",
    "by variable name. Do NOT simply expect the grader to scroll through\n",
    "your output!"
   ]
  },
  {
   "cell_type": "code",
   "execution_count": 4,
   "metadata": {},
   "outputs": [
    {
     "data": {
      "text/html": [
       "<div>\n",
       "<style scoped>\n",
       "    .dataframe tbody tr th:only-of-type {\n",
       "        vertical-align: middle;\n",
       "    }\n",
       "\n",
       "    .dataframe tbody tr th {\n",
       "        vertical-align: top;\n",
       "    }\n",
       "\n",
       "    .dataframe thead th {\n",
       "        text-align: right;\n",
       "    }\n",
       "</style>\n",
       "<table border=\"1\" class=\"dataframe\">\n",
       "  <thead>\n",
       "    <tr style=\"text-align: right;\">\n",
       "      <th></th>\n",
       "      <th>sex</th>\n",
       "      <th>indig</th>\n",
       "      <th>dist_sec</th>\n",
       "      <th>sc</th>\n",
       "      <th>grc</th>\n",
       "      <th>fam_n</th>\n",
       "      <th>min_dist</th>\n",
       "      <th>dist_cap</th>\n",
       "      <th>poor</th>\n",
       "      <th>progresa</th>\n",
       "      <th>hohedu</th>\n",
       "      <th>hohwag</th>\n",
       "      <th>welfare_index</th>\n",
       "      <th>hohsex</th>\n",
       "      <th>hohage</th>\n",
       "      <th>age</th>\n",
       "      <th>grc97</th>\n",
       "      <th>sc97</th>\n",
       "    </tr>\n",
       "  </thead>\n",
       "  <tbody>\n",
       "    <tr>\n",
       "      <th>0</th>\n",
       "      <td>0.0</td>\n",
       "      <td>0.0</td>\n",
       "      <td>4.473</td>\n",
       "      <td>1.0</td>\n",
       "      <td>7.0</td>\n",
       "      <td>7</td>\n",
       "      <td>21.168384</td>\n",
       "      <td>21.168384</td>\n",
       "      <td>pobre</td>\n",
       "      <td>0</td>\n",
       "      <td>6</td>\n",
       "      <td>0.0</td>\n",
       "      <td>583.0</td>\n",
       "      <td>1.0</td>\n",
       "      <td>35.0</td>\n",
       "      <td>13</td>\n",
       "      <td>7</td>\n",
       "      <td>1.0</td>\n",
       "    </tr>\n",
       "    <tr>\n",
       "      <th>1</th>\n",
       "      <td>0.0</td>\n",
       "      <td>0.0</td>\n",
       "      <td>4.473</td>\n",
       "      <td>1.0</td>\n",
       "      <td>8.0</td>\n",
       "      <td>7</td>\n",
       "      <td>21.168384</td>\n",
       "      <td>21.168384</td>\n",
       "      <td>pobre</td>\n",
       "      <td>0</td>\n",
       "      <td>6</td>\n",
       "      <td>0.0</td>\n",
       "      <td>583.0</td>\n",
       "      <td>1.0</td>\n",
       "      <td>35.0</td>\n",
       "      <td>14</td>\n",
       "      <td>7</td>\n",
       "      <td>1.0</td>\n",
       "    </tr>\n",
       "    <tr>\n",
       "      <th>2</th>\n",
       "      <td>1.0</td>\n",
       "      <td>0.0</td>\n",
       "      <td>4.473</td>\n",
       "      <td>1.0</td>\n",
       "      <td>6.0</td>\n",
       "      <td>7</td>\n",
       "      <td>21.168384</td>\n",
       "      <td>21.168384</td>\n",
       "      <td>pobre</td>\n",
       "      <td>0</td>\n",
       "      <td>6</td>\n",
       "      <td>0.0</td>\n",
       "      <td>583.0</td>\n",
       "      <td>1.0</td>\n",
       "      <td>35.0</td>\n",
       "      <td>12</td>\n",
       "      <td>6</td>\n",
       "      <td>1.0</td>\n",
       "    </tr>\n",
       "    <tr>\n",
       "      <th>3</th>\n",
       "      <td>1.0</td>\n",
       "      <td>0.0</td>\n",
       "      <td>4.473</td>\n",
       "      <td>1.0</td>\n",
       "      <td>7.0</td>\n",
       "      <td>7</td>\n",
       "      <td>21.168384</td>\n",
       "      <td>21.168384</td>\n",
       "      <td>pobre</td>\n",
       "      <td>0</td>\n",
       "      <td>6</td>\n",
       "      <td>0.0</td>\n",
       "      <td>583.0</td>\n",
       "      <td>1.0</td>\n",
       "      <td>35.0</td>\n",
       "      <td>13</td>\n",
       "      <td>6</td>\n",
       "      <td>1.0</td>\n",
       "    </tr>\n",
       "    <tr>\n",
       "      <th>4</th>\n",
       "      <td>0.0</td>\n",
       "      <td>0.0</td>\n",
       "      <td>4.473</td>\n",
       "      <td>1.0</td>\n",
       "      <td>2.0</td>\n",
       "      <td>7</td>\n",
       "      <td>21.168384</td>\n",
       "      <td>21.168384</td>\n",
       "      <td>pobre</td>\n",
       "      <td>0</td>\n",
       "      <td>6</td>\n",
       "      <td>0.0</td>\n",
       "      <td>583.0</td>\n",
       "      <td>1.0</td>\n",
       "      <td>35.0</td>\n",
       "      <td>8</td>\n",
       "      <td>2</td>\n",
       "      <td>1.0</td>\n",
       "    </tr>\n",
       "  </tbody>\n",
       "</table>\n",
       "</div>"
      ],
      "text/plain": [
       "   sex  indig  dist_sec   sc  grc  fam_n   min_dist   dist_cap   poor  \\\n",
       "0  0.0    0.0     4.473  1.0  7.0      7  21.168384  21.168384  pobre   \n",
       "1  0.0    0.0     4.473  1.0  8.0      7  21.168384  21.168384  pobre   \n",
       "2  1.0    0.0     4.473  1.0  6.0      7  21.168384  21.168384  pobre   \n",
       "3  1.0    0.0     4.473  1.0  7.0      7  21.168384  21.168384  pobre   \n",
       "4  0.0    0.0     4.473  1.0  2.0      7  21.168384  21.168384  pobre   \n",
       "\n",
       "  progresa  hohedu  hohwag  welfare_index  hohsex  hohage  age  grc97  sc97  \n",
       "0        0       6     0.0          583.0     1.0    35.0   13      7   1.0  \n",
       "1        0       6     0.0          583.0     1.0    35.0   14      7   1.0  \n",
       "2        0       6     0.0          583.0     1.0    35.0   12      6   1.0  \n",
       "3        0       6     0.0          583.0     1.0    35.0   13      6   1.0  \n",
       "4        0       6     0.0          583.0     1.0    35.0    8      2   1.0  "
      ]
     },
     "execution_count": 4,
     "metadata": {},
     "output_type": "execute_result"
    }
   ],
   "source": [
    "# drop the irrelevant variables year, folnum, village\n",
    "pdf_cleaned = pdf.drop(['year','folnum','village'], axis=1)\n",
    "pdf_cleaned.head()"
   ]
  },
  {
   "cell_type": "markdown",
   "metadata": {},
   "source": [
    "##### SUMMARY OF STATS  and FIND THE NUMBER OF MISSINGS"
   ]
  },
  {
   "cell_type": "code",
   "execution_count": 5,
   "metadata": {},
   "outputs": [
    {
     "data": {
      "text/html": [
       "<div>\n",
       "<style scoped>\n",
       "    .dataframe tbody tr th:only-of-type {\n",
       "        vertical-align: middle;\n",
       "    }\n",
       "\n",
       "    .dataframe tbody tr th {\n",
       "        vertical-align: top;\n",
       "    }\n",
       "\n",
       "    .dataframe thead th {\n",
       "        text-align: right;\n",
       "    }\n",
       "</style>\n",
       "<table border=\"1\" class=\"dataframe\">\n",
       "  <thead>\n",
       "    <tr style=\"text-align: right;\">\n",
       "      <th></th>\n",
       "      <th>mean</th>\n",
       "      <th>std</th>\n",
       "      <th>null</th>\n",
       "    </tr>\n",
       "  </thead>\n",
       "  <tbody>\n",
       "    <tr>\n",
       "      <th>age</th>\n",
       "      <td>11.366460</td>\n",
       "      <td>3.167744</td>\n",
       "      <td>0</td>\n",
       "    </tr>\n",
       "    <tr>\n",
       "      <th>dist_cap</th>\n",
       "      <td>147.674452</td>\n",
       "      <td>76.063134</td>\n",
       "      <td>0</td>\n",
       "    </tr>\n",
       "    <tr>\n",
       "      <th>dist_sec</th>\n",
       "      <td>2.418910</td>\n",
       "      <td>2.234109</td>\n",
       "      <td>0</td>\n",
       "    </tr>\n",
       "    <tr>\n",
       "      <th>fam_n</th>\n",
       "      <td>7.215715</td>\n",
       "      <td>2.352900</td>\n",
       "      <td>0</td>\n",
       "    </tr>\n",
       "    <tr>\n",
       "      <th>grc</th>\n",
       "      <td>3.963537</td>\n",
       "      <td>2.499063</td>\n",
       "      <td>6549</td>\n",
       "    </tr>\n",
       "    <tr>\n",
       "      <th>grc97</th>\n",
       "      <td>3.705372</td>\n",
       "      <td>2.572387</td>\n",
       "      <td>0</td>\n",
       "    </tr>\n",
       "    <tr>\n",
       "      <th>hohage</th>\n",
       "      <td>44.436717</td>\n",
       "      <td>11.620372</td>\n",
       "      <td>10</td>\n",
       "    </tr>\n",
       "    <tr>\n",
       "      <th>hohedu</th>\n",
       "      <td>2.768104</td>\n",
       "      <td>2.656106</td>\n",
       "      <td>0</td>\n",
       "    </tr>\n",
       "    <tr>\n",
       "      <th>hohsex</th>\n",
       "      <td>0.925185</td>\n",
       "      <td>0.263095</td>\n",
       "      <td>20</td>\n",
       "    </tr>\n",
       "    <tr>\n",
       "      <th>hohwag</th>\n",
       "      <td>586.985312</td>\n",
       "      <td>788.133664</td>\n",
       "      <td>0</td>\n",
       "    </tr>\n",
       "    <tr>\n",
       "      <th>indig</th>\n",
       "      <td>0.298324</td>\n",
       "      <td>0.457525</td>\n",
       "      <td>300</td>\n",
       "    </tr>\n",
       "    <tr>\n",
       "      <th>min_dist</th>\n",
       "      <td>103.447520</td>\n",
       "      <td>42.089441</td>\n",
       "      <td>0</td>\n",
       "    </tr>\n",
       "    <tr>\n",
       "      <th>poor</th>\n",
       "      <td>0.846498</td>\n",
       "      <td>0.360473</td>\n",
       "      <td>0</td>\n",
       "    </tr>\n",
       "    <tr>\n",
       "      <th>progresa</th>\n",
       "      <td>0.615663</td>\n",
       "      <td>0.486441</td>\n",
       "      <td>0</td>\n",
       "    </tr>\n",
       "    <tr>\n",
       "      <th>sc</th>\n",
       "      <td>0.819818</td>\n",
       "      <td>0.384342</td>\n",
       "      <td>8453</td>\n",
       "    </tr>\n",
       "    <tr>\n",
       "      <th>sc97</th>\n",
       "      <td>0.813922</td>\n",
       "      <td>0.389172</td>\n",
       "      <td>3872</td>\n",
       "    </tr>\n",
       "    <tr>\n",
       "      <th>sex</th>\n",
       "      <td>0.512211</td>\n",
       "      <td>0.499854</td>\n",
       "      <td>24</td>\n",
       "    </tr>\n",
       "    <tr>\n",
       "      <th>welfare_index</th>\n",
       "      <td>690.346564</td>\n",
       "      <td>139.491130</td>\n",
       "      <td>210</td>\n",
       "    </tr>\n",
       "  </tbody>\n",
       "</table>\n",
       "</div>"
      ],
      "text/plain": [
       "                     mean         std  null\n",
       "age             11.366460    3.167744     0\n",
       "dist_cap       147.674452   76.063134     0\n",
       "dist_sec         2.418910    2.234109     0\n",
       "fam_n            7.215715    2.352900     0\n",
       "grc              3.963537    2.499063  6549\n",
       "grc97            3.705372    2.572387     0\n",
       "hohage          44.436717   11.620372    10\n",
       "hohedu           2.768104    2.656106     0\n",
       "hohsex           0.925185    0.263095    20\n",
       "hohwag         586.985312  788.133664     0\n",
       "indig            0.298324    0.457525   300\n",
       "min_dist       103.447520   42.089441     0\n",
       "poor             0.846498    0.360473     0\n",
       "progresa         0.615663    0.486441     0\n",
       "sc               0.819818    0.384342  8453\n",
       "sc97             0.813922    0.389172  3872\n",
       "sex              0.512211    0.499854    24\n",
       "welfare_index  690.346564  139.491130   210"
      ]
     },
     "execution_count": 5,
     "metadata": {},
     "output_type": "execute_result"
    }
   ],
   "source": [
    "# sum up the null values as number of missing\n",
    "null_values = (pd.isnull(pdf_cleaned)).sum()\n",
    "# add the levels for poor and progresa\n",
    "actual_levels = {'pobre': 1, 'no pobre':0, 'basal': 1, '0': 0}\n",
    "pdf_cleaned = pdf_cleaned.replace({'poor': actual_levels, 'progresa': actual_levels})\n",
    "\n",
    "# transpose the array and keep only mean and standard deviation\n",
    "p_summary = pdf_cleaned.describe().T[['mean','std']]\n",
    "\n",
    "# order by index from a to z\n",
    "p_summary = p_summary.sort_index()\n",
    "\n",
    "# add the null value column\n",
    "p_summary = p_summary.assign(null = null_values)\n",
    "\n",
    "p_summary"
   ]
  },
  {
   "cell_type": "markdown",
   "metadata": {},
   "source": [
    "yes it fit in within the documentation as it should be 0,1 values?"
   ]
  },
  {
   "cell_type": "markdown",
   "metadata": {
    "ein.tags": "worksheet-0",
    "slideshow": {
     "slide_type": "-"
    }
   },
   "source": [
    "### 1.2 Differences at baseline?\n",
    "Now let's investigate the differences in baseline.  Are the baseline (1997) demographic characteristics **for the poor**\n",
    "different in treatment and control villages?\n",
    "\n",
    "I suggest you to use a T-Test to\n",
    "determine whether there is a statistically significant difference in\n",
    "the average values of each of the variables in the dataset. Focus only\n",
    "on the data from 1997 for poor.\n",
    "\n",
    "Present your results in a single table with the following columns and 14 (or so) rows:\n",
    "\n",
    "| Variable name | Average value (Treatment villages) | Average value (Control villages) | Difference (Treat - Control) | p-value |\n",
    "|------|------|------|------|------|\n",
    "|Male|?|?|?|?|\n"
   ]
  },
  {
   "cell_type": "code",
   "execution_count": 6,
   "metadata": {},
   "outputs": [],
   "source": [
    "#### for the treatment group \n",
    "# define treatment group 97 + pobre + basal\n",
    "df_t = pdf[(pdf.year == 97) & (pdf.poor == 'pobre') & (pdf.progresa == 'basal')]\n",
    "\n",
    "# drop the unnecessary variables\n",
    "df_t_mean = df_t.drop(['year','folnum','village'], axis=1).describe()\n",
    "\n",
    "# transpose and sort by index\n",
    "df_t_mean = df_t_mean.T[['mean']].sort_index()\n",
    "\n",
    "\n",
    "\n",
    "#### for the control group\n",
    "# treatment group 97 + pobre + basal\n",
    "df_c = pdf[(pdf.year ==97) & (pdf.poor =='pobre') & (pdf.progresa =='0')]\n",
    "\n",
    "# drop the unnecessary variables\n",
    "df_c_mean = df_c.drop(['year','folnum','village'], axis=1).describe()\n",
    "\n",
    "# transpose and sort by index\n",
    "df_c_mean = df_c_mean.T[['mean']].sort_index()\n",
    "\n",
    "\n",
    "# difference between control and treatment\n",
    "df_difference = df_t_mean - df_c_mean\n",
    "\n",
    "# Concatenate the df_t_mean, df_c_mean and df_difference into one dataframe\n",
    "df_tcd = pd.concat([df_t_mean, df_c_mean, df_difference], axis=1) \n",
    "df_t_cleaned = df_t.dropna() # drop the rows with null values\n",
    "df_c_cleaned = df_c.dropna() # drop the rows with null values"
   ]
  },
  {
   "cell_type": "code",
   "execution_count": 7,
   "metadata": {},
   "outputs": [
    {
     "data": {
      "text/plain": [
       "[0.24761554848946915,\n",
       " '0.0034141936360538474*',\n",
       " 0.9670949201081269,\n",
       " 0.4236087919095054,\n",
       " 0.39477501418400196,\n",
       " 0.39477501418400196,\n",
       " '1.925766966551876e-06*',\n",
       " '0.026132392868595904*',\n",
       " 0.47812322422242826,\n",
       " '0.00027276608533743804*',\n",
       " 0.11837601031859153,\n",
       " '1.936660975824195e-18*',\n",
       " 0.09117958597336943,\n",
       " 0.09117958597336943,\n",
       " '0.01956962017174901*',\n",
       " '0.00037240425899663014*']"
      ]
     },
     "execution_count": 7,
     "metadata": {},
     "output_type": "execute_result"
    }
   ],
   "source": [
    "# Calulate p-value\n",
    "plist = []\n",
    "for row in range(df_tcd.shape[0]): # get the row number\n",
    "    t,p = stats.ttest_ind(df_t_cleaned[df_tcd.index[row]], df_c_cleaned[df_tcd.index[row]])\n",
    "    if p < 0.05:\n",
    "        p = str(p) + '*' # Add a star to the pvalues that are smaller than 0.05\n",
    "    plist.append(p)\n",
    "plist"
   ]
  },
  {
   "cell_type": "code",
   "execution_count": 8,
   "metadata": {},
   "outputs": [
    {
     "data": {
      "text/html": [
       "<div>\n",
       "<style scoped>\n",
       "    .dataframe tbody tr th:only-of-type {\n",
       "        vertical-align: middle;\n",
       "    }\n",
       "\n",
       "    .dataframe tbody tr th {\n",
       "        vertical-align: top;\n",
       "    }\n",
       "\n",
       "    .dataframe thead th {\n",
       "        text-align: right;\n",
       "    }\n",
       "</style>\n",
       "<table border=\"1\" class=\"dataframe\">\n",
       "  <thead>\n",
       "    <tr style=\"text-align: right;\">\n",
       "      <th></th>\n",
       "      <th>Average value (Control villages)</th>\n",
       "      <th>Average value (Treatment villages)</th>\n",
       "      <th>Difference (Treatment - Control)</th>\n",
       "      <th>p-value</th>\n",
       "    </tr>\n",
       "  </thead>\n",
       "  <tbody>\n",
       "    <tr>\n",
       "      <th>age</th>\n",
       "      <td>10.742023</td>\n",
       "      <td>10.716991</td>\n",
       "      <td>-0.025032</td>\n",
       "      <td>0.247616</td>\n",
       "    </tr>\n",
       "    <tr>\n",
       "      <th>dist_cap</th>\n",
       "      <td>153.769730</td>\n",
       "      <td>150.829074</td>\n",
       "      <td>-2.940656</td>\n",
       "      <td>0.0034141936360538474*</td>\n",
       "    </tr>\n",
       "    <tr>\n",
       "      <th>dist_sec</th>\n",
       "      <td>2.507662</td>\n",
       "      <td>2.453122</td>\n",
       "      <td>-0.054540</td>\n",
       "      <td>0.967095</td>\n",
       "    </tr>\n",
       "    <tr>\n",
       "      <th>fam_n</th>\n",
       "      <td>7.302469</td>\n",
       "      <td>7.281327</td>\n",
       "      <td>-0.021142</td>\n",
       "      <td>0.423609</td>\n",
       "    </tr>\n",
       "    <tr>\n",
       "      <th>grc</th>\n",
       "      <td>3.543050</td>\n",
       "      <td>3.531599</td>\n",
       "      <td>-0.011450</td>\n",
       "      <td>0.394775</td>\n",
       "    </tr>\n",
       "    <tr>\n",
       "      <th>grc97</th>\n",
       "      <td>3.543050</td>\n",
       "      <td>3.531599</td>\n",
       "      <td>-0.011450</td>\n",
       "      <td>0.394775</td>\n",
       "    </tr>\n",
       "    <tr>\n",
       "      <th>hohage</th>\n",
       "      <td>44.276918</td>\n",
       "      <td>43.648828</td>\n",
       "      <td>-0.628090</td>\n",
       "      <td>1.925766966551876e-06*</td>\n",
       "    </tr>\n",
       "    <tr>\n",
       "      <th>hohedu</th>\n",
       "      <td>2.590348</td>\n",
       "      <td>2.663139</td>\n",
       "      <td>0.072791</td>\n",
       "      <td>0.026132392868595904*</td>\n",
       "    </tr>\n",
       "    <tr>\n",
       "      <th>hohsex</th>\n",
       "      <td>0.922947</td>\n",
       "      <td>0.924656</td>\n",
       "      <td>0.001709</td>\n",
       "      <td>0.478123</td>\n",
       "    </tr>\n",
       "    <tr>\n",
       "      <th>hohwag</th>\n",
       "      <td>573.163558</td>\n",
       "      <td>544.339544</td>\n",
       "      <td>-28.824015</td>\n",
       "      <td>0.00027276608533743804*</td>\n",
       "    </tr>\n",
       "    <tr>\n",
       "      <th>indig</th>\n",
       "      <td>0.332207</td>\n",
       "      <td>0.325986</td>\n",
       "      <td>-0.006222</td>\n",
       "      <td>0.118376</td>\n",
       "    </tr>\n",
       "    <tr>\n",
       "      <th>min_dist</th>\n",
       "      <td>103.237854</td>\n",
       "      <td>107.152915</td>\n",
       "      <td>3.915060</td>\n",
       "      <td>1.936660975824195e-18*</td>\n",
       "    </tr>\n",
       "    <tr>\n",
       "      <th>sc</th>\n",
       "      <td>0.815186</td>\n",
       "      <td>0.822697</td>\n",
       "      <td>0.007511</td>\n",
       "      <td>0.0911796</td>\n",
       "    </tr>\n",
       "    <tr>\n",
       "      <th>sc97</th>\n",
       "      <td>0.815186</td>\n",
       "      <td>0.822697</td>\n",
       "      <td>0.007511</td>\n",
       "      <td>0.0911796</td>\n",
       "    </tr>\n",
       "    <tr>\n",
       "      <th>sex</th>\n",
       "      <td>0.505052</td>\n",
       "      <td>0.519317</td>\n",
       "      <td>0.014265</td>\n",
       "      <td>0.01956962017174901*</td>\n",
       "    </tr>\n",
       "    <tr>\n",
       "      <th>welfare_index</th>\n",
       "      <td>659.579100</td>\n",
       "      <td>655.428377</td>\n",
       "      <td>-4.150723</td>\n",
       "      <td>0.00037240425899663014*</td>\n",
       "    </tr>\n",
       "  </tbody>\n",
       "</table>\n",
       "</div>"
      ],
      "text/plain": [
       "               Average value (Control villages)  \\\n",
       "age                                   10.742023   \n",
       "dist_cap                             153.769730   \n",
       "dist_sec                               2.507662   \n",
       "fam_n                                  7.302469   \n",
       "grc                                    3.543050   \n",
       "grc97                                  3.543050   \n",
       "hohage                                44.276918   \n",
       "hohedu                                 2.590348   \n",
       "hohsex                                 0.922947   \n",
       "hohwag                               573.163558   \n",
       "indig                                  0.332207   \n",
       "min_dist                             103.237854   \n",
       "sc                                     0.815186   \n",
       "sc97                                   0.815186   \n",
       "sex                                    0.505052   \n",
       "welfare_index                        659.579100   \n",
       "\n",
       "               Average value (Treatment villages)  \\\n",
       "age                                     10.716991   \n",
       "dist_cap                               150.829074   \n",
       "dist_sec                                 2.453122   \n",
       "fam_n                                    7.281327   \n",
       "grc                                      3.531599   \n",
       "grc97                                    3.531599   \n",
       "hohage                                  43.648828   \n",
       "hohedu                                   2.663139   \n",
       "hohsex                                   0.924656   \n",
       "hohwag                                 544.339544   \n",
       "indig                                    0.325986   \n",
       "min_dist                               107.152915   \n",
       "sc                                       0.822697   \n",
       "sc97                                     0.822697   \n",
       "sex                                      0.519317   \n",
       "welfare_index                          655.428377   \n",
       "\n",
       "               Difference (Treatment - Control)                  p-value  \n",
       "age                                   -0.025032                 0.247616  \n",
       "dist_cap                              -2.940656   0.0034141936360538474*  \n",
       "dist_sec                              -0.054540                 0.967095  \n",
       "fam_n                                 -0.021142                 0.423609  \n",
       "grc                                   -0.011450                 0.394775  \n",
       "grc97                                 -0.011450                 0.394775  \n",
       "hohage                                -0.628090   1.925766966551876e-06*  \n",
       "hohedu                                 0.072791    0.026132392868595904*  \n",
       "hohsex                                 0.001709                 0.478123  \n",
       "hohwag                               -28.824015  0.00027276608533743804*  \n",
       "indig                                 -0.006222                 0.118376  \n",
       "min_dist                               3.915060   1.936660975824195e-18*  \n",
       "sc                                     0.007511                0.0911796  \n",
       "sc97                                   0.007511                0.0911796  \n",
       "sex                                    0.014265     0.01956962017174901*  \n",
       "welfare_index                         -4.150723  0.00037240425899663014*  "
      ]
     },
     "execution_count": 8,
     "metadata": {},
     "output_type": "execute_result"
    }
   ],
   "source": [
    "# Consolidate the series into a dataframe\n",
    "t_result = pd.DataFrame({'Average value (Treatment villages)': df_tcd.iloc[:, 0], \\\n",
    "                         'Average value (Control villages)': df_tcd.iloc[:, 1], \\\n",
    "                         'Difference (Treatment - Control)': df_tcd.iloc[:, 2], \\\n",
    "                         'p-value': plist})\n",
    "t_result"
   ]
  },
  {
   "cell_type": "markdown",
   "metadata": {
    "ein.tags": "worksheet-0",
    "slideshow": {
     "slide_type": "-"
    }
   },
   "source": [
    "### 1.3 Interpretation\n",
    "\n",
    "* A: Are there statistically significant differences between treatment and control villages as baseline? \n",
    "* B: Why does it matter if there are differences at baseline?\n",
    "* C: What does this imply about how to measure the impact of the treatment?"
   ]
  },
  {
   "cell_type": "markdown",
   "metadata": {
    "ein.tags": "worksheet-0",
    "slideshow": {
     "slide_type": "-"
    }
   },
   "source": [
    "##### Discussion\n",
    "- A: as shown in the list, variables(dist_cap, hohage, hohedu, min_dist, sex, welfare_index) are statistically significant between treatment and control villages as baseline as they have a p value that is smaller than 0.05\n",
    "- B: If there are differences at baseline, then the groups may not be randomly choosen. As experiments require the treament and control group to be randomly selected, we may have a hard time finding the causality of the treatment due to the non random selected groups\n",
    "- C: As there are quite a few variables that have statistically significant differences between the treatment and the control villages as baseline, we need to further investigate the differences between the treatment and the control group by adding control variables."
   ]
  },
  {
   "cell_type": "markdown",
   "metadata": {
    "ein.tags": "worksheet-0",
    "slideshow": {
     "slide_type": "-"
    }
   },
   "source": [
    "### 1.4 Graphical exploration, part 1\n",
    "\n",
    "For each level of household head education, compute the average\n",
    "enrollment rate in 1997. Create a scatterplot that shows this\n",
    "relationship. What do you notice?"
   ]
  },
  {
   "cell_type": "code",
   "execution_count": 9,
   "metadata": {
    "autoscroll": false,
    "ein.tags": "worksheet-0",
    "slideshow": {
     "slide_type": "-"
    }
   },
   "outputs": [
    {
     "data": {
      "text/plain": [
       "Text(0,0.5,'sc -- enrollment rate')"
      ]
     },
     "execution_count": 9,
     "metadata": {},
     "output_type": "execute_result"
    },
    {
     "data": {
      "image/png": "[encoded data removed]",
      "text/plain": [
       "<matplotlib.figure.Figure at 0x10eec3908>"
      ]
     },
     "metadata": {},
     "output_type": "display_data"
    }
   ],
   "source": [
    "# finding the x and y for the graph\n",
    "x = pdf.hohedu.unique()\n",
    "y = pdf[(pdf.year == 97)].groupby('hohedu')['sc'].mean()\n",
    "\n",
    "plt.scatter(x, y)\n",
    "plt.xlabel('hohedu -- years of schooling of head of household')\n",
    "plt.ylabel('sc -- enrollment rate')"
   ]
  },
  {
   "cell_type": "markdown",
   "metadata": {
    "ein.tags": "worksheet-0",
    "slideshow": {
     "slide_type": "-"
    }
   },
   "source": [
    "##### Discussion\n",
    "- as shown in the graph, as the years of schooling of head of household goes higher, the enrollment rate goes higher --> indicating that the higher educated household heads may care more about their children's enrollment in school. However, there is a sharp drop at the year of 20 years of schooling of head of household and this may be an outlier or it could be some other reasons."
   ]
  },
  {
   "cell_type": "markdown",
   "metadata": {
    "ein.tags": "worksheet-0",
    "slideshow": {
     "slide_type": "-"
    }
   },
   "source": [
    "### 1.5 Graphical exploration, part 2\n",
    "\n",
    "Create a histogram of village enrollment rates **among poor households\n",
    "in treated villages**, before and after treatment.  Specifically, for\n",
    "each village, calculate the average rate of enrollment of poor\n",
    "households in treated villages in 1997, then compute the average rate\n",
    "of enrollment of poor households in treated villages in 1998. Create\n",
    "two separate histograms showing the distribution of these average\n",
    "enrollments rates, one histogram for 1997 and one histogram for\n",
    "1998. On each histogram, draw a vertical line that intersects the\n",
    "x-axis at the average value (across all households). Does there appear\n",
    "to be a difference? Is this difference statistically significant?"
   ]
  },
  {
   "cell_type": "code",
   "execution_count": 10,
   "metadata": {
    "autoscroll": false,
    "ein.tags": "worksheet-0",
    "slideshow": {
     "slide_type": "-"
    }
   },
   "outputs": [
    {
     "data": {
      "text/plain": [
       "<matplotlib.lines.Line2D at 0x1a1ec62b38>"
      ]
     },
     "execution_count": 10,
     "metadata": {},
     "output_type": "execute_result"
    },
    {
     "data": {
      "image/png": "[encoded data removed]",
      "text/plain": [
       "<matplotlib.figure.Figure at 0x1a1ec625f8>"
      ]
     },
     "metadata": {},
     "output_type": "display_data"
    }
   ],
   "source": [
    "# for 1997 treatment group\n",
    "#filter and leave only the poor treated in 1997\n",
    "df_poor_97 = pdf[(pdf.poor == 'pobre') & (pdf.progresa == 'basal') & (pdf.year == 97)] \n",
    "\n",
    "# group by village\n",
    "df_poor_97_group = df_poor_97.groupby('village')[['sc']].mean().reset_index() \n",
    "\n",
    "# get the mean of the enrollment rate of the poor treated in 1997\n",
    "sc_mean_97 = df_poor_97['sc'].mean()\n",
    "\n",
    "# plot the graph\n",
    "plt.hist('sc', data=df_poor_97_group, bins = 60)\n",
    "plt.xlabel('Enrollment Rate in 1997')\n",
    "plt.ylabel('number of villages')\n",
    "plt.axvline(sc_mean_97, color='pink')"
   ]
  },
  {
   "cell_type": "code",
   "execution_count": 11,
   "metadata": {},
   "outputs": [
    {
     "data": {
      "text/plain": [
       "<matplotlib.lines.Line2D at 0x1a221b0da0>"
      ]
     },
     "execution_count": 11,
     "metadata": {},
     "output_type": "execute_result"
    },
    {
     "data": {
      "image/png": "[encoded data removed]",
      "text/plain": [
       "<matplotlib.figure.Figure at 0x1a156aafd0>"
      ]
     },
     "metadata": {},
     "output_type": "display_data"
    }
   ],
   "source": [
    "# for 1998 treatment group\n",
    "#filter and leave only the poor treated in 1998\n",
    "df_poor_98 = pdf[(pdf.poor == 'pobre') & (pdf.progresa == 'basal') & (pdf.year == 98)]\n",
    "\n",
    "# group by village\n",
    "df_poor_98_group = df_poor_98.groupby('village')[['sc']].mean().reset_index() \n",
    "\n",
    "# get the mean of the enrollment rate of the poor treated in 1998\n",
    "sc_mean_98 = df_poor_98['sc'].mean()\n",
    "\n",
    "# plot the graph\n",
    "plt.hist('sc', data=df_poor_98_group, bins=60)\n",
    "plt.xlabel('Enrollment Rate in 1998')\n",
    "plt.ylabel('number of villages')\n",
    "plt.axvline(sc_mean_98, color = 'red')\n",
    "plt.axvline(sc_mean_97, color = 'pink')"
   ]
  },
  {
   "cell_type": "code",
   "execution_count": 12,
   "metadata": {},
   "outputs": [
    {
     "name": "stdout",
     "output_type": "stream",
     "text": [
      "sc mean for 1997:  0.8226968874033842 \n",
      "sc mean for 1997:  0.8464791213954308 \n",
      "t-value:  2.015713486515638 \n",
      "p-value:  0.04424870036572115\n"
     ]
    }
   ],
   "source": [
    "# get the t test and p value for the 98 and 97 for comparison\n",
    "t, p = stats.ttest_ind(df_poor_98_group['sc'], df_poor_97_group['sc'])\n",
    "print (\n",
    "    \"sc mean for 1997: \", sc_mean_97, \"\\n\" \n",
    "    \"sc mean for 1997: \", sc_mean_98, \"\\n\" \n",
    "    \"t-value: \", t, \"\\n\" \n",
    "    \"p-value: \", p)"
   ]
  },
  {
   "cell_type": "markdown",
   "metadata": {
    "ein.tags": "worksheet-0",
    "slideshow": {
     "slide_type": "-"
    }
   },
   "source": [
    "##### Discussion\n",
    "- as shown in the graph, the mean for the enrollment rate experienced a slight shift towards aroudn 0.845 from 0.82, meaning that the enrollment rate does get slightly improved after the program is implemented\n",
    "- p = 0.044 < 0.05 --> the result differences between the mean is statistically significant "
   ]
  },
  {
   "cell_type": "markdown",
   "metadata": {
    "ein.tags": "worksheet-0",
    "slideshow": {
     "slide_type": "-"
    }
   },
   "source": [
    "## Part 2: Measuring Impact\n",
    "\n",
    "Our goal is to estimate the causal impact of the PROGRESA program on\n",
    "the social and economic outcomes of individuals in Mexico. We will\n",
    "focus on the impact of the program on the poor (those with\n",
    "poor=='pobre'), since only the poor were eligible to receive the\n",
    "PROGRESA assistance.\n",
    "\n",
    "### 2.1 Cross-Sectional Estimator: T-test\n",
    "\n",
    "Begin by estimating the impact of Progresa using \"simple differences.\"\n",
    "Restricting yourself to data from 1998 (after treatment), calculate\n",
    "the average enrollment rate among **poor** households in the Treatment\n",
    "villages and the average enrollment rate among **poor** households in\n",
    "the control villages. Use a t-test to determine if this difference is\n",
    "statistically significant. What do you conclude?"
   ]
  },
  {
   "cell_type": "code",
   "execution_count": 13,
   "metadata": {
    "autoscroll": false,
    "ein.tags": "worksheet-0",
    "slideshow": {
     "slide_type": "-"
    }
   },
   "outputs": [
    {
     "name": "stdout",
     "output_type": "stream",
     "text": [
      "average enrollment rate among poor households in the Treatment villages:  84.65 % \n",
      " average enrollment rate among poor households in the control villages:  80.76 % \n",
      " t-test and p-value:  Ttest_indResult(statistic=8.358720567418374, pvalue=6.636344447523235e-17) \n",
      " difference between treatment mean and control mean:  0.0388421646651228\n"
     ]
    }
   ],
   "source": [
    "# create df of the poor with treatment and the poor in control in the year of 1998\n",
    "df_tpoor = pdf[((pdf.poor == 'pobre') & (pdf.progresa == 'basal') & (pdf.year == 98))] \n",
    "df_cpoor = pdf[((pdf.poor == 'pobre') & (pdf.progresa == '0') & (pdf.year == 98))] \n",
    "\n",
    "# get the average enrollment of the treatment and the control group\n",
    "df_tpoor_mean = df_tpoor.sc.mean()\n",
    "df_cpoor_mean = df_cpoor.sc.mean()\n",
    "\n",
    "# conducting t test\n",
    "t_test_98 = stats.ttest_ind(df_tpoor.sc.dropna(), df_cpoor.sc.dropna())\n",
    "t_test_98\n",
    "\n",
    "# print result\n",
    "print(\"average enrollment rate among poor households in the Treatment villages: \", round(float(df_tpoor_mean)*100,2), \"%\", \"\\n\", \n",
    "      \"average enrollment rate among poor households in the control villages: \", round(float(df_cpoor_mean)*100,2), \"%\", \"\\n\", \n",
    "      \"t-test and p-value: \", t_test_98,\"\\n\", \n",
    "    \"difference between treatment mean and control mean: \", (df_tpoor_mean - df_cpoor_mean) \n",
    ")"
   ]
  },
  {
   "cell_type": "markdown",
   "metadata": {
    "ein.tags": "worksheet-0",
    "slideshow": {
     "slide_type": "-"
    }
   },
   "source": [
    "##### Discussion\n",
    "- avg enrollment rate increased by around 4%\n",
    "- p value is much smaller than 0.05 --> meaning that the difference is statistically significant aka the treatment group progress is working very well "
   ]
  },
  {
   "cell_type": "markdown",
   "metadata": {
    "ein.tags": "worksheet-0",
    "slideshow": {
     "slide_type": "-"
    }
   },
   "source": [
    "### 2.2 Cross-Sectional Estimator: Regression\n",
    "\n",
    "Estimate the effects of Progresa on enrollment using a regression\n",
    "model, by regressing the 1998 enrollment rates **of the poor** on\n",
    "treatment assignment.  Do not include any additional control\n",
    "variables.\n",
    "Discuss the following:\n",
    "\n",
    "* Based on this model, how much did Progresa increase the likelihood of a child enrolling?\n",
    "* How does your regression estimate compare to your t-test estimate from part 2.1?\n",
    "* Based on this regression model, can we reject the null hypothesis that the treatment effects are zero? \n",
    "* What is the counterfactual assumption underlying this regression?\n",
    "\n",
    "Note: I recommend to use statsmodels.formula.api as this allows to use\n",
    "convenient R-style formulas and provedes nice summaries of the results."
   ]
  },
  {
   "cell_type": "code",
   "execution_count": 14,
   "metadata": {
    "autoscroll": false,
    "ein.tags": "worksheet-0",
    "slideshow": {
     "slide_type": "-"
    }
   },
   "outputs": [
    {
     "data": {
      "text/html": [
       "<table class=\"simpletable\">\n",
       "<caption>OLS Regression Results</caption>\n",
       "<tr>\n",
       "  <th>Dep. Variable:</th>           <td>sc</td>        <th>  R-squared:         </th> <td>   0.003</td> \n",
       "</tr>\n",
       "<tr>\n",
       "  <th>Model:</th>                   <td>OLS</td>       <th>  Adj. R-squared:    </th> <td>   0.002</td> \n",
       "</tr>\n",
       "<tr>\n",
       "  <th>Method:</th>             <td>Least Squares</td>  <th>  F-statistic:       </th> <td>   65.64</td> \n",
       "</tr>\n",
       "<tr>\n",
       "  <th>Date:</th>             <td>Thu, 26 Apr 2018</td> <th>  Prob (F-statistic):</th> <td>5.66e-16</td> \n",
       "</tr>\n",
       "<tr>\n",
       "  <th>Time:</th>                 <td>23:06:01</td>     <th>  Log-Likelihood:    </th> <td> -11171.</td> \n",
       "</tr>\n",
       "<tr>\n",
       "  <th>No. Observations:</th>      <td> 26155</td>      <th>  AIC:               </th> <td>2.235e+04</td>\n",
       "</tr>\n",
       "<tr>\n",
       "  <th>Df Residuals:</th>          <td> 26153</td>      <th>  BIC:               </th> <td>2.236e+04</td>\n",
       "</tr>\n",
       "<tr>\n",
       "  <th>Df Model:</th>              <td>     1</td>      <th>                     </th>     <td> </td>    \n",
       "</tr>\n",
       "<tr>\n",
       "  <th>Covariance Type:</th>      <td>nonrobust</td>    <th>                     </th>     <td> </td>    \n",
       "</tr>\n",
       "</table>\n",
       "<table class=\"simpletable\">\n",
       "<tr>\n",
       "         <td></td>           <th>coef</th>     <th>std err</th>      <th>t</th>      <th>P>|t|</th>  <th>[0.025</th>    <th>0.975]</th>  \n",
       "</tr>\n",
       "<tr>\n",
       "  <th>Intercept</th>      <td>    0.8109</td> <td>    0.004</td> <td>  217.190</td> <td> 0.000</td> <td>    0.804</td> <td>    0.818</td>\n",
       "</tr>\n",
       "<tr>\n",
       "  <th>progresa_basal</th> <td>    0.0383</td> <td>    0.005</td> <td>    8.102</td> <td> 0.000</td> <td>    0.029</td> <td>    0.048</td>\n",
       "</tr>\n",
       "</table>\n",
       "<table class=\"simpletable\">\n",
       "<tr>\n",
       "  <th>Omnibus:</th>       <td>7487.800</td> <th>  Durbin-Watson:     </th> <td>   1.734</td> \n",
       "</tr>\n",
       "<tr>\n",
       "  <th>Prob(Omnibus):</th>  <td> 0.000</td>  <th>  Jarque-Bera (JB):  </th> <td>15756.374</td>\n",
       "</tr>\n",
       "<tr>\n",
       "  <th>Skew:</th>           <td>-1.796</td>  <th>  Prob(JB):          </th> <td>    0.00</td> \n",
       "</tr>\n",
       "<tr>\n",
       "  <th>Kurtosis:</th>       <td> 4.245</td>  <th>  Cond. No.          </th> <td>    3.02</td> \n",
       "</tr>\n",
       "</table>"
      ],
      "text/plain": [
       "<class 'statsmodels.iolib.summary.Summary'>\n",
       "\"\"\"\n",
       "                            OLS Regression Results                            \n",
       "==============================================================================\n",
       "Dep. Variable:                     sc   R-squared:                       0.003\n",
       "Model:                            OLS   Adj. R-squared:                  0.002\n",
       "Method:                 Least Squares   F-statistic:                     65.64\n",
       "Date:                Thu, 26 Apr 2018   Prob (F-statistic):           5.66e-16\n",
       "Time:                        23:06:01   Log-Likelihood:                -11171.\n",
       "No. Observations:               26155   AIC:                         2.235e+04\n",
       "Df Residuals:                   26153   BIC:                         2.236e+04\n",
       "Df Model:                           1                                         \n",
       "Covariance Type:            nonrobust                                         \n",
       "==================================================================================\n",
       "                     coef    std err          t      P>|t|      [0.025      0.975]\n",
       "----------------------------------------------------------------------------------\n",
       "Intercept          0.8109      0.004    217.190      0.000       0.804       0.818\n",
       "progresa_basal     0.0383      0.005      8.102      0.000       0.029       0.048\n",
       "==============================================================================\n",
       "Omnibus:                     7487.800   Durbin-Watson:                   1.734\n",
       "Prob(Omnibus):                  0.000   Jarque-Bera (JB):            15756.374\n",
       "Skew:                          -1.796   Prob(JB):                         0.00\n",
       "Kurtosis:                       4.245   Cond. No.                         3.02\n",
       "==============================================================================\n",
       "\n",
       "Warnings:\n",
       "[1] Standard Errors assume that the covariance matrix of the errors is correctly specified.\n",
       "\"\"\""
      ]
     },
     "execution_count": 14,
     "metadata": {},
     "output_type": "execute_result"
    }
   ],
   "source": [
    "# clean the data so only work with data that do not contain null values\n",
    "pdf_cl = pdf.dropna()\n",
    "\n",
    "# getting only the data that is in poor and in the year of 98\n",
    "pdf_cl = pdf_cl[((pdf_cl.poor == 'pobre') & (pdf_cl.year == 98))]\n",
    "\n",
    "# assign treament group for progresa = 1 \n",
    "# assign control group for progresa = 0\n",
    "progresa = pd.get_dummies(pdf_cl, columns=['progresa'])\n",
    "progresa\n",
    "\n",
    "# getting only the columns we need for the single variable regression\n",
    "sregre_df = progresa[['poor', 'year', 'sc', 'progresa_0', 'progresa_basal']]\n",
    "sregre_df\n",
    "\n",
    "# run single variable linear regression\n",
    "ols_sg = smf.ols(formula='sc ~ progresa_basal', data = sregre_df).fit()\n",
    "ols_sg.summary()"
   ]
  },
  {
   "cell_type": "markdown",
   "metadata": {
    "ein.tags": "worksheet-0",
    "slideshow": {
     "slide_type": "-"
    }
   },
   "source": [
    "##### Discussion\n",
    "__Based on this model, how much did Progresa increase the likelihood of a child enrolling?__\n",
    "- as seen in the OLS regression results, the coefficient for the progresa_basal is 0.0383 --> meaning that the likelihood of the kids enrolling rate increased by 0.0383 per unit after the program is pushed to action <br>\n",
    "\n",
    "__How does your regression estimate compare to your t-test estimate from part 2.1?__\n",
    "- the slope 0.0383 is very close to the difference between treatment mean and control mean got in 2.1 --> which indicates that when a village get the progresa program, its enrollment rate will increase by around 0.0388 <br>\n",
    "\n",
    "__Based on this regression model, can we reject the null hypothesis that the treatment effects are zero?__ \n",
    "- p value is 0.000 which is way smaller than 0.05 --> indicating a statistically siggnificant result --> null hypothesis can be rejected<br>\n",
    "\n",
    "__What is the counterfactual assumption underlying this regression?__\n",
    "- counterfactual: has not exist the progresa program, the enrollment of the poor children in the villages would have been the same for both control and treatment group<br>"
   ]
  },
  {
   "cell_type": "markdown",
   "metadata": {
    "ein.tags": "worksheet-0",
    "slideshow": {
     "slide_type": "-"
    }
   },
   "source": [
    "### 2.3 Multiple Regression\n",
    "\n",
    "Re-run the above regression estimated but this time include a set of\n",
    "relevant control variables. Include, for instance, age, distance to a secondary\n",
    "school, gender, education of household head, welfare index,\n",
    "indigenous, etc.\n",
    "\n",
    "* How do the controls affect the point estimate of treatment effect?\n",
    "* How do the controls affect the standard error on the treatment effect? \n",
    "* How do you interpret the differences (or similarities) between your estimates of 2.2 and 2.3?"
   ]
  },
  {
   "cell_type": "code",
   "execution_count": 15,
   "metadata": {
    "autoscroll": false,
    "ein.tags": "worksheet-0",
    "slideshow": {
     "slide_type": "-"
    }
   },
   "outputs": [
    {
     "data": {
      "text/html": [
       "<table class=\"simpletable\">\n",
       "<caption>OLS Regression Results</caption>\n",
       "<tr>\n",
       "  <th>Dep. Variable:</th>           <td>sc</td>        <th>  R-squared:         </th> <td>   0.263</td> \n",
       "</tr>\n",
       "<tr>\n",
       "  <th>Model:</th>                   <td>OLS</td>       <th>  Adj. R-squared:    </th> <td>   0.263</td> \n",
       "</tr>\n",
       "<tr>\n",
       "  <th>Method:</th>             <td>Least Squares</td>  <th>  F-statistic:       </th> <td>   1335.</td> \n",
       "</tr>\n",
       "<tr>\n",
       "  <th>Date:</th>             <td>Thu, 26 Apr 2018</td> <th>  Prob (F-statistic):</th>  <td>  0.00</td>  \n",
       "</tr>\n",
       "<tr>\n",
       "  <th>Time:</th>                 <td>23:06:01</td>     <th>  Log-Likelihood:    </th> <td> -7207.0</td> \n",
       "</tr>\n",
       "<tr>\n",
       "  <th>No. Observations:</th>      <td> 26155</td>      <th>  AIC:               </th> <td>1.443e+04</td>\n",
       "</tr>\n",
       "<tr>\n",
       "  <th>Df Residuals:</th>          <td> 26147</td>      <th>  BIC:               </th> <td>1.450e+04</td>\n",
       "</tr>\n",
       "<tr>\n",
       "  <th>Df Model:</th>              <td>     7</td>      <th>                     </th>     <td> </td>    \n",
       "</tr>\n",
       "<tr>\n",
       "  <th>Covariance Type:</th>      <td>nonrobust</td>    <th>                     </th>     <td> </td>    \n",
       "</tr>\n",
       "</table>\n",
       "<table class=\"simpletable\">\n",
       "<tr>\n",
       "         <td></td>           <th>coef</th>     <th>std err</th>      <th>t</th>      <th>P>|t|</th>  <th>[0.025</th>    <th>0.975]</th>  \n",
       "</tr>\n",
       "<tr>\n",
       "  <th>Intercept</th>      <td>    1.5025</td> <td>    0.015</td> <td>  103.473</td> <td> 0.000</td> <td>    1.474</td> <td>    1.531</td>\n",
       "</tr>\n",
       "<tr>\n",
       "  <th>age</th>            <td>   -0.0651</td> <td>    0.001</td> <td>  -92.275</td> <td> 0.000</td> <td>   -0.066</td> <td>   -0.064</td>\n",
       "</tr>\n",
       "<tr>\n",
       "  <th>dist_sec</th>       <td>   -0.0108</td> <td>    0.001</td> <td>  -11.585</td> <td> 0.000</td> <td>   -0.013</td> <td>   -0.009</td>\n",
       "</tr>\n",
       "<tr>\n",
       "  <th>sex</th>            <td>    0.0308</td> <td>    0.004</td> <td>    7.799</td> <td> 0.000</td> <td>    0.023</td> <td>    0.039</td>\n",
       "</tr>\n",
       "<tr>\n",
       "  <th>hohedu</th>         <td>    0.0081</td> <td>    0.001</td> <td>   10.185</td> <td> 0.000</td> <td>    0.007</td> <td>    0.010</td>\n",
       "</tr>\n",
       "<tr>\n",
       "  <th>welfare_index</th>  <td> 2.907e-05</td> <td> 1.75e-05</td> <td>    1.663</td> <td> 0.096</td> <td> -5.2e-06</td> <td> 6.33e-05</td>\n",
       "</tr>\n",
       "<tr>\n",
       "  <th>indig</th>          <td>    0.0498</td> <td>    0.004</td> <td>   11.757</td> <td> 0.000</td> <td>    0.041</td> <td>    0.058</td>\n",
       "</tr>\n",
       "<tr>\n",
       "  <th>progresa_basal</th> <td>    0.0351</td> <td>    0.004</td> <td>    8.630</td> <td> 0.000</td> <td>    0.027</td> <td>    0.043</td>\n",
       "</tr>\n",
       "</table>\n",
       "<table class=\"simpletable\">\n",
       "<tr>\n",
       "  <th>Omnibus:</th>       <td>3018.892</td> <th>  Durbin-Watson:     </th> <td>   1.718</td>\n",
       "</tr>\n",
       "<tr>\n",
       "  <th>Prob(Omnibus):</th>  <td> 0.000</td>  <th>  Jarque-Bera (JB):  </th> <td>4177.185</td>\n",
       "</tr>\n",
       "<tr>\n",
       "  <th>Skew:</th>           <td>-0.968</td>  <th>  Prob(JB):          </th> <td>    0.00</td>\n",
       "</tr>\n",
       "<tr>\n",
       "  <th>Kurtosis:</th>       <td> 3.293</td>  <th>  Cond. No.          </th> <td>4.92e+03</td>\n",
       "</tr>\n",
       "</table>"
      ],
      "text/plain": [
       "<class 'statsmodels.iolib.summary.Summary'>\n",
       "\"\"\"\n",
       "                            OLS Regression Results                            \n",
       "==============================================================================\n",
       "Dep. Variable:                     sc   R-squared:                       0.263\n",
       "Model:                            OLS   Adj. R-squared:                  0.263\n",
       "Method:                 Least Squares   F-statistic:                     1335.\n",
       "Date:                Thu, 26 Apr 2018   Prob (F-statistic):               0.00\n",
       "Time:                        23:06:01   Log-Likelihood:                -7207.0\n",
       "No. Observations:               26155   AIC:                         1.443e+04\n",
       "Df Residuals:                   26147   BIC:                         1.450e+04\n",
       "Df Model:                           7                                         \n",
       "Covariance Type:            nonrobust                                         \n",
       "==================================================================================\n",
       "                     coef    std err          t      P>|t|      [0.025      0.975]\n",
       "----------------------------------------------------------------------------------\n",
       "Intercept          1.5025      0.015    103.473      0.000       1.474       1.531\n",
       "age               -0.0651      0.001    -92.275      0.000      -0.066      -0.064\n",
       "dist_sec          -0.0108      0.001    -11.585      0.000      -0.013      -0.009\n",
       "sex                0.0308      0.004      7.799      0.000       0.023       0.039\n",
       "hohedu             0.0081      0.001     10.185      0.000       0.007       0.010\n",
       "welfare_index   2.907e-05   1.75e-05      1.663      0.096    -5.2e-06    6.33e-05\n",
       "indig              0.0498      0.004     11.757      0.000       0.041       0.058\n",
       "progresa_basal     0.0351      0.004      8.630      0.000       0.027       0.043\n",
       "==============================================================================\n",
       "Omnibus:                     3018.892   Durbin-Watson:                   1.718\n",
       "Prob(Omnibus):                  0.000   Jarque-Bera (JB):             4177.185\n",
       "Skew:                          -0.968   Prob(JB):                         0.00\n",
       "Kurtosis:                       3.293   Cond. No.                     4.92e+03\n",
       "==============================================================================\n",
       "\n",
       "Warnings:\n",
       "[1] Standard Errors assume that the covariance matrix of the errors is correctly specified.\n",
       "[2] The condition number is large, 4.92e+03. This might indicate that there are\n",
       "strong multicollinearity or other numerical problems.\n",
       "\"\"\""
      ]
     },
     "execution_count": 15,
     "metadata": {},
     "output_type": "execute_result"
    }
   ],
   "source": [
    "# getting the cleaned progresa df for the multi variable regression\n",
    "mregre_df = progresa\n",
    "\n",
    "# run multivariable linear regression\n",
    "ols_mul = smf.ols(formula='sc ~ age + dist_sec + sex + hohedu + welfare_index + indig + progresa_basal', data = mregre_df).fit()\n",
    "ols_mul.summary()"
   ]
  },
  {
   "cell_type": "markdown",
   "metadata": {
    "ein.tags": "worksheet-0",
    "slideshow": {
     "slide_type": "-"
    }
   },
   "source": [
    "##### Discussion\n",
    "__How do the controls affect the point estimate of treatment effect?__\n",
    "- as the slope of progresa_basal decreased from 0.0388 to 0.0351 --> the control negatively affected the point estimate of treatment effect <br>\n",
    "\n",
    "__How do the controls affect the standard error on the treatment effect?__\n",
    "- 0.005 --> 0.004 negatively affect sd <br>\n",
    "\n",
    "__How do you interpret the differences (or similarities) between your estimates of 2.2 and 2.3?__ \n",
    "- the correlation coefficient decreases after more variables are introduced, this could mean that the newly-introduced variables are some how correlated to the y variable which is sc. We may need to further investigate other variable's influence on the enrollment rate.<br>\n"
   ]
  },
  {
   "cell_type": "markdown",
   "metadata": {
    "ein.tags": "worksheet-0",
    "slideshow": {
     "slide_type": "-"
    }
   },
   "source": [
    "### 2.4 Difference-in-Difference, version 1 (tabular)\n",
    "\n",
    "Thus far, we have computed the effects of Progresa by estimating the\n",
    "difference in 1998 enrollment rates across villages. An alternative\n",
    "approach would be to compute the treatment effect using a\n",
    "difference-in-differences framework.\n",
    "\n",
    "Begin by estimating the average treatment effects of the program for poor households using data from 1997 and 1998. Specifically, calculate:\n",
    "\n",
    "a) the difference (between 1997 and 1998) in enrollment rates among poor households in treated villages\n",
    "\n",
    "b) the difference (between 1997 and 1998) in enrollment rates among poor households in control villages.\n",
    "\n",
    "c) The difference between these two differences is your estimate.\n",
    "\n",
    "* What is your estimate of the impact, and how does it compare to your earlier (simple difference) results?\n",
    "\n",
    "* What is the counterfactual assumption underlying this estimate? \n"
   ]
  },
  {
   "cell_type": "code",
   "execution_count": 16,
   "metadata": {
    "autoscroll": false,
    "ein.tags": "worksheet-0",
    "slideshow": {
     "slide_type": "-"
    }
   },
   "outputs": [
    {
     "name": "stdout",
     "output_type": "stream",
     "text": [
      "difference in treated group:  0.023782233992046597 \n",
      " difference in control group:  -0.007549046327276487 \n",
      " diff-in-diff:  0.031331280319323085\n"
     ]
    }
   ],
   "source": [
    "# treated group\n",
    "df_t_97 = (pdf[((pdf.year==97)&(pdf.poor =='pobre')&(pdf.progresa == 'basal'))]['sc'].mean())\n",
    "df_t_98 = (pdf[((pdf.year==98)&(pdf.poor =='pobre')&(pdf.progresa == 'basal'))]['sc'].mean())\n",
    "# difference between treated groups result from 97 and 98\n",
    "t_differ = df_t_98 - df_t_97\n",
    "\n",
    "# control group\n",
    "df_c_97 = (pdf[((pdf.year==97)&(pdf.poor =='pobre')&(pdf.progresa == '0'))]['sc'].mean())\n",
    "df_c_98 = (pdf[((pdf.year==98)&(pdf.poor =='pobre')&(pdf.progresa == '0'))]['sc'].mean())\n",
    "# difference between treated groups result from 97 and 98\n",
    "c_differ = df_c_98 - df_c_97\n",
    "\n",
    "#diff-in-diff\n",
    "diff_in_diff = t_differ - c_differ\n",
    "\n",
    "print(\"difference in treated group: \", t_differ, \"\\n\", \n",
    "      \"difference in control group: \", c_differ, \"\\n\",\n",
    "      \"diff-in-diff: \", diff_in_diff)\n"
   ]
  },
  {
   "cell_type": "markdown",
   "metadata": {
    "ein.tags": "worksheet-0",
    "slideshow": {
     "slide_type": "-"
    }
   },
   "source": [
    "##### Discussion\n",
    "__What is your estimate of the impact, and how does it compare to your earlier (simple difference) results?__\n",
    "- diff-in-diff is 0.031 --> similar to the slope of 0.038 but slightly smaller <br>\n",
    "\n",
    "__What is the counterfactual assumption underlying this estimate?__\n",
    "- counterfactual: the avg change btw treatment and control would have been 0 without the treatment <br>\n"
   ]
  },
  {
   "cell_type": "markdown",
   "metadata": {
    "ein.tags": "worksheet-0",
    "slideshow": {
     "slide_type": "-"
    }
   },
   "source": [
    "### 2.5 Difference-in-Difference, version 2 (regression)\n",
    "\n",
    "Now use a regression specification to estimate the average treatment\n",
    "effects of the program in a difference-in-differences\n",
    "framework. Include at least 5 control variables.\n",
    "\n",
    "* What is your estimate of the impact of Progresa? Be very specific in\n",
    "  interpreting your coefficients and standard errors, and make sure to\n",
    "  specify exactly what units you are measuring and estimating.\n",
    "\n",
    "* How do these estimates of the treatment effect compare to the\n",
    "  estimates based on the simple difference?\n",
    "\n",
    "* How do these estimates compare to the difference-in-difference\n",
    "  estimates from 2.4 above? What accounts for these differences?\n",
    "\n",
    "* What is the counterfactual assumption underlying this regression? "
   ]
  },
  {
   "cell_type": "code",
   "execution_count": 17,
   "metadata": {
    "autoscroll": false,
    "ein.tags": "worksheet-0",
    "slideshow": {
     "slide_type": "-"
    }
   },
   "outputs": [
    {
     "data": {
      "text/html": [
       "<table class=\"simpletable\">\n",
       "<caption>OLS Regression Results</caption>\n",
       "<tr>\n",
       "  <th>Dep. Variable:</th>           <td>sc</td>        <th>  R-squared:         </th> <td>   0.279</td> \n",
       "</tr>\n",
       "<tr>\n",
       "  <th>Model:</th>                   <td>OLS</td>       <th>  Adj. R-squared:    </th> <td>   0.279</td> \n",
       "</tr>\n",
       "<tr>\n",
       "  <th>Method:</th>             <td>Least Squares</td>  <th>  F-statistic:       </th> <td>   2880.</td> \n",
       "</tr>\n",
       "<tr>\n",
       "  <th>Date:</th>             <td>Thu, 26 Apr 2018</td> <th>  Prob (F-statistic):</th>  <td>  0.00</td>  \n",
       "</tr>\n",
       "<tr>\n",
       "  <th>Time:</th>                 <td>23:06:02</td>     <th>  Log-Likelihood:    </th> <td> -19910.</td> \n",
       "</tr>\n",
       "<tr>\n",
       "  <th>No. Observations:</th>      <td> 67122</td>      <th>  AIC:               </th> <td>3.984e+04</td>\n",
       "</tr>\n",
       "<tr>\n",
       "  <th>Df Residuals:</th>          <td> 67112</td>      <th>  BIC:               </th> <td>3.993e+04</td>\n",
       "</tr>\n",
       "<tr>\n",
       "  <th>Df Model:</th>              <td>     9</td>      <th>                     </th>     <td> </td>    \n",
       "</tr>\n",
       "<tr>\n",
       "  <th>Covariance Type:</th>      <td>nonrobust</td>    <th>                     </th>     <td> </td>    \n",
       "</tr>\n",
       "</table>\n",
       "<table class=\"simpletable\">\n",
       "<tr>\n",
       "                 <td></td>                    <th>coef</th>     <th>std err</th>      <th>t</th>      <th>P>|t|</th>  <th>[0.025</th>    <th>0.975]</th>  \n",
       "</tr>\n",
       "<tr>\n",
       "  <th>Intercept</th>                       <td>    1.4590</td> <td>    0.008</td> <td>  172.731</td> <td> 0.000</td> <td>    1.442</td> <td>    1.476</td>\n",
       "</tr>\n",
       "<tr>\n",
       "  <th>progresa[T.basal]</th>               <td>    0.0081</td> <td>    0.004</td> <td>    2.317</td> <td> 0.020</td> <td>    0.001</td> <td>    0.015</td>\n",
       "</tr>\n",
       "<tr>\n",
       "  <th>C(year)[T.98]</th>                   <td>    0.0340</td> <td>    0.004</td> <td>    8.303</td> <td> 0.000</td> <td>    0.026</td> <td>    0.042</td>\n",
       "</tr>\n",
       "<tr>\n",
       "  <th>progresa[T.basal]:C(year)[T.98]</th> <td>    0.0259</td> <td>    0.005</td> <td>    4.994</td> <td> 0.000</td> <td>    0.016</td> <td>    0.036</td>\n",
       "</tr>\n",
       "<tr>\n",
       "  <th>age</th>                             <td>   -0.0658</td> <td>    0.000</td> <td> -153.853</td> <td> 0.000</td> <td>   -0.067</td> <td>   -0.065</td>\n",
       "</tr>\n",
       "<tr>\n",
       "  <th>dist_sec</th>                        <td>   -0.0109</td> <td>    0.001</td> <td>  -18.182</td> <td> 0.000</td> <td>   -0.012</td> <td>   -0.010</td>\n",
       "</tr>\n",
       "<tr>\n",
       "  <th>sex</th>                             <td>    0.0330</td> <td>    0.003</td> <td>   13.132</td> <td> 0.000</td> <td>    0.028</td> <td>    0.038</td>\n",
       "</tr>\n",
       "<tr>\n",
       "  <th>hohedu</th>                          <td>    0.0077</td> <td>    0.000</td> <td>   16.029</td> <td> 0.000</td> <td>    0.007</td> <td>    0.009</td>\n",
       "</tr>\n",
       "<tr>\n",
       "  <th>welfare_index</th>                   <td> 5.669e-05</td> <td> 9.31e-06</td> <td>    6.087</td> <td> 0.000</td> <td> 3.84e-05</td> <td> 7.49e-05</td>\n",
       "</tr>\n",
       "<tr>\n",
       "  <th>indig</th>                           <td>    0.0506</td> <td>    0.003</td> <td>   18.145</td> <td> 0.000</td> <td>    0.045</td> <td>    0.056</td>\n",
       "</tr>\n",
       "</table>\n",
       "<table class=\"simpletable\">\n",
       "<tr>\n",
       "  <th>Omnibus:</th>       <td>6008.376</td> <th>  Durbin-Watson:     </th> <td>   1.488</td>\n",
       "</tr>\n",
       "<tr>\n",
       "  <th>Prob(Omnibus):</th>  <td> 0.000</td>  <th>  Jarque-Bera (JB):  </th> <td>7802.566</td>\n",
       "</tr>\n",
       "<tr>\n",
       "  <th>Skew:</th>           <td>-0.835</td>  <th>  Prob(JB):          </th> <td>    0.00</td>\n",
       "</tr>\n",
       "<tr>\n",
       "  <th>Kurtosis:</th>       <td> 3.008</td>  <th>  Cond. No.          </th> <td>4.92e+03</td>\n",
       "</tr>\n",
       "</table>"
      ],
      "text/plain": [
       "<class 'statsmodels.iolib.summary.Summary'>\n",
       "\"\"\"\n",
       "                            OLS Regression Results                            \n",
       "==============================================================================\n",
       "Dep. Variable:                     sc   R-squared:                       0.279\n",
       "Model:                            OLS   Adj. R-squared:                  0.279\n",
       "Method:                 Least Squares   F-statistic:                     2880.\n",
       "Date:                Thu, 26 Apr 2018   Prob (F-statistic):               0.00\n",
       "Time:                        23:06:02   Log-Likelihood:                -19910.\n",
       "No. Observations:               67122   AIC:                         3.984e+04\n",
       "Df Residuals:                   67112   BIC:                         3.993e+04\n",
       "Df Model:                           9                                         \n",
       "Covariance Type:            nonrobust                                         \n",
       "===================================================================================================\n",
       "                                      coef    std err          t      P>|t|      [0.025      0.975]\n",
       "---------------------------------------------------------------------------------------------------\n",
       "Intercept                           1.4590      0.008    172.731      0.000       1.442       1.476\n",
       "progresa[T.basal]                   0.0081      0.004      2.317      0.020       0.001       0.015\n",
       "C(year)[T.98]                       0.0340      0.004      8.303      0.000       0.026       0.042\n",
       "progresa[T.basal]:C(year)[T.98]     0.0259      0.005      4.994      0.000       0.016       0.036\n",
       "age                                -0.0658      0.000   -153.853      0.000      -0.067      -0.065\n",
       "dist_sec                           -0.0109      0.001    -18.182      0.000      -0.012      -0.010\n",
       "sex                                 0.0330      0.003     13.132      0.000       0.028       0.038\n",
       "hohedu                              0.0077      0.000     16.029      0.000       0.007       0.009\n",
       "welfare_index                    5.669e-05   9.31e-06      6.087      0.000    3.84e-05    7.49e-05\n",
       "indig                               0.0506      0.003     18.145      0.000       0.045       0.056\n",
       "==============================================================================\n",
       "Omnibus:                     6008.376   Durbin-Watson:                   1.488\n",
       "Prob(Omnibus):                  0.000   Jarque-Bera (JB):             7802.566\n",
       "Skew:                          -0.835   Prob(JB):                         0.00\n",
       "Kurtosis:                       3.008   Cond. No.                     4.92e+03\n",
       "==============================================================================\n",
       "\n",
       "Warnings:\n",
       "[1] Standard Errors assume that the covariance matrix of the errors is correctly specified.\n",
       "[2] The condition number is large, 4.92e+03. This might indicate that there are\n",
       "strong multicollinearity or other numerical problems.\n",
       "\"\"\""
      ]
     },
     "execution_count": 17,
     "metadata": {},
     "output_type": "execute_result"
    }
   ],
   "source": [
    "# drop null values\n",
    "diff_diff_ols = pdf.dropna()\n",
    "\n",
    "diff_ols = smf.ols(formula='sc ~ progresa*C(year) + age + dist_sec + sex + hohedu + welfare_index + indig', data = diff_diff_ols).fit()\n",
    "diff_ols.summary()"
   ]
  },
  {
   "cell_type": "markdown",
   "metadata": {
    "ein.tags": "worksheet-0",
    "slideshow": {
     "slide_type": "-"
    }
   },
   "source": [
    "##### Discussion\n",
    "__What is your estimate of the impact of Progresa? Be very specific in interpreting your coefficients and standard errors, and make sure to specify exactly what units you are measuring and estimating.__\n",
    "- the coefficient of the diff-diff regression is 0.0259\twith a sd of 0.005 --> meaning that the the likelihood of the children's avg enrollment increases by 0.0259 after the program is implemented <br>\n",
    "\n",
    "__How do these estimates of the treatment effect compare to the estimates based on the simple difference?__\n",
    "- the diff-in-diff method considers both the before and after effect of the program while the simple diff method only considers the after effect. Therefore, we can better estimate the actual effect of the treatment because the way we look at it is more holistic <br>\n",
    "\n",
    "__How do these estimates compare to the difference-in-difference estimates from 2.4 above? What accounts for these differences?__\n",
    "- the value decreases from 0.031 in simple diff to 0.0259 in diff-in-diff. here we also took other variables, such as age, dist_sec, sex, hohedu, welfare_index, indig into the regression so the result may be influenced by these other variables<br>\n",
    "\n",
    "__What is the counterfactual assumption underlying this regression?__\n",
    "- counterfactual: the diff-in-diff would have been 0 if no progresa treatment is implemented <br>"
   ]
  },
  {
   "cell_type": "markdown",
   "metadata": {
    "ein.tags": "worksheet-0",
    "slideshow": {
     "slide_type": "-"
    }
   },
   "source": [
    "### 2.6 Summary\n",
    "\n",
    "* Based on all the analysis you have undertaken to date, do you\n",
    "  believe that Progresa had a causal impact on the enrollment rates of\n",
    "  poor households in Mexico?  Explain by referring to the methods and\n",
    "  results above."
   ]
  },
  {
   "cell_type": "markdown",
   "metadata": {
    "ein.tags": "worksheet-0",
    "slideshow": {
     "slide_type": "-"
    }
   },
   "source": [
    "##### Discussion\n",
    "- in summary I think the the progresa program had a casual impact on the enrollment rates of poor households in Mexico. Although there is a slight difference in the treatment and control groups' samples, the program is randomly assigned and we can tell from both SLR, MLR and diff-in-diff method that there is a ~3% increase in the enrollment rate for those who are in the treatment group. Both p values and t tests are showing statistically significant results so we can conclude that the program had a good impact."
   ]
  }
 ],
 "metadata": {
  "kernelspec": {
   "display_name": "Python 3",
   "language": "python",
   "name": "python3"
  },
  "language_info": {
   "codemirror_mode": {
    "name": "ipython",
    "version": 3
   },
   "file_extension": ".py",
   "mimetype": "text/x-python",
   "name": "python",
   "nbconvert_exporter": "python",
   "pygments_lexer": "ipython3",
   "version": "3.6.4"
  },
  "name": "ps03_progresa.ipynb"
 },
 "nbformat": 4,
 "nbformat_minor": 1
}
