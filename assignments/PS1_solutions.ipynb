{
 "cells": [
  {
   "cell_type": "markdown",
   "metadata": {
    "ein.tags": "worksheet-0",
    "slideshow": {
     "slide_type": "-"
    }
   },
   "source": [
    "# Problem Set 1\n",
    "Due April 11th at 5:30pm -- at the start of the class so we can\n",
    "discuss the solutions in class.\n",
    "\n",
    "### Before You Start\n",
    "\n",
    "Make sure to at least take a basic tutorial in the IPython notebook,\n",
    "otherwise you'll be totally lost.  For this problem set, you should\n",
    "download flights.csv.bz2 and weather.csv.bz2 datasets from\n",
    "Canvas (files-data).   Rename the notebook to\n",
    "LASTNAME_FIRSTNAME-PS1.ipynb.\n",
    "\n",
    "When done, please submit\n",
    "1. the notebook itself\n",
    "2. the rendered html or pdf of it.\n",
    "\n"
   ]
  },
  {
   "cell_type": "markdown",
   "metadata": {
    "ein.tags": "worksheet-0",
    "slideshow": {
     "slide_type": "-"
    }
   },
   "source": [
    "## About the Problem Set: \n",
    "\n",
    "This problem set is rather similar to ones used for R, dplyr, and\n",
    "flights data.  Just we use python and pandas.\n",
    "\n",
    "In this problem set you will perform a basic exploratory analysis on\n",
    "an example dataset, bringing to bear all of your new skills in data\n",
    "manipulation and visualization. You will be required to submit well\n",
    "commented python code, documenting all code used in this problem set,\n",
    "along with a write up answering all questions below. Use figures as\n",
    "appropriate to support your answers, and when required by the problem.\n"
   ]
  },
  {
   "cell_type": "markdown",
   "metadata": {
    "ein.tags": "worksheet-0",
    "slideshow": {
     "slide_type": "-"
    }
   },
   "source": [
    "## Preliminaries\n",
    "\n",
    "You should also make sure the following libraries load correctly (click on the box below and hit Ctrl-Enter)"
   ]
  },
  {
   "cell_type": "code",
   "execution_count": 3,
   "metadata": {
    "autoscroll": false,
    "ein.tags": "worksheet-0",
    "slideshow": {
     "slide_type": "-"
    }
   },
   "outputs": [
    {
     "name": "stdout",
     "output_type": "stream",
     "text": [
      "IPython version:       6.2.1 (need at least 1.0)\n",
      "Numpy version:        1.14.0 (need at least 1.7.1)\n",
      "SciPy version:         1.0.0 (need at least 0.12.0)\n",
      "Pandas version:       0.22.0 (need at least 0.11.0)\n",
      "Mapltolib version:     1.5.1 (need at least 1.2.1)\n",
      "Scikit-Learn version: 0.19.1 (need at least 0.13.1)\n"
     ]
    }
   ],
   "source": [
    "#IPython is what you are using now to run the notebook\n",
    "import IPython\n",
    "print( \"IPython version:      %6.6s (need at least 1.0)\" % IPython.__version__)\n",
    "\n",
    "# Numpy is a library for working with Arrays\n",
    "import numpy as np\n",
    "print( \"Numpy version:        %6.6s (need at least 1.7.1)\" % np.__version__)\n",
    "\n",
    "# SciPy implements many different numerical algorithms\n",
    "import scipy as sp\n",
    "print( \"SciPy version:        %6.6s (need at least 0.12.0)\" % sp.__version__)\n",
    "\n",
    "# Pandas makes working with data tables easier\n",
    "import pandas as pd\n",
    "print( \"Pandas version:       %6.6s (need at least 0.11.0)\" % pd.__version__)\n",
    "\n",
    "# Module for plotting\n",
    "import matplotlib\n",
    "print( \"Mapltolib version:    %6.6s (need at least 1.2.1)\" %\n",
    "       matplotlib.__version__)\n",
    "%matplotlib inline\n",
    "# necessary for in-line graphics\n",
    "\n",
    "# SciKit Learn implements several Machine Learning algorithms\n",
    "import sklearn\n",
    "print( \"Scikit-Learn version: %6.6s (need at least 0.13.1)\" % sklearn.__version__)"
   ]
  },
  {
   "cell_type": "code",
   "execution_count": null,
   "metadata": {
    "autoscroll": false,
    "ein.tags": "worksheet-0",
    "slideshow": {
     "slide_type": "-"
    }
   },
   "outputs": [],
   "source": [
    "## Let's read the data and print some summary information\n",
    "## adjust the path for your file system!\n",
    "flights_df= pd.read_csv('flights.csv')"
   ]
  },
  {
   "cell_type": "code",
   "execution_count": null,
   "metadata": {
    "autoscroll": false,
    "ein.tags": "worksheet-0",
    "slideshow": {
     "slide_type": "-"
    }
   },
   "outputs": [
    {
     "name": "stdout",
     "output_type": "stream",
     "text": [
      "(336776, 17)\n",
      "Index(['Unnamed: 0', 'year', 'month', 'day', 'dep_time', 'dep_delay',\n",
      "       'arr_time', 'arr_delay', 'carrier', 'tailnum', 'flight', 'origin',\n",
      "       'dest', 'air_time', 'distance', 'hour', 'minute'],\n",
      "      dtype='object')\n",
      "Unnamed: 0      int64\n",
      "year            int64\n",
      "month           int64\n",
      "day             int64\n",
      "dep_time      float64\n",
      "dep_delay     float64\n",
      "arr_time      float64\n",
      "arr_delay     float64\n",
      "carrier        object\n",
      "tailnum        object\n",
      "flight          int64\n",
      "origin         object\n",
      "dest           object\n",
      "air_time      float64\n",
      "distance        int64\n",
      "hour          float64\n",
      "minute        float64\n",
      "dtype: object\n"
     ]
    }
   ],
   "source": [
    "print(flights_df.shape)\n",
    "print(flights_df.columns)\n",
    "print(flights_df.dtypes)"
   ]
  },
  {
   "cell_type": "code",
   "execution_count": null,
   "metadata": {
    "autoscroll": false,
    "ein.tags": "worksheet-0",
    "slideshow": {
     "slide_type": "-"
    }
   },
   "outputs": [],
   "source": [
    "flights_df.dest.unique()\n",
    "flights_df.head(10)"
   ]
  },
  {
   "cell_type": "markdown",
   "metadata": {
    "ein.tags": "worksheet-0",
    "slideshow": {
     "slide_type": "-"
    }
   },
   "source": [
    "##Some Tips\n",
    "\n",
    "* This assignment involves extensive Data frame splitting and aggregation. You should look into the details of the methods groupby, transform, sum, count, mean etc\n",
    "* Many of the tasks in the assignment can be done either through the Pandas Data Frame or by converting the data frames to Series. Many of the methods in the numpy are applicable to Series only. When stuck, try to explore the type of object (Pandas Data Frame or Numpy Series) you are dealing with."
   ]
  },
  {
   "cell_type": "markdown",
   "metadata": {
    "ein.tags": "worksheet-0",
    "slideshow": {
     "slide_type": "-"
    }
   },
   "source": [
    "##Question 1\n",
    "Let’s explore flights from NYC to Seattle. Use the flights dataset to answer the following questions.\n",
    "\n",
    "(a) How many flights were there from NYC airports to Seattle in 2013?"
   ]
  },
  {
   "cell_type": "code",
   "execution_count": 7,
   "metadata": {
    "autoscroll": false,
    "ein.tags": "worksheet-0",
    "slideshow": {
     "slide_type": "-"
    }
   },
   "outputs": [
    {
     "data": {
      "text/plain": [
       "3923"
      ]
     },
     "execution_count": 7,
     "metadata": {},
     "output_type": "execute_result"
    }
   ],
   "source": [
    "# Your code here\n",
    "flights_df1=flights_df[ flights_df.dest=='SEA']\n",
    "flights_df1.shape[0]"
   ]
  },
  {
   "cell_type": "markdown",
   "metadata": {
    "ein.tags": "worksheet-0",
    "slideshow": {
     "slide_type": "-"
    }
   },
   "source": [
    "There were a total of 3,923 flights from NYC airports to Seattle in 2013."
   ]
  },
  {
   "cell_type": "markdown",
   "metadata": {
    "ein.tags": "worksheet-0",
    "slideshow": {
     "slide_type": "-"
    }
   },
   "source": [
    "(b) How many airlines fly from NYC to Seattle?"
   ]
  },
  {
   "cell_type": "code",
   "execution_count": 8,
   "metadata": {
    "autoscroll": false,
    "ein.tags": "worksheet-0",
    "slideshow": {
     "slide_type": "-"
    }
   },
   "outputs": [
    {
     "data": {
      "text/plain": [
       "5"
      ]
     },
     "execution_count": 8,
     "metadata": {},
     "output_type": "execute_result"
    }
   ],
   "source": [
    "# Your code here\n",
    "flights_df1['carrier'].nunique()"
   ]
  },
  {
   "cell_type": "markdown",
   "metadata": {
    "ein.tags": "worksheet-0",
    "slideshow": {
     "slide_type": "-"
    }
   },
   "source": [
    "There are 5 airlines that were flying from NYC airports to Seattle in 2013."
   ]
  },
  {
   "cell_type": "markdown",
   "metadata": {
    "ein.tags": "worksheet-0",
    "slideshow": {
     "slide_type": "-"
    }
   },
   "source": [
    "(c) How many unique air planes fly from NYC to Seattle?"
   ]
  },
  {
   "cell_type": "code",
   "execution_count": 9,
   "metadata": {
    "autoscroll": false,
    "ein.tags": "worksheet-0",
    "slideshow": {
     "slide_type": "-"
    }
   },
   "outputs": [
    {
     "data": {
      "text/plain": [
       "935"
      ]
     },
     "execution_count": 9,
     "metadata": {},
     "output_type": "execute_result"
    }
   ],
   "source": [
    "# Your code here\n",
    "flights_df1['tailnum'].nunique()"
   ]
  },
  {
   "cell_type": "markdown",
   "metadata": {
    "ein.tags": "worksheet-0",
    "slideshow": {
     "slide_type": "-"
    }
   },
   "source": [
    "There are 935 planes that fly routes from NYC to Seattle."
   ]
  },
  {
   "cell_type": "markdown",
   "metadata": {
    "ein.tags": "worksheet-0",
    "slideshow": {
     "slide_type": "-"
    }
   },
   "source": [
    "(d) What is the average arrival delay for flights from NC to Seattle?"
   ]
  },
  {
   "cell_type": "code",
   "execution_count": 10,
   "metadata": {
    "autoscroll": false,
    "ein.tags": "worksheet-0",
    "slideshow": {
     "slide_type": "-"
    }
   },
   "outputs": [
    {
     "data": {
      "text/plain": [
       "-1.0990990990990992"
      ]
     },
     "execution_count": 10,
     "metadata": {},
     "output_type": "execute_result"
    }
   ],
   "source": [
    "# Your code here\n",
    "flights_df1['arr_delay'].mean()"
   ]
  },
  {
   "cell_type": "markdown",
   "metadata": {
    "ein.tags": "worksheet-0",
    "slideshow": {
     "slide_type": "-"
    }
   },
   "source": [
    " The average arrival delay for flights from NYC to Seattle is -1.10 minutes. Flights from NYC to Seattle arrived 1 minute early, on average, in 2013."
   ]
  },
  {
   "cell_type": "markdown",
   "metadata": {
    "ein.tags": "worksheet-0",
    "slideshow": {
     "slide_type": "-"
    }
   },
   "source": [
    "(e) What proportion of flights to Seattle come from each NYC airport?"
   ]
  },
  {
   "cell_type": "code",
   "execution_count": 11,
   "metadata": {
    "autoscroll": false,
    "ein.tags": "worksheet-0",
    "slideshow": {
     "slide_type": "-"
    }
   },
   "outputs": [
    {
     "name": "stdout",
     "output_type": "stream",
     "text": [
      "EWR 46.6734641856\n",
      "LGA 0.0\n",
      "JFK 53.3265358144\n"
     ]
    }
   ],
   "source": [
    "# Your code here\n",
    "for each in flights_df.origin.unique():\n",
    "    print each, flights_df1[flights_df1.origin==each].shape[0]*100.0/flights_df1.shape[0]"
   ]
  },
  {
   "cell_type": "markdown",
   "metadata": {
    "ein.tags": "worksheet-0",
    "slideshow": {
     "slide_type": "-"
    }
   },
   "source": [
    "46% of the flights to Seattle in 2013 originated at EWR and 53% of flights\n",
    "\n",
    "originated at JFK."
   ]
  },
  {
   "cell_type": "markdown",
   "metadata": {
    "ein.tags": "worksheet-0",
    "slideshow": {
     "slide_type": "-"
    }
   },
   "source": [
    "## Question 2\n",
    "Flights are often delayed. Consider the following questions exploring delay patterns.\n",
    "\n",
    "(a) Which date has the largest average departure delay? Which date has the largest average arrival delay?"
   ]
  },
  {
   "cell_type": "code",
   "execution_count": 13,
   "metadata": {
    "autoscroll": false,
    "ein.tags": "worksheet-0",
    "slideshow": {
     "slide_type": "-"
    }
   },
   "outputs": [
    {
     "name": "stdout",
     "output_type": "stream",
     "text": [
      "            avg_dep_delay  avg_arr_delay\n",
      "date                                    \n",
      "2013-03-08      83.536921      85.862155\n",
      "            avg_dep_delay  avg_arr_delay\n",
      "date                                    \n",
      "2013-03-08      83.536921      85.862155\n"
     ]
    }
   ],
   "source": [
    "# Your code here\n",
    "flights_df['date']=pd.to_datetime(flights_df.year*10000+flights_df.month*100+flights_df.day,format='%Y%m%d')\n",
    "\n",
    "flights_df.head()\n",
    "\n",
    "flights_df2=pd.DataFrame()\n",
    "flights_df2['avg_dep_delay']=flights_df.groupby('date')['dep_delay'].mean()#.transform('mean')\n",
    "flights_df2['avg_arr_delay']=flights_df.groupby('date')['arr_delay'].mean()#.transform('mean')\n",
    "\n",
    "\n",
    "\n",
    "print flights_df2.sort(columns='avg_dep_delay',ascending=False).head(n=1)\n",
    "\n",
    "print flights_df2.sort(columns='avg_arr_delay',ascending=False).head(n=1)"
   ]
  },
  {
   "cell_type": "markdown",
   "metadata": {
    "ein.tags": "worksheet-0",
    "slideshow": {
     "slide_type": "-"
    }
   },
   "source": [
    "For flights from NYC in 2013, March, 8th, 2013 had both the largest average arrival delay and largest average departure delay."
   ]
  },
  {
   "cell_type": "markdown",
   "metadata": {
    "ein.tags": "worksheet-0",
    "slideshow": {
     "slide_type": "-"
    }
   },
   "source": [
    "(b) What was the worst day to fly out of NYC in 2013 if you dislike delayed flights?\n"
   ]
  },
  {
   "cell_type": "code",
   "execution_count": 14,
   "metadata": {
    "autoscroll": false,
    "ein.tags": "worksheet-0",
    "slideshow": {
     "slide_type": "-"
    }
   },
   "outputs": [
    {
     "name": "stdout",
     "output_type": "stream",
     "text": [
      "            count_delayed\n",
      "date                     \n",
      "2013-12-23            674\n",
      "2013-03-08            653\n",
      "2013-07-01            652\n",
      "2013-06-25            649\n",
      "2013-07-23            645\n",
      "2013-05-24            621\n",
      "2013-07-08            615\n",
      "2013-12-17            608\n",
      "2013-12-09            606\n",
      "2013-08-09            602\n"
     ]
    }
   ],
   "source": [
    "# Your code here\n",
    "flights_df3=pd.DataFrame()\n",
    "flights_df3['count_delayed']=flights_df.groupby('date').apply( lambda x:x[x['dep_delay']>0]['dep_delay'].count())\n",
    "print flights_df3.sort(columns='count_delayed',ascending=False).head(n=10)\n",
    "\n",
    "flights_df3_temp=flights_df3.reset_index()"
   ]
  },
  {
   "cell_type": "markdown",
   "metadata": {
    "ein.tags": "worksheet-0",
    "slideshow": {
     "slide_type": "-"
    }
   },
   "source": [
    " 23rd Dec, 2013 was the worst day in terms of total number of flights delayed."
   ]
  },
  {
   "cell_type": "markdown",
   "metadata": {
    "ein.tags": "worksheet-0",
    "slideshow": {
     "slide_type": "-"
    }
   },
   "source": [
    "(c) Are there any seasonal patterns in departure delays for flights from NYC?"
   ]
  },
  {
   "cell_type": "code",
   "execution_count": 15,
   "metadata": {
    "autoscroll": false,
    "ein.tags": "worksheet-0",
    "slideshow": {
     "slide_type": "-"
    }
   },
   "outputs": [
    {
     "name": "stdout",
     "output_type": "stream",
     "text": [
      "(12, 1)\n"
     ]
    },
    {
     "data": {
      "text/html": [
       "<div style=\"max-height:1000px;max-width:1500px;overflow:auto;\">\n",
       "<table border=\"1\" class=\"dataframe\">\n",
       "  <thead>\n",
       "    <tr style=\"text-align: right;\">\n",
       "      <th></th>\n",
       "      <th>avg_dep_delay</th>\n",
       "    </tr>\n",
       "    <tr>\n",
       "      <th>month</th>\n",
       "      <th></th>\n",
       "    </tr>\n",
       "  </thead>\n",
       "  <tbody>\n",
       "    <tr>\n",
       "      <th>1 </th>\n",
       "      <td>  8.498024</td>\n",
       "    </tr>\n",
       "    <tr>\n",
       "      <th>2 </th>\n",
       "      <td>  6.544186</td>\n",
       "    </tr>\n",
       "    <tr>\n",
       "      <th>3 </th>\n",
       "      <td>  9.480392</td>\n",
       "    </tr>\n",
       "    <tr>\n",
       "      <th>4 </th>\n",
       "      <td> 10.829710</td>\n",
       "    </tr>\n",
       "    <tr>\n",
       "      <th>5 </th>\n",
       "      <td>  8.328358</td>\n",
       "    </tr>\n",
       "    <tr>\n",
       "      <th>6 </th>\n",
       "      <td> 18.370558</td>\n",
       "    </tr>\n",
       "    <tr>\n",
       "      <th>7 </th>\n",
       "      <td> 19.352668</td>\n",
       "    </tr>\n",
       "    <tr>\n",
       "      <th>8 </th>\n",
       "      <td>  8.205607</td>\n",
       "    </tr>\n",
       "    <tr>\n",
       "      <th>9 </th>\n",
       "      <td>  6.623269</td>\n",
       "    </tr>\n",
       "    <tr>\n",
       "      <th>10</th>\n",
       "      <td>  5.151786</td>\n",
       "    </tr>\n",
       "    <tr>\n",
       "      <th>11</th>\n",
       "      <td>  5.318996</td>\n",
       "    </tr>\n",
       "    <tr>\n",
       "      <th>12</th>\n",
       "      <td> 17.034483</td>\n",
       "    </tr>\n",
       "  </tbody>\n",
       "</table>\n",
       "</div>"
      ],
      "text/plain": [
       "       avg_dep_delay\n",
       "month               \n",
       "1           8.498024\n",
       "2           6.544186\n",
       "3           9.480392\n",
       "4          10.829710\n",
       "5           8.328358\n",
       "6          18.370558\n",
       "7          19.352668\n",
       "8           8.205607\n",
       "9           6.623269\n",
       "10          5.151786\n",
       "11          5.318996\n",
       "12         17.034483"
      ]
     },
     "execution_count": 15,
     "metadata": {},
     "output_type": "execute_result"
    }
   ],
   "source": [
    "# Your code here\n",
    "flights_df4=pd.DataFrame()\n",
    "flights_df4['avg_dep_delay']=flights_df1.groupby('month')['dep_delay'].mean()\n",
    "print flights_df4.shape\n",
    "flights_df4"
   ]
  },
  {
   "cell_type": "markdown",
   "metadata": {
    "ein.tags": "worksheet-0",
    "slideshow": {
     "slide_type": "-"
    }
   },
   "source": [
    "In general departure delays from NYC are increasing from January through July, and lowest from August through the end of November. This suggest that fall may have lower average departure delays for flights from NYC."
   ]
  },
  {
   "cell_type": "markdown",
   "metadata": {
    "ein.tags": "worksheet-0",
    "slideshow": {
     "slide_type": "-"
    }
   },
   "source": [
    "(d) On average, how do departure delays vary over the course of a day?"
   ]
  },
  {
   "cell_type": "code",
   "execution_count": 16,
   "metadata": {
    "autoscroll": false,
    "ein.tags": "worksheet-0",
    "slideshow": {
     "slide_type": "-"
    }
   },
   "outputs": [
    {
     "name": "stdout",
     "output_type": "stream",
     "text": [
      "(21, 1)\n"
     ]
    },
    {
     "data": {
      "text/html": [
       "<div style=\"max-height:1000px;max-width:1500px;overflow:auto;\">\n",
       "<table border=\"1\" class=\"dataframe\">\n",
       "  <thead>\n",
       "    <tr style=\"text-align: right;\">\n",
       "      <th></th>\n",
       "      <th>avg_dep_delay</th>\n",
       "    </tr>\n",
       "    <tr>\n",
       "      <th>hour</th>\n",
       "      <th></th>\n",
       "    </tr>\n",
       "  </thead>\n",
       "  <tbody>\n",
       "    <tr>\n",
       "      <th>0 </th>\n",
       "      <td> 214.000000</td>\n",
       "    </tr>\n",
       "    <tr>\n",
       "      <th>1 </th>\n",
       "      <td> 504.000000</td>\n",
       "    </tr>\n",
       "    <tr>\n",
       "      <th>2 </th>\n",
       "      <td> 471.000000</td>\n",
       "    </tr>\n",
       "    <tr>\n",
       "      <th>6 </th>\n",
       "      <td>  -3.289855</td>\n",
       "    </tr>\n",
       "    <tr>\n",
       "      <th>7 </th>\n",
       "      <td>  -2.559767</td>\n",
       "    </tr>\n",
       "    <tr>\n",
       "      <th>8 </th>\n",
       "      <td>   0.569620</td>\n",
       "    </tr>\n",
       "    <tr>\n",
       "      <th>9 </th>\n",
       "      <td>   7.431298</td>\n",
       "    </tr>\n",
       "    <tr>\n",
       "      <th>10</th>\n",
       "      <td>  30.297297</td>\n",
       "    </tr>\n",
       "    <tr>\n",
       "      <th>11</th>\n",
       "      <td>  78.166667</td>\n",
       "    </tr>\n",
       "    <tr>\n",
       "      <th>12</th>\n",
       "      <td> 130.500000</td>\n",
       "    </tr>\n",
       "    <tr>\n",
       "      <th>13</th>\n",
       "      <td>   3.955056</td>\n",
       "    </tr>\n",
       "    <tr>\n",
       "      <th>14</th>\n",
       "      <td>   7.298246</td>\n",
       "    </tr>\n",
       "    <tr>\n",
       "      <th>15</th>\n",
       "      <td>   3.222656</td>\n",
       "    </tr>\n",
       "    <tr>\n",
       "      <th>16</th>\n",
       "      <td>  13.668508</td>\n",
       "    </tr>\n",
       "    <tr>\n",
       "      <th>17</th>\n",
       "      <td>  10.261290</td>\n",
       "    </tr>\n",
       "    <tr>\n",
       "      <th>18</th>\n",
       "      <td>   3.097561</td>\n",
       "    </tr>\n",
       "    <tr>\n",
       "      <th>19</th>\n",
       "      <td>  22.254545</td>\n",
       "    </tr>\n",
       "    <tr>\n",
       "      <th>20</th>\n",
       "      <td>  66.880000</td>\n",
       "    </tr>\n",
       "    <tr>\n",
       "      <th>21</th>\n",
       "      <td> 122.627907</td>\n",
       "    </tr>\n",
       "    <tr>\n",
       "      <th>22</th>\n",
       "      <td> 174.000000</td>\n",
       "    </tr>\n",
       "    <tr>\n",
       "      <th>23</th>\n",
       "      <td> 259.200000</td>\n",
       "    </tr>\n",
       "  </tbody>\n",
       "</table>\n",
       "</div>"
      ],
      "text/plain": [
       "      avg_dep_delay\n",
       "hour               \n",
       "0        214.000000\n",
       "1        504.000000\n",
       "2        471.000000\n",
       "6         -3.289855\n",
       "7         -2.559767\n",
       "8          0.569620\n",
       "9          7.431298\n",
       "10        30.297297\n",
       "11        78.166667\n",
       "12       130.500000\n",
       "13         3.955056\n",
       "14         7.298246\n",
       "15         3.222656\n",
       "16        13.668508\n",
       "17        10.261290\n",
       "18         3.097561\n",
       "19        22.254545\n",
       "20        66.880000\n",
       "21       122.627907\n",
       "22       174.000000\n",
       "23       259.200000"
      ]
     },
     "execution_count": 16,
     "metadata": {},
     "output_type": "execute_result"
    }
   ],
   "source": [
    "# Your code here\n",
    "flights_df5=pd.DataFrame()\n",
    "flights_df5['avg_dep_delay']=flights_df1.groupby('hour')['dep_delay'].mean()\n",
    "print flights_df5.shape\n",
    "flights_df5"
   ]
  },
  {
   "cell_type": "markdown",
   "metadata": {
    "ein.tags": "worksheet-0",
    "slideshow": {
     "slide_type": "-"
    }
   },
   "source": [
    "Departure delays increase from 5 am until around mid-afternoon and then stay relatively consistent. We also see a band of no data beginning before 5 am. One might speculate that this is the result of airport restrictions on flights departing between the hours of 3-4 am. Planes leaving around 4-5 am have very small departure delays because they are the first of the day to leave, and may not run into any airport backups or delays in the incoming aircraft."
   ]
  },
  {
   "cell_type": "markdown",
   "metadata": {
    "ein.tags": "worksheet-0",
    "slideshow": {
     "slide_type": "-"
    }
   },
   "source": [
    "## Question 3\n",
    "    Which flight departing NYC in 2013 flew the fastest?"
   ]
  },
  {
   "cell_type": "code",
   "execution_count": 26,
   "metadata": {
    "autoscroll": false,
    "ein.tags": "worksheet-0",
    "slideshow": {
     "slide_type": "-"
    }
   },
   "outputs": [
    {
     "name": "stdout",
     "output_type": "stream",
     "text": [
      "        Unnamed: 0  year  month  day  dep_time  dep_delay  arr_time  \\\n",
      "216447      216448  2013      5   25      1709          9      1923   \n",
      "\n",
      "        arr_delay carrier tailnum  flight origin dest  air_time  distance  \\\n",
      "216447        -14      DL  N666DN    1499    LGA  ATL        65       762   \n",
      "\n",
      "        hour  minute       date      speed  \n",
      "216447    17       9 2013-05-25  11.723077  \n"
     ]
    }
   ],
   "source": [
    "# Your code here\n",
    "flights_df['speed']=flights_df.distance/flights_df.air_time\n",
    "\n",
    "print flights_df.sort(columns='speed',ascending=False).head(n=1)\n",
    "#flights_df\n",
    "#flights_df.shape"
   ]
  },
  {
   "cell_type": "markdown",
   "metadata": {
    "ein.tags": "worksheet-0",
    "slideshow": {
     "slide_type": "-"
    }
   },
   "source": [
    " \n",
    " The fastest flight originating at NYC in 2013 was the May 25th flight 1499 from LGA to ATL by DL airlines."
   ]
  },
  {
   "cell_type": "markdown",
   "metadata": {
    "ein.tags": "worksheet-0",
    "slideshow": {
     "slide_type": "-"
    }
   },
   "source": [
    "## Question 4\n",
    "Which flights (i.e. carrier + flight + dest) happen every day? Where do they fly to?"
   ]
  },
  {
   "cell_type": "code",
   "execution_count": 28,
   "metadata": {
    "autoscroll": false,
    "ein.tags": "worksheet-0",
    "slideshow": {
     "slide_type": "-"
    }
   },
   "outputs": [
    {
     "name": "stdout",
     "output_type": "stream",
     "text": [
      "      carrier  flight dest  count\n",
      "767        AA      59  SFO    365\n",
      "775        AA     119  LAX    365\n",
      "783        AA     181  LAX    365\n",
      "904        AA    1357  SJU    365\n",
      "914        AA    1611  MIA    365\n",
      "1118       B6     219  CLT    365\n",
      "1147       B6     359  BUR    365\n",
      "1150       B6     371  FLL    365\n",
      "1169       B6     431  SRQ    365\n",
      "1243       B6     703  SJU    365\n",
      "1379       B6    1783  MCO    365\n",
      "2012       DL    2159  MCO    365\n",
      "2081       DL    2391  TPA    365\n",
      "4631       EV    5712  IAD    365\n",
      "5116       UA      15  HNL    365\n",
      "10607      VX     251  LAS    365\n",
      "10609      VX     407  LAX    365\n",
      "10613      VX     413  LAX    365\n"
     ]
    }
   ],
   "source": [
    "# Your code here\n",
    "flights_df6=pd.DataFrame()\n",
    "flights_df6=flights_df.groupby(['carrier','flight','dest']).size().reset_index()\n",
    "flights_df6.columns=['carrier','flight','dest','count']\n",
    "flights_df6\n",
    "print flights_df6[flights_df6['count']==365]"
   ]
  },
  {
   "cell_type": "markdown",
   "metadata": {
    "ein.tags": "worksheet-0",
    "slideshow": {
     "slide_type": "-"
    }
   },
   "source": [
    "There are 18 flight routes that occurred every day in 2013. They flew from NYC to SFO, LAX, SJU, MIA, CLT, BUR, FLL, SRQ, MCO, TPA, IAD, HNL, LAS."
   ]
  },
  {
   "cell_type": "markdown",
   "metadata": {
    "ein.tags": "worksheet-0",
    "slideshow": {
     "slide_type": "-"
    }
   },
   "source": [
    "## Question 5\n",
    "Develop one research question you can address using the nycflights2013 dataset. Provide two visualizations to support your exploration of this question. Discuss what you find.\n"
   ]
  },
  {
   "cell_type": "code",
   "execution_count": null,
   "metadata": {
    "autoscroll": false,
    "ein.tags": "worksheet-0",
    "slideshow": {
     "slide_type": "-"
    }
   },
   "outputs": [],
   "source": [
    "# Your code here"
   ]
  },
  {
   "cell_type": "markdown",
   "metadata": {
    "ein.tags": "worksheet-0",
    "slideshow": {
     "slide_type": "-"
    }
   },
   "source": [
    "Answers will vary based on student developed research question. Questions would be clear and appropriate to the dataset. Analysis and figures should support exploration of question. Written response should be thoughtful."
   ]
  },
  {
   "cell_type": "markdown",
   "metadata": {
    "ein.tags": "worksheet-0",
    "slideshow": {
     "slide_type": "-"
    }
   },
   "source": [
    "## Question 6\n",
    "What weather conditions are associated with flight delays leaving NYC? Use graphics to explore."
   ]
  },
  {
   "cell_type": "code",
   "execution_count": 4,
   "metadata": {
    "autoscroll": false,
    "ein.tags": "worksheet-0",
    "slideshow": {
     "slide_type": "-"
    }
   },
   "outputs": [],
   "source": [
    "# Your code here\n",
    "flights_df= pd.read_csv('C:\\\\Users\\\\root\\\\Desktop\\\\Winter2015\\\\CoreMethods\\\\PS1\\\\flights.csv')\n",
    "weather_df= pd.read_csv('C:\\\\Users\\\\root\\\\Desktop\\\\Winter2015\\\\CoreMethods\\\\PS1\\\\weather.csv')"
   ]
  },
  {
   "cell_type": "markdown",
   "metadata": {
    "ein.tags": "worksheet-0",
    "slideshow": {
     "slide_type": "-"
    }
   },
   "source": [
    "Solutions will vary, possible example code below. These figures demonstrate that as wind speed and wind gusts increases so do departure delays."
   ]
  },
  {
   "cell_type": "code",
   "execution_count": 13,
   "metadata": {
    "autoscroll": false,
    "ein.tags": "worksheet-0",
    "slideshow": {
     "slide_type": "-"
    }
   },
   "outputs": [],
   "source": [
    "flights_df.head()\n",
    "fd=flights_df.groupby(['month','day','hour'])['dep_delay'].mean().reset_index()"
   ]
  },
  {
   "cell_type": "code",
   "execution_count": 14,
   "metadata": {
    "autoscroll": false,
    "ein.tags": "worksheet-0",
    "slideshow": {
     "slide_type": "-"
    }
   },
   "outputs": [],
   "source": [
    "wd=weather_df.groupby(['month','day','hour'])[['wind_speed','wind_gust']].mean().reset_index()"
   ]
  },
  {
   "cell_type": "code",
   "execution_count": 24,
   "metadata": {
    "autoscroll": false,
    "ein.tags": "worksheet-0",
    "slideshow": {
     "slide_type": "-"
    }
   },
   "outputs": [
    {
     "data": {
      "text/plain": [
       "count    7585.000000\n",
       "mean        9.423348\n",
       "std        13.066480\n",
       "min         0.000000\n",
       "25%         5.753900\n",
       "50%         9.206240\n",
       "75%        12.658580\n",
       "max      1048.360580\n",
       "dtype: float64"
      ]
     },
     "execution_count": 24,
     "metadata": {},
     "output_type": "execute_result"
    }
   ],
   "source": [
    "merged_table=pd.merge(fd,wd,on=['month','day','hour'])\n",
    "merged_table['wind_speed'].describe()"
   ]
  },
  {
   "cell_type": "code",
   "execution_count": 40,
   "metadata": {
    "autoscroll": false,
    "ein.tags": "worksheet-0",
    "slideshow": {
     "slide_type": "-"
    }
   },
   "outputs": [
    {
     "data": {
      "image/png": "[encoded data removed]",
      "text/plain": [
       "<matplotlib.figure.Figure at 0x111e8080>"
      ]
     },
     "metadata": {},
     "output_type": "display_data"
    }
   ],
   "source": [
    "merged_table=merged_table[merged_table.wind_speed<100]\n",
    "merged_table.wind_speed=merged_table.wind_speed.astype(int)\n",
    "merged_table.wind_gust=merged_table.wind_gust.astype(int)\n",
    "\n",
    "merged_table2=merged_table.groupby('wind_speed')['dep_delay','wind_speed'].mean()\n",
    "merged_table2.index=merged_table2.wind_speed\n",
    "plt.plot (merged_table2['wind_speed'],merged_table2['dep_delay'])\n",
    "plt.ylabel(\"Dep Delay\")\n",
    "plt.xlabel(\"Wind Speed\")\n",
    "plt.title(\"Dep Delay vs Wind Speed\")\n",
    "plt.show()"
   ]
  },
  {
   "cell_type": "code",
   "execution_count": 41,
   "metadata": {
    "autoscroll": false,
    "ein.tags": "worksheet-0",
    "slideshow": {
     "slide_type": "-"
    }
   },
   "outputs": [
    {
     "data": {
      "image/png": "[encoded data removed]",
      "text/plain": [
       "<matplotlib.figure.Figure at 0x111e8320>"
      ]
     },
     "metadata": {},
     "output_type": "display_data"
    }
   ],
   "source": [
    "merged_table3=merged_table.groupby('wind_gust')['dep_delay','wind_gust'].mean()\n",
    "merged_table2.index=merged_table2.wind_speed\n",
    "plt.plot (merged_table3['wind_gust'],merged_table3['dep_delay'])\n",
    "plt.ylabel(\"Dep Delay\")\n",
    "plt.xlabel(\"Wind Gust\")\n",
    "plt.title(\"Dep Delay vs Wind Gust\")\n",
    "plt.show()"
   ]
  },
  {
   "cell_type": "code",
   "execution_count": null,
   "metadata": {
    "autoscroll": false,
    "ein.tags": "worksheet-0",
    "slideshow": {
     "slide_type": "-"
    }
   },
   "outputs": [],
   "source": []
  }
 ],
 "metadata": {
  "kernelspec": {
   "display_name": "Python 3",
   "language": "python",
   "name": "python3"
  },
  "language_info": {
   "codemirror_mode": {
    "name": "ipython",
    "version": 3
   },
   "file_extension": ".py",
   "mimetype": "text/x-python",
   "name": "python",
   "nbconvert_exporter": "python",
   "pygments_lexer": "ipython3",
   "version": "3.6.4"
  },
  "name": "ps1_pandas_complete.ipynb"
 },
 "nbformat": 4,
 "nbformat_minor": 2
}
