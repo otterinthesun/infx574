{
 "cells": [
  {
   "cell_type": "markdown",
   "metadata": {
    "ein.tags": "worksheet-0",
    "slideshow": {
     "slide_type": "-"
    }
   },
   "source": [
    "# Numpy\n",
    "\n",
    "Numpy is the primary way in python to handle matrices/vectors"
   ]
  },
  {
   "cell_type": "code",
   "execution_count": null,
   "metadata": {},
   "outputs": [],
   "source": []
  },
  {
   "cell_type": "code",
   "execution_count": 79,
   "metadata": {
    "autoscroll": false,
    "ein.tags": "worksheet-0",
    "slideshow": {
     "slide_type": "-"
    }
   },
   "outputs": [
    {
     "name": "stdout",
     "output_type": "stream",
     "text": [
      "1.14.0\n"
     ]
    }
   ],
   "source": [
    "import numpy as np\n",
    "print(np.__version__)"
   ]
  },
  {
   "cell_type": "markdown",
   "metadata": {
    "ein.tags": "worksheet-0",
    "slideshow": {
     "slide_type": "-"
    }
   },
   "source": [
    "## Array: the fundamental building block"
   ]
  },
  {
   "cell_type": "markdown",
   "metadata": {
    "ein.tags": "worksheet-0",
    "slideshow": {
     "slide_type": "-"
    }
   },
   "source": [
    "### Creating arrays"
   ]
  },
  {
   "cell_type": "code",
   "execution_count": 80,
   "metadata": {
    "autoscroll": false,
    "ein.tags": "worksheet-0",
    "slideshow": {
     "slide_type": "-"
    }
   },
   "outputs": [
    {
     "name": "stdout",
     "output_type": "stream",
     "text": [
      "a:\n",
      " [1 2 3 4]\n",
      "b:\n",
      " [[1 2]\n",
      " [3 4]]\n"
     ]
    }
   ],
   "source": [
    "a = np.array([1,2,3,4])\n",
    "print(\"a:\\n\", a)\n",
    "b = np.array([[1,2], [3,4]])\n",
    "print(\"b:\\n\", b)"
   ]
  },
  {
   "cell_type": "code",
   "execution_count": 81,
   "metadata": {
    "autoscroll": false,
    "ein.tags": "worksheet-0",
    "slideshow": {
     "slide_type": "-"
    }
   },
   "outputs": [
    {
     "name": "stdout",
     "output_type": "stream",
     "text": [
      "(4,)\n",
      "(2, 2)\n"
     ]
    }
   ],
   "source": [
    "## Shape: the form of the array\n",
    "print(a.shape)\n",
    "print(b.shape)"
   ]
  },
  {
   "cell_type": "code",
   "execution_count": 82,
   "metadata": {
    "autoscroll": false,
    "ein.tags": "worksheet-0",
    "slideshow": {
     "slide_type": "-"
    }
   },
   "outputs": [
    {
     "name": "stdout",
     "output_type": "stream",
     "text": [
      "arange:\n",
      " [0 1 2 3 4 5 6 7 8 9]\n",
      "zeros:\n",
      " [[0. 0. 0. 0. 0.]\n",
      " [0. 0. 0. 0. 0.]]\n",
      "ones:\n",
      " [[1 1]\n",
      " [1 1]]\n",
      "empty:\n",
      " [[ 0.44622518 -1.4714797   0.07390467 -0.43394188  1.84131402 -1.57308411\n",
      "   0.56399271  1.10774631]\n",
      " [-0.64681727 -1.01325494 -0.63292535  1.78450035  1.34530115 -2.48913933\n",
      "  -1.05955373  0.35168236]\n",
      " [-0.93350523 -0.94086764 -0.37328497  0.98777197  0.21683727 -0.45481706\n",
      "  -0.33499496  1.10166551]]\n",
      "reshape:\n",
      " [[ 0  1  2  3]\n",
      " [ 4  5  6  7]\n",
      " [ 8  9 10 11]] \n",
      "\n",
      "random numbers:\n",
      " [[-1.19811617  1.03154343  1.61154304  1.5979935   1.63187092]\n",
      " [-0.06517924 -0.68165501 -0.06375639 -0.36930758 -0.69914974]\n",
      " [-0.291085   -0.72960596 -0.14461677  0.48862135 -1.28712884]\n",
      " [ 0.71924479 -0.30812576  0.06558274  0.31834926  0.15126753]] \n",
      "\n"
     ]
    }
   ],
   "source": [
    "## create various arrays\n",
    "print(\"arange:\\n\", np.arange(10))\n",
    "# like range, but gives an array\n",
    "print(\"zeros:\\n\", np.zeros((2,5)) )\n",
    "print(\"ones:\\n\", np.ones_like((b)) )\n",
    "print(\"empty:\\n\", np.empty((3,8)) )\n",
    "print(\"reshape:\\n\", np.arange(12).reshape((3,4)), \"\\n\")\n",
    "print(\"random numbers:\\n\", np.random.randn(4,5) ,'\\n')"
   ]
  },
  {
   "cell_type": "code",
   "execution_count": null,
   "metadata": {
    "autoscroll": false,
    "ein.tags": "worksheet-0",
    "slideshow": {
     "slide_type": "-"
    }
   },
   "outputs": [],
   "source": [
    "## data types\n",
    "print(a.dtype)\n",
    "c = np.array([1,2], dtype='int64')\n",
    "print(c)\n",
    "print(c.dtype)\n",
    "## converting data types\n",
    "d = np.array([True,False,True])\n",
    "print(d)\n",
    "print(d.astype('float'))\n",
    "# can also convert strings"
   ]
  },
  {
   "cell_type": "code",
   "execution_count": null,
   "metadata": {
    "autoscroll": false,
    "ein.tags": "worksheet-0",
    "slideshow": {
     "slide_type": "-"
    }
   },
   "outputs": [],
   "source": [
    "## math with arrays\n",
    "print(1 + a, \"\\n\")\n",
    "print(2**b, \"\\n\")"
   ]
  },
  {
   "cell_type": "markdown",
   "metadata": {
    "ein.tags": "worksheet-0",
    "slideshow": {
     "slide_type": "-"
    }
   },
   "source": [
    "### Array Indexing and Slicing"
   ]
  },
  {
   "cell_type": "code",
   "execution_count": 83,
   "metadata": {
    "autoscroll": false,
    "ein.tags": "worksheet-0",
    "slideshow": {
     "slide_type": "-"
    }
   },
   "outputs": [
    {
     "name": "stdout",
     "output_type": "stream",
     "text": [
      "[11 10  9  8  7  6  5  4  3  2  1  0]\n",
      "[ 0  1  2  3  4 -1 -1 -1 -1 -1 -1 11]\n"
     ]
    }
   ],
   "source": [
    "## 1d arrays indexed like lists:\n",
    "a = np.arange(12)\n",
    "print(a[::-1])\n",
    "b = a\n",
    "a[5:11] = -1\n",
    "print(b)"
   ]
  },
  {
   "cell_type": "code",
   "execution_count": null,
   "metadata": {
    "autoscroll": false,
    "ein.tags": "worksheet-0",
    "slideshow": {
     "slide_type": "-"
    }
   },
   "outputs": [],
   "source": [
    "## 2D arrays may need two indices:\n",
    "c = np.arange(12).reshape((3,4))\n",
    "print(\"c:\\n\", c, \"\\n\")\n",
    "print(\"2nd row:\\n\", c[1], \"\\n\")\n",
    "print(\"3rd column:\\n\", c[:,2], \"\\n\")\n",
    "print(\"2nd row, 3rd column:\\n\", c[1,2], '\\n', c[1][2], '\\n')"
   ]
  },
  {
   "cell_type": "code",
   "execution_count": null,
   "metadata": {
    "autoscroll": false,
    "ein.tags": "worksheet-0",
    "slideshow": {
     "slide_type": "-"
    }
   },
   "outputs": [],
   "source": [
    "## 2d Slicing:\n",
    "print(\"rows 1,2:\\n\", c[:2], '\\n')\n",
    "print(\"rows 1,2, cols 1,2,3:\\n\", c[:2, :3], '\\n')"
   ]
  },
  {
   "cell_type": "markdown",
   "metadata": {
    "ein.tags": "worksheet-0",
    "slideshow": {
     "slide_type": "-"
    }
   },
   "source": [
    "Exercise:\n",
    "* create a 4x5 array of even numbers: 2, 4, 6, ...\n",
    "* extract third column\n",
    "* set the fourth row to 1,2,3,4,5\n"
   ]
  },
  {
   "cell_type": "code",
   "execution_count": 85,
   "metadata": {
    "autoscroll": false,
    "ein.tags": "worksheet-0",
    "slideshow": {
     "slide_type": "-"
    }
   },
   "outputs": [
    {
     "name": "stdout",
     "output_type": "stream",
     "text": [
      "[ 6 16 26 36] \n",
      "\n"
     ]
    },
    {
     "data": {
      "text/plain": [
       "array([[ 2,  4,  6,  8, 10],\n",
       "       [12, 14, 16, 18, 20],\n",
       "       [22, 24, 26, 28, 30],\n",
       "       [ 1,  2,  3,  4,  5]])"
      ]
     },
     "execution_count": 85,
     "metadata": {},
     "output_type": "execute_result"
    }
   ],
   "source": [
    "a = np.arange(2,42,2).reshape(4,5)\n",
    "print(a[:,2], '\\n')\n",
    "a[3] = 1 + np.arange(5)\n",
    "a"
   ]
  },
  {
   "cell_type": "code",
   "execution_count": null,
   "metadata": {
    "autoscroll": false,
    "ein.tags": "worksheet-0",
    "slideshow": {
     "slide_type": "-"
    }
   },
   "outputs": [],
   "source": [
    "## do it here"
   ]
  },
  {
   "cell_type": "code",
   "execution_count": null,
   "metadata": {
    "autoscroll": false,
    "ein.tags": "worksheet-0",
    "slideshow": {
     "slide_type": "-"
    }
   },
   "outputs": [],
   "source": [
    "## Boolean indexing\n",
    "a = np.random.randn(4,3)\n",
    "print(a, '\\n')\n",
    "b = np.zeros_like(a)\n",
    "b[a < 0] = -1\n",
    "print(b, '\\n')"
   ]
  },
  {
   "cell_type": "markdown",
   "metadata": {
    "ein.tags": "worksheet-0",
    "slideshow": {
     "slide_type": "-"
    }
   },
   "source": [
    "## Universal Functions  (ufuncs)\n",
    "\n",
    "Vectorized arithmetic/logic on arrays"
   ]
  },
  {
   "cell_type": "code",
   "execution_count": null,
   "metadata": {
    "autoscroll": false,
    "ein.tags": "worksheet-0",
    "slideshow": {
     "slide_type": "-"
    }
   },
   "outputs": [],
   "source": [
    "a = np.arange(12).reshape((3,4))\n",
    "print(\"sqrt:\\n\", np.sqrt(a), '\\n')\n",
    "print(\"squares:\\n\", a**2, '\\n')\n",
    "b = np.arange(12)[::-1].reshape((3,4))\n",
    "print(b)\n",
    "print(\"powers:\\n\", np.power(a,b), '\\n')\n",
    "print(\">\", np.greater(a, b), '\\n')\n"
   ]
  },
  {
   "cell_type": "code",
   "execution_count": null,
   "metadata": {
    "autoscroll": false,
    "ein.tags": "worksheet-0",
    "slideshow": {
     "slide_type": "-"
    }
   },
   "outputs": [],
   "source": [
    "## Computing\n",
    "a = np.arange(12).reshape((3,4))\n",
    "np.where(a % 2 == 0, \"even\", \"odd\")"
   ]
  },
  {
   "cell_type": "code",
   "execution_count": null,
   "metadata": {
    "autoscroll": false,
    "ein.tags": "worksheet-0",
    "slideshow": {
     "slide_type": "-"
    }
   },
   "outputs": [],
   "source": [
    "b = np.random.uniform(size = (3,4))\n",
    "print(b, '\\n')\n",
    "np.where(b > 0.5, 1, b)"
   ]
  },
  {
   "cell_type": "code",
   "execution_count": null,
   "metadata": {
    "autoscroll": false,
    "ein.tags": "worksheet-0",
    "slideshow": {
     "slide_type": "-"
    }
   },
   "outputs": [],
   "source": [
    "## Stats\n",
    "b.mean()"
   ]
  },
  {
   "cell_type": "code",
   "execution_count": null,
   "metadata": {
    "autoscroll": false,
    "ein.tags": "worksheet-0",
    "slideshow": {
     "slide_type": "-"
    }
   },
   "outputs": [],
   "source": [
    "## do this row-wise\n",
    "## Note: axis 1 is columns.  sum(axis=1) means sum by columns, retain rows\n",
    "b.sum(axis=1)"
   ]
  },
  {
   "cell_type": "code",
   "execution_count": null,
   "metadata": {
    "autoscroll": false,
    "ein.tags": "worksheet-0",
    "slideshow": {
     "slide_type": "-"
    }
   },
   "outputs": [],
   "source": [
    "b.argmin()"
   ]
  },
  {
   "cell_type": "code",
   "execution_count": null,
   "metadata": {
    "autoscroll": false,
    "ein.tags": "worksheet-0",
    "slideshow": {
     "slide_type": "-"
    }
   },
   "outputs": [],
   "source": [
    "b.argmin(axis=0)"
   ]
  },
  {
   "cell_type": "code",
   "execution_count": null,
   "metadata": {
    "autoscroll": false,
    "ein.tags": "worksheet-0",
    "slideshow": {
     "slide_type": "-"
    }
   },
   "outputs": [],
   "source": [
    "## sorting\n",
    "a = np.random.uniform(size=10)\n",
    "print(a, '\\n')\n",
    "a.sort()  # in-place sorting\n",
    "print(a)"
   ]
  },
  {
   "cell_type": "code",
   "execution_count": null,
   "metadata": {
    "autoscroll": false,
    "ein.tags": "worksheet-0",
    "slideshow": {
     "slide_type": "-"
    }
   },
   "outputs": [],
   "source": []
  }
 ],
 "metadata": {
  "kernelspec": {
   "display_name": "Python 3",
   "language": "python",
   "name": "python3"
  },
  "language_info": {
   "codemirror_mode": {
    "name": "ipython",
    "version": 3
   },
   "file_extension": ".py",
   "mimetype": "text/x-python",
   "name": "python",
   "nbconvert_exporter": "python",
   "pygments_lexer": "ipython3",
   "version": "3.6.4"
  },
  "name": "numpy_intro.ipynb"
 },
 "nbformat": 4,
 "nbformat_minor": 2
}
