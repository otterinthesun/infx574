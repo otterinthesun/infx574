{
 "cells": [
  {
   "cell_type": "code",
   "execution_count": 15,
   "metadata": {
    "autoscroll": false,
    "ein.tags": "worksheet-0",
    "slideshow": {
     "slide_type": "-"
    }
   },
   "outputs": [],
   "source": [
    "import numpy as np\n",
    "import pandas as pd\n",
    "from sklearn.datasets import load_boston\n",
    "\n",
    "import sklearn.linear_model as lm\n",
    "import statsmodels.formula.api as smf\n",
    "\n",
    "import matplotlib.pyplot as plt\n",
    "%matplotlib inline"
   ]
  },
  {
   "cell_type": "markdown",
   "metadata": {
    "ein.tags": "worksheet-0",
    "slideshow": {
     "slide_type": "-"
    }
   },
   "source": [
    "## Examples with random data"
   ]
  },
  {
   "cell_type": "code",
   "execution_count": 16,
   "metadata": {
    "autoscroll": false,
    "ein.tags": "worksheet-0",
    "scrolled": true,
    "slideshow": {
     "slide_type": "-"
    }
   },
   "outputs": [
    {
     "data": {
      "text/plain": [
       "<matplotlib.collections.PathCollection at 0x1a19f3d0f0>"
      ]
     },
     "execution_count": 16,
     "metadata": {},
     "output_type": "execute_result"
    },
    {
     "data": {
      "image/png": "[encoded data removed]",
      "text/plain": [
       "<matplotlib.figure.Figure at 0x1a19f031d0>"
      ]
     },
     "metadata": {},
     "output_type": "display_data"
    }
   ],
   "source": [
    "n = 100\n",
    "x = np.random.normal(size=(n,1))  # create the explanatory variable\n",
    "eps = np.random.normal(0, 1, size=(n,1)) # create the eps random noise\n",
    "y = 1 + 2*x + eps\n",
    "plt.scatter(x, y)\n"
   ]
  },
  {
   "cell_type": "code",
   "execution_count": 17,
   "metadata": {
    "autoscroll": false,
    "ein.tags": "worksheet-0",
    "slideshow": {
     "slide_type": "-"
    }
   },
   "outputs": [
    {
     "name": "stdout",
     "output_type": "stream",
     "text": [
      "[0.67044551]\n",
      "[[2.12441823]]\n"
     ]
    }
   ],
   "source": [
    "m = lm.LinearRegression()  # create the model you want to use\n",
    "f = m.fit(x, y)   # fit the model\n",
    "# can also write as f = lm.LinearRegression().fit(x,y)\n",
    "print(f.intercept_)\n",
    "print(f.coef_)\n"
   ]
  },
  {
   "cell_type": "code",
   "execution_count": 18,
   "metadata": {
    "autoscroll": false,
    "ein.tags": "worksheet-0",
    "slideshow": {
     "slide_type": "-"
    }
   },
   "outputs": [
    {
     "name": "stdout",
     "output_type": "stream",
     "text": [
      "                            OLS Regression Results                            \n",
      "==============================================================================\n",
      "Dep. Variable:                      y   R-squared:                       0.801\n",
      "Model:                            OLS   Adj. R-squared:                  0.799\n",
      "Method:                 Least Squares   F-statistic:                     395.4\n",
      "Date:                Wed, 11 Apr 2018   Prob (F-statistic):           3.58e-36\n",
      "Time:                        18:14:59   Log-Likelihood:                -145.86\n",
      "No. Observations:                 100   AIC:                             295.7\n",
      "Df Residuals:                      98   BIC:                             300.9\n",
      "Df Model:                           1                                         \n",
      "Covariance Type:            nonrobust                                         \n",
      "==============================================================================\n",
      "                 coef    std err          t      P>|t|      [0.025      0.975]\n",
      "------------------------------------------------------------------------------\n",
      "Intercept      0.6704      0.110      6.096      0.000       0.452       0.889\n",
      "x              2.1244      0.107     19.886      0.000       1.912       2.336\n",
      "==============================================================================\n",
      "Omnibus:                        1.362   Durbin-Watson:                   1.723\n",
      "Prob(Omnibus):                  0.506   Jarque-Bera (JB):                1.025\n",
      "Skew:                          -0.244   Prob(JB):                        0.599\n",
      "Kurtosis:                       3.091   Cond. No.                         1.36\n",
      "==============================================================================\n",
      "\n",
      "Warnings:\n",
      "[1] Standard Errors assume that the covariance matrix of the errors is correctly specified.\n"
     ]
    }
   ],
   "source": [
    "df = pd.DataFrame(np.concatenate((x, y), axis=1), columns=('x', 'y'))\n",
    "mod = smf.ols(formula='y ~ x', data=df)\n",
    "res = mod.fit()\n",
    "print(res.summary())\n"
   ]
  },
  {
   "cell_type": "code",
   "execution_count": 5,
   "metadata": {
    "autoscroll": false,
    "ein.tags": "worksheet-0",
    "slideshow": {
     "slide_type": "-"
    }
   },
   "outputs": [
    {
     "name": "stdout",
     "output_type": "stream",
     "text": [
      "[[ 1.          1.73324679]\n",
      " [ 1.         -1.31244241]\n",
      " [ 1.         -0.39852175]\n",
      " [ 1.         -2.61302607]\n",
      " [ 1.          1.41098658]]\n"
     ]
    },
    {
     "data": {
      "text/plain": [
       "array([[0.97625765],\n",
       "       [1.93845905]])"
      ]
     },
     "execution_count": 5,
     "metadata": {},
     "output_type": "execute_result"
    }
   ],
   "source": [
    "X = np.concatenate((np.ones_like(y), x), axis=1) # create X matrix \n",
    "print(X[:5,:])\n",
    "np.linalg.inv(X.T @ X) @ X.T @ y # calculate the matrix"
   ]
  },
  {
   "cell_type": "code",
   "execution_count": 6,
   "metadata": {
    "autoscroll": false,
    "ein.tags": "worksheet-0",
    "slideshow": {
     "slide_type": "-"
    }
   },
   "outputs": [],
   "source": [
    "from sklearn.datasets import load_boston\n",
    "b = load_boston()\n",
    "boston = pd.DataFrame(b.data, columns=b.feature_names)\n",
    "boston[\"old\"] = boston.AGE > 50\n",
    "boston[\"const\"] = 1\n",
    "x = np.matrix(boston[[\"const\", \"old\"]], dtype=\"float\")\n",
    "y = b.target.reshape(506,1)"
   ]
  },
  {
   "cell_type": "code",
   "execution_count": 7,
   "metadata": {
    "autoscroll": false,
    "ein.tags": "worksheet-0",
    "slideshow": {
     "slide_type": "-"
    }
   },
   "outputs": [
    {
     "name": "stdout",
     "output_type": "stream",
     "text": [
      "[[ 0.00680272 -0.00680272]\n",
      " [-0.00680272  0.00958824]]\n"
     ]
    }
   ],
   "source": [
    "xx = x.T.dot(x)\n",
    "print(np.linalg.inv(xx))"
   ]
  },
  {
   "cell_type": "markdown",
   "metadata": {
    "ein.tags": "worksheet-0",
    "slideshow": {
     "slide_type": "-"
    }
   },
   "source": [
    "## Dummy variables"
   ]
  },
  {
   "cell_type": "code",
   "execution_count": 23,
   "metadata": {
    "autoscroll": false,
    "ein.tags": "worksheet-0",
    "slideshow": {
     "slide_type": "-"
    }
   },
   "outputs": [
    {
     "name": "stdout",
     "output_type": "stream",
     "text": [
      "   ID   Income  Limit  Rating  Cards  Age  Education  Gender Student Married  \\\n",
      "0   1   14.891   3606     283      2   34         11    Male      No     Yes   \n",
      "1   2  106.025   6645     483      3   82         15  Female     Yes     Yes   \n",
      "2   3  104.593   7075     514      4   71         11    Male      No      No   \n",
      "3   4  148.924   9504     681      3   36         11  Female      No      No   \n",
      "4   5   55.882   4897     357      2   68         16    Male      No     Yes   \n",
      "\n",
      "   Ethnicity  Balance  \n",
      "0  Caucasian      333  \n",
      "1      Asian      903  \n",
      "2      Asian      580  \n",
      "3      Asian      964  \n",
      "4  Caucasian      331  \n",
      "['Caucasian' 'Asian' 'African American']\n"
     ]
    }
   ],
   "source": [
    "credit = pd.read_table('/Users/jennyli/Google Drive/INFX 574/in class/labs/lab_2/credit.tsv.bz2')\n",
    "print(credit.head())\n",
    "print(credit.Ethnicity.unique())"
   ]
  },
  {
   "cell_type": "code",
   "execution_count": 24,
   "metadata": {},
   "outputs": [
    {
     "data": {
      "text/plain": [
       "Gender  Student\n",
       " Male   No         470.757062\n",
       "        Yes        941.750000\n",
       "Female  No         489.666667\n",
       "        Yes        833.541667\n",
       "Name: Balance, dtype: float64"
      ]
     },
     "execution_count": 24,
     "metadata": {},
     "output_type": "execute_result"
    }
   ],
   "source": [
    "credit.groupby(['Gender', 'Student'])['Balance'].mean()"
   ]
  },
  {
   "cell_type": "code",
   "execution_count": 26,
   "metadata": {},
   "outputs": [
    {
     "data": {
      "text/html": [
       "<table class=\"simpletable\">\n",
       "<caption>OLS Regression Results</caption>\n",
       "<tr>\n",
       "  <th>Dep. Variable:</th>         <td>Balance</td>     <th>  R-squared:         </th> <td>   0.067</td>\n",
       "</tr>\n",
       "<tr>\n",
       "  <th>Model:</th>                   <td>OLS</td>       <th>  Adj. R-squared:    </th> <td>   0.062</td>\n",
       "</tr>\n",
       "<tr>\n",
       "  <th>Method:</th>             <td>Least Squares</td>  <th>  F-statistic:       </th> <td>   14.29</td>\n",
       "</tr>\n",
       "<tr>\n",
       "  <th>Date:</th>             <td>Wed, 11 Apr 2018</td> <th>  Prob (F-statistic):</th> <td>1.02e-06</td>\n",
       "</tr>\n",
       "<tr>\n",
       "  <th>Time:</th>                 <td>18:39:58</td>     <th>  Log-Likelihood:    </th> <td> -3005.5</td>\n",
       "</tr>\n",
       "<tr>\n",
       "  <th>No. Observations:</th>      <td>   400</td>      <th>  AIC:               </th> <td>   6017.</td>\n",
       "</tr>\n",
       "<tr>\n",
       "  <th>Df Residuals:</th>          <td>   397</td>      <th>  BIC:               </th> <td>   6029.</td>\n",
       "</tr>\n",
       "<tr>\n",
       "  <th>Df Model:</th>              <td>     2</td>      <th>                     </th>     <td> </td>   \n",
       "</tr>\n",
       "<tr>\n",
       "  <th>Covariance Type:</th>      <td>nonrobust</td>    <th>                     </th>     <td> </td>   \n",
       "</tr>\n",
       "</table>\n",
       "<table class=\"simpletable\">\n",
       "<tr>\n",
       "          <td></td>            <th>coef</th>     <th>std err</th>      <th>t</th>      <th>P>|t|</th>  <th>[0.025</th>    <th>0.975]</th>  \n",
       "</tr>\n",
       "<tr>\n",
       "  <th>Intercept</th>        <td>  476.9869</td> <td>   32.631</td> <td>   14.618</td> <td> 0.000</td> <td>  412.836</td> <td>  541.138</td>\n",
       "</tr>\n",
       "<tr>\n",
       "  <th>Gender[T.Female]</th> <td>    6.6542</td> <td>   44.612</td> <td>    0.149</td> <td> 0.882</td> <td>  -81.052</td> <td>   94.360</td>\n",
       "</tr>\n",
       "<tr>\n",
       "  <th>Student[T.Yes]</th>   <td>  395.8456</td> <td>   74.308</td> <td>    5.327</td> <td> 0.000</td> <td>  249.759</td> <td>  541.932</td>\n",
       "</tr>\n",
       "</table>\n",
       "<table class=\"simpletable\">\n",
       "<tr>\n",
       "  <th>Omnibus:</th>       <td>20.825</td> <th>  Durbin-Watson:     </th> <td>   1.948</td>\n",
       "</tr>\n",
       "<tr>\n",
       "  <th>Prob(Omnibus):</th> <td> 0.000</td> <th>  Jarque-Bera (JB):  </th> <td>  21.898</td>\n",
       "</tr>\n",
       "<tr>\n",
       "  <th>Skew:</th>          <td> 0.544</td> <th>  Prob(JB):          </th> <td>1.76e-05</td>\n",
       "</tr>\n",
       "<tr>\n",
       "  <th>Kurtosis:</th>      <td> 2.639</td> <th>  Cond. No.          </th> <td>    3.88</td>\n",
       "</tr>\n",
       "</table>"
      ],
      "text/plain": [
       "<class 'statsmodels.iolib.summary.Summary'>\n",
       "\"\"\"\n",
       "                            OLS Regression Results                            \n",
       "==============================================================================\n",
       "Dep. Variable:                Balance   R-squared:                       0.067\n",
       "Model:                            OLS   Adj. R-squared:                  0.062\n",
       "Method:                 Least Squares   F-statistic:                     14.29\n",
       "Date:                Wed, 11 Apr 2018   Prob (F-statistic):           1.02e-06\n",
       "Time:                        18:39:58   Log-Likelihood:                -3005.5\n",
       "No. Observations:                 400   AIC:                             6017.\n",
       "Df Residuals:                     397   BIC:                             6029.\n",
       "Df Model:                           2                                         \n",
       "Covariance Type:            nonrobust                                         \n",
       "====================================================================================\n",
       "                       coef    std err          t      P>|t|      [0.025      0.975]\n",
       "------------------------------------------------------------------------------------\n",
       "Intercept          476.9869     32.631     14.618      0.000     412.836     541.138\n",
       "Gender[T.Female]     6.6542     44.612      0.149      0.882     -81.052      94.360\n",
       "Student[T.Yes]     395.8456     74.308      5.327      0.000     249.759     541.932\n",
       "==============================================================================\n",
       "Omnibus:                       20.825   Durbin-Watson:                   1.948\n",
       "Prob(Omnibus):                  0.000   Jarque-Bera (JB):               21.898\n",
       "Skew:                           0.544   Prob(JB):                     1.76e-05\n",
       "Kurtosis:                       2.639   Cond. No.                         3.88\n",
       "==============================================================================\n",
       "\n",
       "Warnings:\n",
       "[1] Standard Errors assume that the covariance matrix of the errors is correctly specified.\n",
       "\"\"\""
      ]
     },
     "execution_count": 26,
     "metadata": {},
     "output_type": "execute_result"
    }
   ],
   "source": [
    "ml = smf.ols(formula='Balance ~ Gender + Student', data = credit)\n",
    "r1 = ml.fit()\n",
    "r1.summary()"
   ]
  },
  {
   "cell_type": "code",
   "execution_count": 27,
   "metadata": {
    "scrolled": true
   },
   "outputs": [
    {
     "data": {
      "text/plain": [
       "520.015"
      ]
     },
     "execution_count": 27,
     "metadata": {},
     "output_type": "execute_result"
    }
   ],
   "source": [
    "credit.Balance.mean()"
   ]
  },
  {
   "cell_type": "code",
   "execution_count": 29,
   "metadata": {},
   "outputs": [
    {
     "data": {
      "text/html": [
       "<table class=\"simpletable\">\n",
       "<caption>OLS Regression Results</caption>\n",
       "<tr>\n",
       "  <th>Dep. Variable:</th>         <td>Balance</td>     <th>  R-squared:         </th> <td>   0.069</td>\n",
       "</tr>\n",
       "<tr>\n",
       "  <th>Model:</th>                   <td>OLS</td>       <th>  Adj. R-squared:    </th> <td>   0.062</td>\n",
       "</tr>\n",
       "<tr>\n",
       "  <th>Method:</th>             <td>Least Squares</td>  <th>  F-statistic:       </th> <td>   9.753</td>\n",
       "</tr>\n",
       "<tr>\n",
       "  <th>Date:</th>             <td>Wed, 11 Apr 2018</td> <th>  Prob (F-statistic):</th> <td>3.20e-06</td>\n",
       "</tr>\n",
       "<tr>\n",
       "  <th>Time:</th>                 <td>18:51:55</td>     <th>  Log-Likelihood:    </th> <td> -3005.1</td>\n",
       "</tr>\n",
       "<tr>\n",
       "  <th>No. Observations:</th>      <td>   400</td>      <th>  AIC:               </th> <td>   6018.</td>\n",
       "</tr>\n",
       "<tr>\n",
       "  <th>Df Residuals:</th>          <td>   396</td>      <th>  BIC:               </th> <td>   6034.</td>\n",
       "</tr>\n",
       "<tr>\n",
       "  <th>Df Model:</th>              <td>     3</td>      <th>                     </th>     <td> </td>   \n",
       "</tr>\n",
       "<tr>\n",
       "  <th>Covariance Type:</th>      <td>nonrobust</td>    <th>                     </th>     <td> </td>   \n",
       "</tr>\n",
       "</table>\n",
       "<table class=\"simpletable\">\n",
       "<tr>\n",
       "                 <td></td>                    <th>coef</th>     <th>std err</th>      <th>t</th>      <th>P>|t|</th>  <th>[0.025</th>    <th>0.975]</th>  \n",
       "</tr>\n",
       "<tr>\n",
       "  <th>Intercept</th>                       <td>  470.7571</td> <td>   33.474</td> <td>   14.064</td> <td> 0.000</td> <td>  404.949</td> <td>  536.565</td>\n",
       "</tr>\n",
       "<tr>\n",
       "  <th>Gender[T.Female]</th>                <td>   18.9096</td> <td>   46.949</td> <td>    0.403</td> <td> 0.687</td> <td>  -73.391</td> <td>  111.211</td>\n",
       "</tr>\n",
       "<tr>\n",
       "  <th>Student[T.Yes]</th>                  <td>  470.9929</td> <td>  116.258</td> <td>    4.051</td> <td> 0.000</td> <td>  242.434</td> <td>  699.552</td>\n",
       "</tr>\n",
       "<tr>\n",
       "  <th>Gender[T.Female]:Student[T.Yes]</th> <td> -127.1179</td> <td>  151.206</td> <td>   -0.841</td> <td> 0.401</td> <td> -424.384</td> <td>  170.148</td>\n",
       "</tr>\n",
       "</table>\n",
       "<table class=\"simpletable\">\n",
       "<tr>\n",
       "  <th>Omnibus:</th>       <td>20.564</td> <th>  Durbin-Watson:     </th> <td>   1.947</td>\n",
       "</tr>\n",
       "<tr>\n",
       "  <th>Prob(Omnibus):</th> <td> 0.000</td> <th>  Jarque-Bera (JB):  </th> <td>  21.806</td>\n",
       "</tr>\n",
       "<tr>\n",
       "  <th>Skew:</th>          <td> 0.546</td> <th>  Prob(JB):          </th> <td>1.84e-05</td>\n",
       "</tr>\n",
       "<tr>\n",
       "  <th>Kurtosis:</th>      <td> 2.658</td> <th>  Cond. No.          </th> <td>    9.43</td>\n",
       "</tr>\n",
       "</table>"
      ],
      "text/plain": [
       "<class 'statsmodels.iolib.summary.Summary'>\n",
       "\"\"\"\n",
       "                            OLS Regression Results                            \n",
       "==============================================================================\n",
       "Dep. Variable:                Balance   R-squared:                       0.069\n",
       "Model:                            OLS   Adj. R-squared:                  0.062\n",
       "Method:                 Least Squares   F-statistic:                     9.753\n",
       "Date:                Wed, 11 Apr 2018   Prob (F-statistic):           3.20e-06\n",
       "Time:                        18:51:55   Log-Likelihood:                -3005.1\n",
       "No. Observations:                 400   AIC:                             6018.\n",
       "Df Residuals:                     396   BIC:                             6034.\n",
       "Df Model:                           3                                         \n",
       "Covariance Type:            nonrobust                                         \n",
       "===================================================================================================\n",
       "                                      coef    std err          t      P>|t|      [0.025      0.975]\n",
       "---------------------------------------------------------------------------------------------------\n",
       "Intercept                         470.7571     33.474     14.064      0.000     404.949     536.565\n",
       "Gender[T.Female]                   18.9096     46.949      0.403      0.687     -73.391     111.211\n",
       "Student[T.Yes]                    470.9929    116.258      4.051      0.000     242.434     699.552\n",
       "Gender[T.Female]:Student[T.Yes]  -127.1179    151.206     -0.841      0.401    -424.384     170.148\n",
       "==============================================================================\n",
       "Omnibus:                       20.564   Durbin-Watson:                   1.947\n",
       "Prob(Omnibus):                  0.000   Jarque-Bera (JB):               21.806\n",
       "Skew:                           0.546   Prob(JB):                     1.84e-05\n",
       "Kurtosis:                       2.658   Cond. No.                         9.43\n",
       "==============================================================================\n",
       "\n",
       "Warnings:\n",
       "[1] Standard Errors assume that the covariance matrix of the errors is correctly specified.\n",
       "\"\"\""
      ]
     },
     "execution_count": 29,
     "metadata": {},
     "output_type": "execute_result"
    }
   ],
   "source": [
    "smf.ols(formula='Balance ~ Gender + Student + Gender*Student', data=credit).fit().summary()\n",
    "# equals smf.ols(formula='Balance ~ Gender*Student', data=credit).fit().summary()"
   ]
  },
  {
   "cell_type": "code",
   "execution_count": 33,
   "metadata": {},
   "outputs": [
    {
     "data": {
      "text/plain": [
       "<matplotlib.collections.PathCollection at 0x1a1a852be0>"
      ]
     },
     "execution_count": 33,
     "metadata": {},
     "output_type": "execute_result"
    },
    {
     "data": {
      "image/png": "[encoded data removed]",
      "text/plain": [
       "<matplotlib.figure.Figure at 0x1a1a03f710>"
      ]
     },
     "metadata": {},
     "output_type": "display_data"
    }
   ],
   "source": [
    "yhat = r1.predict()\n",
    "plt.scatter(credit.Balance, yhat)"
   ]
  },
  {
   "cell_type": "markdown",
   "metadata": {
    "ein.tags": "worksheet-0",
    "slideshow": {
     "slide_type": "-"
    }
   },
   "source": [
    "## Exercise\n",
    "\n",
    "1. Create random data x ~ N(0,1); eps ~ N(0, 0.5); yX = x + eps; y = 1(yX > 0)\n",
    "\n",
    "2. estimate ols y = a + bx + eps  (note: it's categorical y, not continuous yX)\n",
    "\n",
    "3. store b\n",
    "\n",
    "4. repeat this 1000 times\n",
    "\n",
    "5. find empirical 95% confidence intervals of b\n",
    "\n",
    "6. compare with the smf.ols confidence intervals for a similar regression"
   ]
  },
  {
   "cell_type": "code",
   "execution_count": null,
   "metadata": {
    "autoscroll": false,
    "ein.tags": "worksheet-0",
    "slideshow": {
     "slide_type": "-"
    }
   },
   "outputs": [],
   "source": [
    "## pick sample size:\n",
    "n_e = 150\n",
    "## create x:\n",
    "x = np.random.normal(size=(n_e,1))\n",
    "## create eps\n",
    "eps = np.random.normal(0, 1, size=(n_e,1)) # create the eps random noise\n",
    "\n",
    "## what are good value for a, b?\n",
    "a = \n",
    "b =\n",
    "## create yX\n",
    "yX =\n",
    "## create y = 1(yX > 0)\n",
    "y =\n",
    "\n",
    "## Estimate y = a + b*x + eps\n",
    "m = lm.LinearRegression()\n",
    "m.fit\n",
    "\n"
   ]
  },
  {
   "cell_type": "code",
   "execution_count": null,
   "metadata": {
    "autoscroll": false,
    "ein.tags": "worksheet-0",
    "slideshow": {
     "slide_type": "-"
    }
   },
   "outputs": [],
   "source": [
    "## Repeat this 1000 times and store b\n",
    "R = 1000\n",
    "bs = np.empty(size=R)\n",
    "for i in range(R):\n",
    "    ## create data\n",
    "    ## estimate OLS\n",
    "    ## find b:\n",
    "    bs[i] = f.coef_"
   ]
  },
  {
   "cell_type": "code",
   "execution_count": null,
   "metadata": {
    "autoscroll": false,
    "ein.tags": "worksheet-0",
    "slideshow": {
     "slide_type": "-"
    }
   },
   "outputs": [],
   "source": [
    "## find the empirical 95% confidence intervals\n",
    "np.percentile(bs, 2.5)\n",
    "np.percentile(bs, 97.5)\n",
    "\n",
    "## Estimate your (last) y, x with statsmodels.formula.api as above\n",
    "## print summary().  It includes confidence intervals\n",
    "## are these similar?"
   ]
  },
  {
   "cell_type": "code",
   "execution_count": null,
   "metadata": {
    "autoscroll": false,
    "ein.tags": "worksheet-0",
    "slideshow": {
     "slide_type": "-"
    }
   },
   "outputs": [],
   "source": []
  }
 ],
 "metadata": {
  "kernelspec": {
   "display_name": "Python 3",
   "language": "python",
   "name": "python3"
  },
  "language_info": {
   "codemirror_mode": {
    "name": "ipython",
    "version": 3
   },
   "file_extension": ".py",
   "mimetype": "text/x-python",
   "name": "python",
   "nbconvert_exporter": "python",
   "pygments_lexer": "ipython3",
   "version": "3.6.4"
  },
  "name": "linear_regression1.ipynb"
 },
 "nbformat": 4,
 "nbformat_minor": 2
}
