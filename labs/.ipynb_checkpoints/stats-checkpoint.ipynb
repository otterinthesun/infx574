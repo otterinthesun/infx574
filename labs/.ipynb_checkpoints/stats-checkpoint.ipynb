{
 "cells": [
  {
   "cell_type": "code",
   "execution_count": 1,
   "metadata": {
    "autoscroll": false,
    "ein.tags": "worksheet-0",
    "slideshow": {
     "slide_type": "-"
    }
   },
   "outputs": [],
   "source": [
    "import pandas as pd\n",
    "import numpy as np\n",
    "import matplotlib.pyplot as plt\n",
    "%matplotlib inline"
   ]
  },
  {
   "cell_type": "markdown",
   "metadata": {
    "ein.tags": "worksheet-0",
    "slideshow": {
     "slide_type": "-"
    }
   },
   "source": [
    "## 1. Variance of normal RV-s\n",
    "\n",
    "Create a large sample (>= 1000) of standard random numbers.  Compute\n",
    "the sample variance using both of the formulas, and by the np.var method."
   ]
  },
  {
   "cell_type": "code",
   "execution_count": 9,
   "metadata": {
    "autoscroll": false,
    "ein.tags": "worksheet-0",
    "slideshow": {
     "slide_type": "-"
    }
   },
   "outputs": [
    {
     "data": {
      "text/plain": [
       "1.0170059834311784"
      ]
     },
     "execution_count": 9,
     "metadata": {},
     "output_type": "execute_result"
    }
   ],
   "source": [
    "n = 1000\n",
    "n = np.random.normal(size = n)\n",
    "\n",
    "np.var(n)"
   ]
  },
  {
   "cell_type": "markdown",
   "metadata": {
    "ein.tags": "worksheet-0",
    "slideshow": {
     "slide_type": "-"
    }
   },
   "source": [
    "Compute the confidence intervals: $[mean - 1.96*std, mean +\n",
    "                                    1.96*std]$.  Given the confidence\n",
    "intervals, find which percentage of the sample falls outside of the interval."
   ]
  },
  {
   "cell_type": "code",
   "execution_count": 13,
   "metadata": {
    "autoscroll": false,
    "ein.tags": "worksheet-0",
    "slideshow": {
     "slide_type": "-"
    }
   },
   "outputs": [
    {
     "name": "stdout",
     "output_type": "stream",
     "text": [
      "-1.9976092677678692 1.9555819423555245\n"
     ]
    }
   ],
   "source": [
    "mean = np.mean(n)\n",
    "sigma = np.std(n)\n",
    "cf_left = mean - 1.96*sigma\n",
    "cf_right = mean + 1.96*sigma\n",
    "\n",
    "print (cf_left, cf_right)"
   ]
  },
  {
   "cell_type": "code",
   "execution_count": 15,
   "metadata": {},
   "outputs": [
    {
     "name": "stdout",
     "output_type": "stream",
     "text": [
      "0.04400000000000004\n"
     ]
    }
   ],
   "source": [
    "count = 0\n",
    "for i in n:\n",
    "    if (i > cf_left and i < cf_right):\n",
    "        count = count + 1\n",
    "print (1-count/1000)"
   ]
  },
  {
   "cell_type": "markdown",
   "metadata": {
    "ein.tags": "worksheet-0",
    "slideshow": {
     "slide_type": "-"
    }
   },
   "source": [
    "## 2. Variance of means\n",
    "\n",
    "Do a similar exercise, just instead of random numbers, pick means of a\n",
    "random sample (of size $n$ = 1, 3, 10, 30, ..., 1000, ... as far as your\n",
    "               computer can go).\n",
    "* How big is the variance of these means?\n",
    "* what is the confidence interval?\n",
    "* what percentage of observations fall outside of the interval?\n",
    "* how does all that depend on the sample size $n$?"
   ]
  },
  {
   "cell_type": "code",
   "execution_count": 3,
   "metadata": {
    "autoscroll": false,
    "ein.tags": "worksheet-0",
    "slideshow": {
     "slide_type": "-"
    }
   },
   "outputs": [],
   "source": [
    "n = 1\n",
    "m = 1000\n"
   ]
  },
  {
   "cell_type": "code",
   "execution_count": null,
   "metadata": {},
   "outputs": [],
   "source": []
  },
  {
   "cell_type": "code",
   "execution_count": null,
   "metadata": {},
   "outputs": [],
   "source": []
  }
 ],
 "metadata": {
  "kernelspec": {
   "display_name": "Python 3",
   "language": "python",
   "name": "python3"
  },
  "language_info": {
   "codemirror_mode": {
    "name": "ipython",
    "version": 3
   },
   "file_extension": ".py",
   "mimetype": "text/x-python",
   "name": "python",
   "nbconvert_exporter": "python",
   "pygments_lexer": "ipython3",
   "version": "3.6.4"
  },
  "name": "stats.ipynb"
 },
 "nbformat": 4,
 "nbformat_minor": 2
}
