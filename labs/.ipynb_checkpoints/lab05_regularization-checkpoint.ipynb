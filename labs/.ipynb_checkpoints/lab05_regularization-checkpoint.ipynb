{
 "cells": [
  {
   "cell_type": "code",
   "execution_count": 1,
   "metadata": {},
   "outputs": [],
   "source": [
    "import numpy as np\n",
    "import pandas as pd\n",
    "import matplotlib.pyplot as plt\n",
    "\n",
    "from sklearn.linear_model import LinearRegression, Ridge, Lasso\n",
    "\n",
    "%matplotlib inline"
   ]
  },
  {
   "cell_type": "code",
   "execution_count": 2,
   "metadata": {},
   "outputs": [
    {
     "data": {
      "text/html": [
       "<div>\n",
       "<style scoped>\n",
       "    .dataframe tbody tr th:only-of-type {\n",
       "        vertical-align: middle;\n",
       "    }\n",
       "\n",
       "    .dataframe tbody tr th {\n",
       "        vertical-align: top;\n",
       "    }\n",
       "\n",
       "    .dataframe thead th {\n",
       "        text-align: right;\n",
       "    }\n",
       "</style>\n",
       "<table border=\"1\" class=\"dataframe\">\n",
       "  <thead>\n",
       "    <tr style=\"text-align: right;\">\n",
       "      <th></th>\n",
       "      <th>x_1</th>\n",
       "      <th>x_2</th>\n",
       "      <th>x_3</th>\n",
       "      <th>x_4</th>\n",
       "      <th>x_5</th>\n",
       "      <th>x_6</th>\n",
       "      <th>x_7</th>\n",
       "      <th>x_8</th>\n",
       "      <th>x_9</th>\n",
       "      <th>x_10</th>\n",
       "      <th>...</th>\n",
       "      <th>x_26</th>\n",
       "      <th>x_27</th>\n",
       "      <th>x_28</th>\n",
       "      <th>x_29</th>\n",
       "      <th>x_30</th>\n",
       "      <th>x_31</th>\n",
       "      <th>x_32</th>\n",
       "      <th>x_33</th>\n",
       "      <th>x_34</th>\n",
       "      <th>target</th>\n",
       "    </tr>\n",
       "  </thead>\n",
       "  <tbody>\n",
       "    <tr>\n",
       "      <th>0</th>\n",
       "      <td>1</td>\n",
       "      <td>0</td>\n",
       "      <td>0.99539</td>\n",
       "      <td>-0.05889</td>\n",
       "      <td>0.85243</td>\n",
       "      <td>0.02306</td>\n",
       "      <td>0.83398</td>\n",
       "      <td>-0.37708</td>\n",
       "      <td>1.00000</td>\n",
       "      <td>0.03760</td>\n",
       "      <td>...</td>\n",
       "      <td>-0.51171</td>\n",
       "      <td>0.41078</td>\n",
       "      <td>-0.46168</td>\n",
       "      <td>0.21266</td>\n",
       "      <td>-0.34090</td>\n",
       "      <td>0.42267</td>\n",
       "      <td>-0.54487</td>\n",
       "      <td>0.18641</td>\n",
       "      <td>-0.45300</td>\n",
       "      <td>g</td>\n",
       "    </tr>\n",
       "    <tr>\n",
       "      <th>1</th>\n",
       "      <td>1</td>\n",
       "      <td>0</td>\n",
       "      <td>1.00000</td>\n",
       "      <td>-0.18829</td>\n",
       "      <td>0.93035</td>\n",
       "      <td>-0.36156</td>\n",
       "      <td>-0.10868</td>\n",
       "      <td>-0.93597</td>\n",
       "      <td>1.00000</td>\n",
       "      <td>-0.04549</td>\n",
       "      <td>...</td>\n",
       "      <td>-0.26569</td>\n",
       "      <td>-0.20468</td>\n",
       "      <td>-0.18401</td>\n",
       "      <td>-0.19040</td>\n",
       "      <td>-0.11593</td>\n",
       "      <td>-0.16626</td>\n",
       "      <td>-0.06288</td>\n",
       "      <td>-0.13738</td>\n",
       "      <td>-0.02447</td>\n",
       "      <td>b</td>\n",
       "    </tr>\n",
       "    <tr>\n",
       "      <th>2</th>\n",
       "      <td>1</td>\n",
       "      <td>0</td>\n",
       "      <td>1.00000</td>\n",
       "      <td>-0.03365</td>\n",
       "      <td>1.00000</td>\n",
       "      <td>0.00485</td>\n",
       "      <td>1.00000</td>\n",
       "      <td>-0.12062</td>\n",
       "      <td>0.88965</td>\n",
       "      <td>0.01198</td>\n",
       "      <td>...</td>\n",
       "      <td>-0.40220</td>\n",
       "      <td>0.58984</td>\n",
       "      <td>-0.22145</td>\n",
       "      <td>0.43100</td>\n",
       "      <td>-0.17365</td>\n",
       "      <td>0.60436</td>\n",
       "      <td>-0.24180</td>\n",
       "      <td>0.56045</td>\n",
       "      <td>-0.38238</td>\n",
       "      <td>g</td>\n",
       "    </tr>\n",
       "    <tr>\n",
       "      <th>3</th>\n",
       "      <td>1</td>\n",
       "      <td>0</td>\n",
       "      <td>1.00000</td>\n",
       "      <td>-0.45161</td>\n",
       "      <td>1.00000</td>\n",
       "      <td>1.00000</td>\n",
       "      <td>0.71216</td>\n",
       "      <td>-1.00000</td>\n",
       "      <td>0.00000</td>\n",
       "      <td>0.00000</td>\n",
       "      <td>...</td>\n",
       "      <td>0.90695</td>\n",
       "      <td>0.51613</td>\n",
       "      <td>1.00000</td>\n",
       "      <td>1.00000</td>\n",
       "      <td>-0.20099</td>\n",
       "      <td>0.25682</td>\n",
       "      <td>1.00000</td>\n",
       "      <td>-0.32382</td>\n",
       "      <td>1.00000</td>\n",
       "      <td>b</td>\n",
       "    </tr>\n",
       "    <tr>\n",
       "      <th>4</th>\n",
       "      <td>1</td>\n",
       "      <td>0</td>\n",
       "      <td>1.00000</td>\n",
       "      <td>-0.02401</td>\n",
       "      <td>0.94140</td>\n",
       "      <td>0.06531</td>\n",
       "      <td>0.92106</td>\n",
       "      <td>-0.23255</td>\n",
       "      <td>0.77152</td>\n",
       "      <td>-0.16399</td>\n",
       "      <td>...</td>\n",
       "      <td>-0.65158</td>\n",
       "      <td>0.13290</td>\n",
       "      <td>-0.53206</td>\n",
       "      <td>0.02431</td>\n",
       "      <td>-0.62197</td>\n",
       "      <td>-0.05707</td>\n",
       "      <td>-0.59573</td>\n",
       "      <td>-0.04608</td>\n",
       "      <td>-0.65697</td>\n",
       "      <td>g</td>\n",
       "    </tr>\n",
       "  </tbody>\n",
       "</table>\n",
       "<p>5 rows × 35 columns</p>\n",
       "</div>"
      ],
      "text/plain": [
       "   x_1  x_2      x_3      x_4      x_5      x_6      x_7      x_8      x_9  \\\n",
       "0    1    0  0.99539 -0.05889  0.85243  0.02306  0.83398 -0.37708  1.00000   \n",
       "1    1    0  1.00000 -0.18829  0.93035 -0.36156 -0.10868 -0.93597  1.00000   \n",
       "2    1    0  1.00000 -0.03365  1.00000  0.00485  1.00000 -0.12062  0.88965   \n",
       "3    1    0  1.00000 -0.45161  1.00000  1.00000  0.71216 -1.00000  0.00000   \n",
       "4    1    0  1.00000 -0.02401  0.94140  0.06531  0.92106 -0.23255  0.77152   \n",
       "\n",
       "      x_10   ...       x_26     x_27     x_28     x_29     x_30     x_31  \\\n",
       "0  0.03760   ...   -0.51171  0.41078 -0.46168  0.21266 -0.34090  0.42267   \n",
       "1 -0.04549   ...   -0.26569 -0.20468 -0.18401 -0.19040 -0.11593 -0.16626   \n",
       "2  0.01198   ...   -0.40220  0.58984 -0.22145  0.43100 -0.17365  0.60436   \n",
       "3  0.00000   ...    0.90695  0.51613  1.00000  1.00000 -0.20099  0.25682   \n",
       "4 -0.16399   ...   -0.65158  0.13290 -0.53206  0.02431 -0.62197 -0.05707   \n",
       "\n",
       "      x_32     x_33     x_34  target  \n",
       "0 -0.54487  0.18641 -0.45300       g  \n",
       "1 -0.06288 -0.13738 -0.02447       b  \n",
       "2 -0.24180  0.56045 -0.38238       g  \n",
       "3  1.00000 -0.32382  1.00000       b  \n",
       "4 -0.59573 -0.04608 -0.65697       g  \n",
       "\n",
       "[5 rows x 35 columns]"
      ]
     },
     "execution_count": 2,
     "metadata": {},
     "output_type": "execute_result"
    }
   ],
   "source": [
    "#read the data\n",
    "data = pd.read_csv('../data/ionosphere.csv')\n",
    "data.head()"
   ]
  },
  {
   "cell_type": "markdown",
   "metadata": {},
   "source": [
    "#### Some information on the dataset\n",
    "This radar data was collected by a system in Goose Bay, Labrador. This system consists of a phased array of 16 high-frequency antennas with a total transmitted power on the order of 6.4 kilowatts. See the [paper](https://pdfs.semanticscholar.org/e0d2/de05caacdfa8073b2b4f77c5e72cb2449b81.pdf) for more details. \n",
    "\n",
    "The targets were free electrons in the ionosphere.\"Good\" radar returns are those showing evidence of some type of structure in the ionosphere. \"Bad\" returns are those that do not; their signals pass through the ionosphere. "
   ]
  },
  {
   "cell_type": "markdown",
   "metadata": {},
   "source": [
    "In order to check the effect of regularization on test data, split the data into train and test using sklearn."
   ]
  },
  {
   "cell_type": "code",
   "execution_count": 3,
   "metadata": {},
   "outputs": [
    {
     "data": {
      "text/plain": [
       "280"
      ]
     },
     "execution_count": 3,
     "metadata": {},
     "output_type": "execute_result"
    }
   ],
   "source": [
    "from sklearn.model_selection import train_test_split\n",
    "\n",
    "#split the data into train and test\n",
    "features = [item for item in data.columns[:-1]]\n",
    "data = data.replace({'g':1, 'b': 0})\n",
    "X = data[features]\n",
    "y = data[\"target\"]\n",
    "x_train, x_test, y_train, y_test = train_test_split(X, y, test_size=0.2)\n",
    "len(x_train)"
   ]
  },
  {
   "cell_type": "markdown",
   "metadata": {},
   "source": [
    "Create a model using Logistic Regression from sklearn. "
   ]
  },
  {
   "cell_type": "code",
   "execution_count": 4,
   "metadata": {},
   "outputs": [
    {
     "name": "stdout",
     "output_type": "stream",
     "text": [
      "logistic coefficients: [[ 1.32045753  0.          1.59579905  0.68578992  1.16167967  0.93302896\n",
      "   0.62024481  1.02676773  0.91622331  0.12747296 -1.04717726 -0.23710863\n",
      "  -0.03646835  0.64310562  0.82227942 -0.00472751  0.17258024  0.24355136\n",
      "  -0.77916886 -0.19301605  0.06194289 -1.64456072  0.99757557  0.31463758\n",
      "  -0.22099731  1.13450616 -2.28084004 -0.52074871  1.14348606  0.4384442\n",
      "   0.82504707 -0.15269623 -0.318548   -0.7504029 ]]\n"
     ]
    },
    {
     "data": {
      "text/plain": [
       "0.8169014084507042"
      ]
     },
     "execution_count": 4,
     "metadata": {},
     "output_type": "execute_result"
    }
   ],
   "source": [
    "from sklearn.linear_model import LogisticRegression\n",
    "\n",
    "logistic = LogisticRegression(penalty = 'l2', C = 1).fit(x_train,y_train)\n",
    "print(\"logistic coefficients:\", logistic.coef_)\n",
    "\n",
    "yhat = logistic.predict(x_test)\n",
    "np.mean(y_test == yhat)  ## y_test == yhat equals 1 if the two values equals to each other, equals 0  if the two value do note equal to each other\n",
    "\n"
   ]
  },
  {
   "cell_type": "markdown",
   "metadata": {},
   "source": [
    "    1. Perform a ridge regression using sklearn. Test for the accuracy on the test dataset"
   ]
  },
  {
   "cell_type": "code",
   "execution_count": 5,
   "metadata": {},
   "outputs": [
    {
     "name": "stdout",
     "output_type": "stream",
     "text": [
      "ridge coefficients: [[ 1.32045753  0.          1.59579905  0.68578992  1.16167967  0.93302896\n",
      "   0.62024481  1.02676773  0.91622331  0.12747296 -1.04717726 -0.23710863\n",
      "  -0.03646835  0.64310562  0.82227942 -0.00472751  0.17258024  0.24355136\n",
      "  -0.77916886 -0.19301605  0.06194289 -1.64456072  0.99757557  0.31463758\n",
      "  -0.22099731  1.13450616 -2.28084004 -0.52074871  1.14348606  0.4384442\n",
      "   0.82504707 -0.15269623 -0.318548   -0.7504029 ]]\n"
     ]
    },
    {
     "data": {
      "text/plain": [
       "0.8169014084507042"
      ]
     },
     "execution_count": 5,
     "metadata": {},
     "output_type": "execute_result"
    }
   ],
   "source": [
    "#perform ridge regression and test accuracy\n",
    "ridge = LogisticRegression(penalty = 'l2', C = 1).fit(x_train,y_train)\n",
    "print(\"ridge coefficients:\", ridge.coef_)\n",
    "\n",
    "np.mean(y_test == ridge.predict(x_test))"
   ]
  },
  {
   "cell_type": "markdown",
   "metadata": {},
   "source": [
    "    2. Perform lasso regression using sklearn. Test for the accuracy on the test dataset"
   ]
  },
  {
   "cell_type": "code",
   "execution_count": 6,
   "metadata": {},
   "outputs": [
    {
     "name": "stdout",
     "output_type": "stream",
     "text": [
      "lasso coefficients [[ 2.82101277  0.          1.9951411   0.40862684  1.15327047  0.86692288\n",
      "   0.69096919  0.80931522  0.5401186   0.         -1.02268662  0.\n",
      "   0.          0.44015242  0.8058213   0.          0.07938741  0.11157532\n",
      "  -0.9642519   0.          0.         -1.92592705  1.03373505  0.19493134\n",
      "   0.          0.93669389 -2.80681665  0.          1.35762774  0.5728914\n",
      "   0.93394788  0.         -0.10814162 -0.92261155]]\n"
     ]
    },
    {
     "data": {
      "text/plain": [
       "0.8591549295774648"
      ]
     },
     "execution_count": 6,
     "metadata": {},
     "output_type": "execute_result"
    }
   ],
   "source": [
    "#perform lasso regression and test accuracy\n",
    "lasso = LogisticRegression(penalty = 'l1', C = 1).fit(x_train,y_train)\n",
    "print(\"lasso coefficients\", lasso.coef_)\n",
    "\n",
    "np.mean(y_test == lasso.predict(x_test))"
   ]
  },
  {
   "cell_type": "markdown",
   "metadata": {},
   "source": [
    "    3. Tune the parameters of C(1/lambda) and appropriate choice of regularization. Default values of C and regularization is 1.0 and 'l2' - ridge respectively. Record the results (accuracy, coefficients and lambdas) in a dataframe."
   ]
  },
  {
   "cell_type": "code",
   "execution_count": 7,
   "metadata": {
    "scrolled": true
   },
   "outputs": [
    {
     "data": {
      "text/plain": [
       "(array([[ 1.32045753,  0.        ,  1.59579905,  0.68578992,  1.16167967,\n",
       "          0.93302896,  0.62024481,  1.02676773,  0.91622331,  0.12747296,\n",
       "         -1.04717726, -0.23710863, -0.03646835,  0.64310562,  0.82227942,\n",
       "         -0.00472751,  0.17258024,  0.24355136, -0.77916886, -0.19301605,\n",
       "          0.06194289, -1.64456072,  0.99757557,  0.31463758, -0.22099731,\n",
       "          1.13450616, -2.28084004, -0.52074871,  1.14348606,  0.4384442 ,\n",
       "          0.82504707, -0.15269623, -0.318548  , -0.7504029 ]]),\n",
       " 0.8169014084507042,\n",
       " 1.0)"
      ]
     },
     "execution_count": 7,
     "metadata": {},
     "output_type": "execute_result"
    }
   ],
   "source": [
    "#perform tuning and record the results\n",
    "\n",
    "def get_result(regularization, C):\n",
    "    if regularization == \"ridge\":\n",
    "        penalty = \"l2\"\n",
    "    else:\n",
    "        penalty = \"l1\"\n",
    "    model = LogisticRegression(penalty = penalty, C = C).fit(x_train,y_train)\n",
    "    accuracy = np.mean(y_test == model.predict(x_test))\n",
    "    lambdas = 1/C\n",
    "    return model.coef_, accuracy, lambdas\n",
    "\n",
    "get_result(\"ridge\", 1)"
   ]
  },
  {
   "cell_type": "code",
   "execution_count": 32,
   "metadata": {},
   "outputs": [
    {
     "data": {
      "text/html": [
       "<div>\n",
       "<style scoped>\n",
       "    .dataframe tbody tr th:only-of-type {\n",
       "        vertical-align: middle;\n",
       "    }\n",
       "\n",
       "    .dataframe tbody tr th {\n",
       "        vertical-align: top;\n",
       "    }\n",
       "\n",
       "    .dataframe thead th {\n",
       "        text-align: right;\n",
       "    }\n",
       "</style>\n",
       "<table border=\"1\" class=\"dataframe\">\n",
       "  <thead>\n",
       "    <tr style=\"text-align: right;\">\n",
       "      <th></th>\n",
       "      <th>accuracy</th>\n",
       "      <th>coef</th>\n",
       "      <th>lambdas</th>\n",
       "    </tr>\n",
       "  </thead>\n",
       "  <tbody>\n",
       "    <tr>\n",
       "      <th>0</th>\n",
       "      <td>0.338028</td>\n",
       "      <td>[0.0, 0.0, 0.0, 0.0, 0.0, 0.0, 0.0, 0.0, 0.0, ...</td>\n",
       "      <td>1.000000e+05</td>\n",
       "    </tr>\n",
       "    <tr>\n",
       "      <th>1</th>\n",
       "      <td>0.338028</td>\n",
       "      <td>[0.0, 0.0, 0.0, 0.0, 0.0, 0.0, 0.0, 0.0, 0.0, ...</td>\n",
       "      <td>1.000000e+04</td>\n",
       "    </tr>\n",
       "    <tr>\n",
       "      <th>2</th>\n",
       "      <td>0.338028</td>\n",
       "      <td>[0.0, 0.0, 0.0, 0.0, 0.0, 0.0, 0.0, 0.0, 0.0, ...</td>\n",
       "      <td>1.000000e+03</td>\n",
       "    </tr>\n",
       "    <tr>\n",
       "      <th>3</th>\n",
       "      <td>0.338028</td>\n",
       "      <td>[0.0, 0.0, 0.0, 0.0, 0.0, 0.0, 0.0, 0.0, 0.0, ...</td>\n",
       "      <td>1.000000e+02</td>\n",
       "    </tr>\n",
       "    <tr>\n",
       "      <th>4</th>\n",
       "      <td>0.732394</td>\n",
       "      <td>[0.0, 0.0, 0.9346065118994029, 0.0, 0.75182452...</td>\n",
       "      <td>1.000000e+01</td>\n",
       "    </tr>\n",
       "    <tr>\n",
       "      <th>5</th>\n",
       "      <td>0.859155</td>\n",
       "      <td>[2.821816500750704, 0.0, 1.9953186189422323, 0...</td>\n",
       "      <td>1.000000e+00</td>\n",
       "    </tr>\n",
       "    <tr>\n",
       "      <th>6</th>\n",
       "      <td>0.802817</td>\n",
       "      <td>[14.085088792474373, 0.0, 5.878833662251286, 1...</td>\n",
       "      <td>1.000000e-01</td>\n",
       "    </tr>\n",
       "    <tr>\n",
       "      <th>7</th>\n",
       "      <td>0.816901</td>\n",
       "      <td>[45.251653764567806, 0.0, 12.199419314762949, ...</td>\n",
       "      <td>1.000000e-02</td>\n",
       "    </tr>\n",
       "    <tr>\n",
       "      <th>8</th>\n",
       "      <td>0.816901</td>\n",
       "      <td>[60.403022174801855, 0.0, 15.169765677812027, ...</td>\n",
       "      <td>1.000000e-03</td>\n",
       "    </tr>\n",
       "    <tr>\n",
       "      <th>9</th>\n",
       "      <td>0.816901</td>\n",
       "      <td>[59.20825583043972, 0.0, 15.098349428784793, 3...</td>\n",
       "      <td>1.000000e-04</td>\n",
       "    </tr>\n",
       "    <tr>\n",
       "      <th>10</th>\n",
       "      <td>0.816901</td>\n",
       "      <td>[63.48919226763011, 0.0, 15.743897115830642, 3...</td>\n",
       "      <td>1.000000e-05</td>\n",
       "    </tr>\n",
       "    <tr>\n",
       "      <th>11</th>\n",
       "      <td>0.816901</td>\n",
       "      <td>[64.44590752896839, 0.0, 15.88952357641705, 3....</td>\n",
       "      <td>1.000000e-06</td>\n",
       "    </tr>\n",
       "    <tr>\n",
       "      <th>12</th>\n",
       "      <td>0.816901</td>\n",
       "      <td>[59.25265041138341, 0.0, 15.128365981330397, 3...</td>\n",
       "      <td>1.000000e-07</td>\n",
       "    </tr>\n",
       "    <tr>\n",
       "      <th>13</th>\n",
       "      <td>0.816901</td>\n",
       "      <td>[62.17133582468797, 0.0, 15.558467466127965, 3...</td>\n",
       "      <td>1.000000e-08</td>\n",
       "    </tr>\n",
       "    <tr>\n",
       "      <th>14</th>\n",
       "      <td>0.816901</td>\n",
       "      <td>[61.20334820586733, 0.0, 15.41479620012503, 3....</td>\n",
       "      <td>1.000000e-09</td>\n",
       "    </tr>\n",
       "    <tr>\n",
       "      <th>15</th>\n",
       "      <td>0.816901</td>\n",
       "      <td>[63.41117243484684, 0.0, 15.736724607302763, 3...</td>\n",
       "      <td>1.000000e-10</td>\n",
       "    </tr>\n",
       "    <tr>\n",
       "      <th>16</th>\n",
       "      <td>0.816901</td>\n",
       "      <td>[63.411483359357696, 0.0, 15.73606795639554, 3...</td>\n",
       "      <td>1.000000e-11</td>\n",
       "    </tr>\n",
       "  </tbody>\n",
       "</table>\n",
       "</div>"
      ],
      "text/plain": [
       "    accuracy                                               coef       lambdas\n",
       "0   0.338028  [0.0, 0.0, 0.0, 0.0, 0.0, 0.0, 0.0, 0.0, 0.0, ...  1.000000e+05\n",
       "1   0.338028  [0.0, 0.0, 0.0, 0.0, 0.0, 0.0, 0.0, 0.0, 0.0, ...  1.000000e+04\n",
       "2   0.338028  [0.0, 0.0, 0.0, 0.0, 0.0, 0.0, 0.0, 0.0, 0.0, ...  1.000000e+03\n",
       "3   0.338028  [0.0, 0.0, 0.0, 0.0, 0.0, 0.0, 0.0, 0.0, 0.0, ...  1.000000e+02\n",
       "4   0.732394  [0.0, 0.0, 0.9346065118994029, 0.0, 0.75182452...  1.000000e+01\n",
       "5   0.859155  [2.821816500750704, 0.0, 1.9953186189422323, 0...  1.000000e+00\n",
       "6   0.802817  [14.085088792474373, 0.0, 5.878833662251286, 1...  1.000000e-01\n",
       "7   0.816901  [45.251653764567806, 0.0, 12.199419314762949, ...  1.000000e-02\n",
       "8   0.816901  [60.403022174801855, 0.0, 15.169765677812027, ...  1.000000e-03\n",
       "9   0.816901  [59.20825583043972, 0.0, 15.098349428784793, 3...  1.000000e-04\n",
       "10  0.816901  [63.48919226763011, 0.0, 15.743897115830642, 3...  1.000000e-05\n",
       "11  0.816901  [64.44590752896839, 0.0, 15.88952357641705, 3....  1.000000e-06\n",
       "12  0.816901  [59.25265041138341, 0.0, 15.128365981330397, 3...  1.000000e-07\n",
       "13  0.816901  [62.17133582468797, 0.0, 15.558467466127965, 3...  1.000000e-08\n",
       "14  0.816901  [61.20334820586733, 0.0, 15.41479620012503, 3....  1.000000e-09\n",
       "15  0.816901  [63.41117243484684, 0.0, 15.736724607302763, 3...  1.000000e-10\n",
       "16  0.816901  [63.411483359357696, 0.0, 15.73606795639554, 3...  1.000000e-11"
      ]
     },
     "execution_count": 32,
     "metadata": {},
     "output_type": "execute_result"
    }
   ],
   "source": [
    "def dataframe(regularization):\n",
    "    accur = []\n",
    "    coef = []\n",
    "    lambdas = []\n",
    "    C = 1e-5\n",
    "    while C < 1e12:\n",
    "        coefficient, accuracy, Lambda = get_result(regularization, C)\n",
    "        accur.append(accuracy)\n",
    "        coef.append(coefficient)\n",
    "        lambdas.append(Lambda)\n",
    "        C = C*10\n",
    "    coef = [x for item in coef for x in item]\n",
    "    d = {\"accuracy\": accur, \"coef\": coef, \"lambdas\": lambdas}\n",
    "    dataframe = pd.DataFrame(data = d)\n",
    "    return dataframe\n",
    "dataframe(\"lasso\")"
   ]
  },
  {
   "cell_type": "markdown",
   "metadata": {},
   "source": [
    "    4. Plot the coefficients against lambdas and accuracy against lambdas for both lasso and ridge regularization."
   ]
  },
  {
   "cell_type": "code",
   "execution_count": 35,
   "metadata": {},
   "outputs": [
    {
     "data": {
      "text/plain": [
       "<matplotlib.legend.Legend at 0x1a13143320>"
      ]
     },
     "execution_count": 35,
     "metadata": {},
     "output_type": "execute_result"
    },
    {
     "data": {
      "image/png": "[encoded data removed]",
      "text/plain": [
       "<matplotlib.figure.Figure at 0x1a1320a978>"
      ]
     },
     "metadata": {},
     "output_type": "display_data"
    }
   ],
   "source": [
    "#plot coefficients against lambdas and accuracy against lambdas\n",
    "df_ridge = dataframe('ridge')\n",
    "plt.plot(np.log(df_ridge['lambdas']),df_ridge.accuracy, label = 'ridge')\n",
    "\n",
    "df_lasso = dataframe('lasso')\n",
    "plt.plot(np.log(df_lasso['lambdas']),df_lasso.accuracy, label = 'lasso')\n",
    "\n",
    "plt.legend()"
   ]
  },
  {
   "cell_type": "code",
   "execution_count": 38,
   "metadata": {},
   "outputs": [
    {
     "name": "stdout",
     "output_type": "stream",
     "text": [
      "Ridge\n"
     ]
    },
    {
     "data": {
      "image/png": "[encoded data removed]",
      "text/plain": [
       "<matplotlib.figure.Figure at 0x1a1334ee48>"
      ]
     },
     "metadata": {},
     "output_type": "display_data"
    },
    {
     "name": "stdout",
     "output_type": "stream",
     "text": [
      "Lasso\n"
     ]
    },
    {
     "data": {
      "image/png": "[encoded data removed]",
      "text/plain": [
       "<matplotlib.figure.Figure at 0x1a13421470>"
      ]
     },
     "metadata": {},
     "output_type": "display_data"
    }
   ],
   "source": [
    "print(\"Ridge\")\n",
    "for y in range(len(df_ridge)):\n",
    "    x=[x[y] for x in df['coef']]\n",
    "    plt.semilogx(df['lambdas'],x)\n",
    "plt.gca().invert_xaxis()\n",
    "plt.xlabel('Log(C)')\n",
    "plt.ylabel('coefficients')\n",
    "plt.show()\n",
    "\n",
    "print(\"Lasso\")\n",
    "for y in range(len(df_lasso)):\n",
    "    x=[x[y] for x in df['coef']]\n",
    "    plt.semilogx(df['lambdas'],x)\n",
    "plt.gca().invert_xaxis()\n",
    "plt.xlabel('Log(C)')\n",
    "plt.ylabel('coefficients')\n",
    "plt.show()"
   ]
  },
  {
   "cell_type": "code",
   "execution_count": null,
   "metadata": {},
   "outputs": [],
   "source": []
  }
 ],
 "metadata": {
  "kernelspec": {
   "display_name": "Python 3",
   "language": "python",
   "name": "python3"
  },
  "language_info": {
   "codemirror_mode": {
    "name": "ipython",
    "version": 3
   },
   "file_extension": ".py",
   "mimetype": "text/x-python",
   "name": "python",
   "nbconvert_exporter": "python",
   "pygments_lexer": "ipython3",
   "version": "3.6.4"
  }
 },
 "nbformat": 4,
 "nbformat_minor": 2
}
