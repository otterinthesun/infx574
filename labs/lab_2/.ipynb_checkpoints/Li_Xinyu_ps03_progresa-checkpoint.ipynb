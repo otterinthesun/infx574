{
 "cells": [
  {
   "cell_type": "markdown",
   "metadata": {
    "ein.tags": "worksheet-0",
    "slideshow": {
     "slide_type": "-"
    }
   },
   "source": [
    "# Problem Set 3, due Wednesday, May 3rd, 5:30pm."
   ]
  },
  {
   "cell_type": "markdown",
   "metadata": {
    "ein.tags": "worksheet-0",
    "slideshow": {
     "slide_type": "-"
    }
   },
   "source": [
    "## Introduction to the assignment\n",
    "\n",
    "For this assignment, you will be using data from the [Progresa\n",
    "program](http://en.wikipedia.org/wiki/Oportunidades), a government\n",
    "social assistance program in Mexico. This program, as well as the\n",
    "details of its impact, are described in the paper \"[School subsidies\n",
    "for the poor: evaluating the Mexican Progresa poverty\n",
    "program](http://www.sciencedirect.com/science/article/pii/S0304387803001858)\",\n",
    "by Paul Shultz (available on Canvas).  The data\n",
    "(progresa_sample.csv.gz) is available on canvas\n",
    "in files/data.\n",
    "\n",
    "Please read the paper to familiarize yourself with\n",
    "the PROGRESA program before beginning this problem set, so you have a\n",
    "rough sense of where the data come from and how they were\n",
    "generated. If you just proceed into the problem set without\n",
    "understanding Progresa or the data, it will be very difficult!\n",
    "\n",
    "The goal of this problem set is to implement some of the basic\n",
    "econometric techniques that you are learning in class to measure the\n",
    "impact of Progresa on secondary school enrollment rates, in particular\n",
    "differences-in-differences.  Your task is to **estimate the impact of\n",
    "_progresa_ subsidies on the school attendance**.  Note: this asks to\n",
    "estimate a causal effect.\n",
    "\n",
    "The timeline of the program was:\n",
    "\n",
    " * Baseline survey conducted in 1997\n",
    " * Intervention begins in 1998, \"Wave 1\" of data collected in 1998\n",
    " * \"Wave 2 of data\" collected in 1999\n",
    " * Evaluation ends in 2000, at which point the control villages were treated. \n",
    " \n",
    "When you are ready, download the progresa_sample.csv data from\n",
    "Canvas. The data are actual data collected to evaluate the impact of\n",
    "the Progresa program.  In this file, each row corresponds to an\n",
    "observation taken for a given child for a given year. There are two\n",
    "years of data (1997 and 1998), and just under 40,000 children who are\n",
    "surveyed in both years.  For each child-year observation, the\n",
    "following variables are collected:\n",
    "\n",
    "| Variable name | Description|\n",
    "|------|------|\n",
    "|year\t  |year in which data is collected\n",
    "|sex\t  |male = 1|\n",
    "|indig\t  |indigenous = 1|\n",
    "|dist_sec |nearest distance to a secondary school|\n",
    "|sc\t      |enrolled in school in year of survey (=1)|\n",
    "|grc      |grade enrolled|\n",
    "|fam_n    |family size|\n",
    "|min_dist |\tmin distance to an urban center|\n",
    "|dist_cap |\tmin distance to the capital|\n",
    "|poor     |\tpoor = \"pobre\", not poor = \"no pobre\"|\n",
    "|progresa |treatment = \"basal\", control = \"0\"|\n",
    "|hohedu\t  |years of schooling of head of household|\n",
    "|hohwag\t  |monthly wages of head of household|\n",
    "|welfare_index|\twelfare index used to classify poor|\n",
    "|hohsex\t|gender of head of household (male=1)|\n",
    "|hohage\t|age of head of household|\n",
    "|age\t|years old|\n",
    "|folnum\t|individual id|\n",
    "|village|\tvillage id|\n",
    "|sc97\t|enrolled in school in 1997 (=1) |"
   ]
  },
  {
   "cell_type": "code",
   "execution_count": 1,
   "metadata": {},
   "outputs": [
    {
     "name": "stdout",
     "output_type": "stream",
     "text": [
      "3.6.4 |Anaconda, Inc.| (default, Jan 16 2018, 12:04:33) \n",
      "[GCC 4.2.1 Compatible Clang 4.0.1 (tags/RELEASE_401/final)]\n"
     ]
    },
    {
     "name": "stderr",
     "output_type": "stream",
     "text": [
      "/Users/jennyli/anaconda3/lib/python3.6/site-packages/statsmodels/compat/pandas.py:56: FutureWarning: The pandas.core.datetools module is deprecated and will be removed in a future version. Please use the pandas.tseries module instead.\n",
      "  from pandas.core import datetools\n"
     ]
    }
   ],
   "source": [
    "import sys; print(sys.version)\n",
    "import pandas as pd\n",
    "import scipy.stats as stats\n",
    "import numpy as np\n",
    "import os\n",
    "import matplotlib.pyplot as plt\n",
    "import statsmodels.api as sm\n",
    "import statsmodels.formula.api as smf\n",
    "\n",
    "%matplotlib inline"
   ]
  },
  {
   "cell_type": "code",
   "execution_count": 2,
   "metadata": {},
   "outputs": [
    {
     "data": {
      "text/html": [
       "<div>\n",
       "<style scoped>\n",
       "    .dataframe tbody tr th:only-of-type {\n",
       "        vertical-align: middle;\n",
       "    }\n",
       "\n",
       "    .dataframe tbody tr th {\n",
       "        vertical-align: top;\n",
       "    }\n",
       "\n",
       "    .dataframe thead th {\n",
       "        text-align: right;\n",
       "    }\n",
       "</style>\n",
       "<table border=\"1\" class=\"dataframe\">\n",
       "  <thead>\n",
       "    <tr style=\"text-align: right;\">\n",
       "      <th></th>\n",
       "      <th>year</th>\n",
       "      <th>sex</th>\n",
       "      <th>indig</th>\n",
       "      <th>dist_sec</th>\n",
       "      <th>sc</th>\n",
       "      <th>grc</th>\n",
       "      <th>fam_n</th>\n",
       "      <th>min_dist</th>\n",
       "      <th>dist_cap</th>\n",
       "      <th>poor</th>\n",
       "      <th>...</th>\n",
       "      <th>hohedu</th>\n",
       "      <th>hohwag</th>\n",
       "      <th>welfare_index</th>\n",
       "      <th>hohsex</th>\n",
       "      <th>hohage</th>\n",
       "      <th>age</th>\n",
       "      <th>village</th>\n",
       "      <th>folnum</th>\n",
       "      <th>grc97</th>\n",
       "      <th>sc97</th>\n",
       "    </tr>\n",
       "  </thead>\n",
       "  <tbody>\n",
       "    <tr>\n",
       "      <th>0</th>\n",
       "      <td>97</td>\n",
       "      <td>0.0</td>\n",
       "      <td>0.0</td>\n",
       "      <td>4.473</td>\n",
       "      <td>1.0</td>\n",
       "      <td>7.0</td>\n",
       "      <td>7</td>\n",
       "      <td>21.168384</td>\n",
       "      <td>21.168384</td>\n",
       "      <td>pobre</td>\n",
       "      <td>...</td>\n",
       "      <td>6</td>\n",
       "      <td>0.0</td>\n",
       "      <td>583.0</td>\n",
       "      <td>1.0</td>\n",
       "      <td>35.0</td>\n",
       "      <td>13</td>\n",
       "      <td>163</td>\n",
       "      <td>1</td>\n",
       "      <td>7</td>\n",
       "      <td>1.0</td>\n",
       "    </tr>\n",
       "    <tr>\n",
       "      <th>1</th>\n",
       "      <td>98</td>\n",
       "      <td>0.0</td>\n",
       "      <td>0.0</td>\n",
       "      <td>4.473</td>\n",
       "      <td>1.0</td>\n",
       "      <td>8.0</td>\n",
       "      <td>7</td>\n",
       "      <td>21.168384</td>\n",
       "      <td>21.168384</td>\n",
       "      <td>pobre</td>\n",
       "      <td>...</td>\n",
       "      <td>6</td>\n",
       "      <td>0.0</td>\n",
       "      <td>583.0</td>\n",
       "      <td>1.0</td>\n",
       "      <td>35.0</td>\n",
       "      <td>14</td>\n",
       "      <td>163</td>\n",
       "      <td>1</td>\n",
       "      <td>7</td>\n",
       "      <td>1.0</td>\n",
       "    </tr>\n",
       "    <tr>\n",
       "      <th>2</th>\n",
       "      <td>97</td>\n",
       "      <td>1.0</td>\n",
       "      <td>0.0</td>\n",
       "      <td>4.473</td>\n",
       "      <td>1.0</td>\n",
       "      <td>6.0</td>\n",
       "      <td>7</td>\n",
       "      <td>21.168384</td>\n",
       "      <td>21.168384</td>\n",
       "      <td>pobre</td>\n",
       "      <td>...</td>\n",
       "      <td>6</td>\n",
       "      <td>0.0</td>\n",
       "      <td>583.0</td>\n",
       "      <td>1.0</td>\n",
       "      <td>35.0</td>\n",
       "      <td>12</td>\n",
       "      <td>163</td>\n",
       "      <td>2</td>\n",
       "      <td>6</td>\n",
       "      <td>1.0</td>\n",
       "    </tr>\n",
       "    <tr>\n",
       "      <th>3</th>\n",
       "      <td>98</td>\n",
       "      <td>1.0</td>\n",
       "      <td>0.0</td>\n",
       "      <td>4.473</td>\n",
       "      <td>1.0</td>\n",
       "      <td>7.0</td>\n",
       "      <td>7</td>\n",
       "      <td>21.168384</td>\n",
       "      <td>21.168384</td>\n",
       "      <td>pobre</td>\n",
       "      <td>...</td>\n",
       "      <td>6</td>\n",
       "      <td>0.0</td>\n",
       "      <td>583.0</td>\n",
       "      <td>1.0</td>\n",
       "      <td>35.0</td>\n",
       "      <td>13</td>\n",
       "      <td>163</td>\n",
       "      <td>2</td>\n",
       "      <td>6</td>\n",
       "      <td>1.0</td>\n",
       "    </tr>\n",
       "    <tr>\n",
       "      <th>4</th>\n",
       "      <td>97</td>\n",
       "      <td>0.0</td>\n",
       "      <td>0.0</td>\n",
       "      <td>4.473</td>\n",
       "      <td>1.0</td>\n",
       "      <td>2.0</td>\n",
       "      <td>7</td>\n",
       "      <td>21.168384</td>\n",
       "      <td>21.168384</td>\n",
       "      <td>pobre</td>\n",
       "      <td>...</td>\n",
       "      <td>6</td>\n",
       "      <td>0.0</td>\n",
       "      <td>583.0</td>\n",
       "      <td>1.0</td>\n",
       "      <td>35.0</td>\n",
       "      <td>8</td>\n",
       "      <td>163</td>\n",
       "      <td>3</td>\n",
       "      <td>2</td>\n",
       "      <td>1.0</td>\n",
       "    </tr>\n",
       "  </tbody>\n",
       "</table>\n",
       "<p>5 rows × 21 columns</p>\n",
       "</div>"
      ],
      "text/plain": [
       "   year  sex  indig  dist_sec   sc  grc  fam_n   min_dist   dist_cap   poor  \\\n",
       "0    97  0.0    0.0     4.473  1.0  7.0      7  21.168384  21.168384  pobre   \n",
       "1    98  0.0    0.0     4.473  1.0  8.0      7  21.168384  21.168384  pobre   \n",
       "2    97  1.0    0.0     4.473  1.0  6.0      7  21.168384  21.168384  pobre   \n",
       "3    98  1.0    0.0     4.473  1.0  7.0      7  21.168384  21.168384  pobre   \n",
       "4    97  0.0    0.0     4.473  1.0  2.0      7  21.168384  21.168384  pobre   \n",
       "\n",
       "   ...  hohedu  hohwag  welfare_index  hohsex  hohage  age  village  folnum  \\\n",
       "0  ...       6     0.0          583.0     1.0    35.0   13      163       1   \n",
       "1  ...       6     0.0          583.0     1.0    35.0   14      163       1   \n",
       "2  ...       6     0.0          583.0     1.0    35.0   12      163       2   \n",
       "3  ...       6     0.0          583.0     1.0    35.0   13      163       2   \n",
       "4  ...       6     0.0          583.0     1.0    35.0    8      163       3   \n",
       "\n",
       "   grc97  sc97  \n",
       "0      7   1.0  \n",
       "1      7   1.0  \n",
       "2      6   1.0  \n",
       "3      6   1.0  \n",
       "4      2   1.0  \n",
       "\n",
       "[5 rows x 21 columns]"
      ]
     },
     "execution_count": 2,
     "metadata": {},
     "output_type": "execute_result"
    }
   ],
   "source": [
    "# loading the data\n",
    "pdf = pd.read_csv('progresa_sample.csv.gz')\n",
    "\n",
    "#check the first couple of rows to see what's the data like\n",
    "pdf.head()"
   ]
  },
  {
   "cell_type": "code",
   "execution_count": 3,
   "metadata": {},
   "outputs": [
    {
     "name": "stdout",
     "output_type": "stream",
     "text": [
      "(77250, 21)\n"
     ]
    }
   ],
   "source": [
    "# check basic data information\n",
    "print(pdf.shape)"
   ]
  },
  {
   "cell_type": "markdown",
   "metadata": {
    "ein.tags": "worksheet-0",
    "slideshow": {
     "slide_type": "-"
    }
   },
   "source": [
    "## Part 1: Descriptive analysis\n",
    "\n",
    "### 1.1\tSummary Statistics\n",
    "\n",
    "Report summary statistics (mean, standard deviation, and number of missings) for all of\n",
    "the demographic variables in the dataset (i.e., everything except\n",
    "year, folnum, village).  Present the actual levels for 'progresa' and\n",
    "'poor'.  Do these fit with the documentation above?\n",
    "\n",
    "Present these in a single table alphabetized\n",
    "by variable name. Do NOT simply expect the grader to scroll through\n",
    "your output!"
   ]
  },
  {
   "cell_type": "code",
   "execution_count": 4,
   "metadata": {},
   "outputs": [
    {
     "data": {
      "text/html": [
       "<div>\n",
       "<style scoped>\n",
       "    .dataframe tbody tr th:only-of-type {\n",
       "        vertical-align: middle;\n",
       "    }\n",
       "\n",
       "    .dataframe tbody tr th {\n",
       "        vertical-align: top;\n",
       "    }\n",
       "\n",
       "    .dataframe thead th {\n",
       "        text-align: right;\n",
       "    }\n",
       "</style>\n",
       "<table border=\"1\" class=\"dataframe\">\n",
       "  <thead>\n",
       "    <tr style=\"text-align: right;\">\n",
       "      <th></th>\n",
       "      <th>sex</th>\n",
       "      <th>indig</th>\n",
       "      <th>dist_sec</th>\n",
       "      <th>sc</th>\n",
       "      <th>grc</th>\n",
       "      <th>fam_n</th>\n",
       "      <th>min_dist</th>\n",
       "      <th>dist_cap</th>\n",
       "      <th>poor</th>\n",
       "      <th>progresa</th>\n",
       "      <th>hohedu</th>\n",
       "      <th>hohwag</th>\n",
       "      <th>welfare_index</th>\n",
       "      <th>hohsex</th>\n",
       "      <th>hohage</th>\n",
       "      <th>age</th>\n",
       "      <th>grc97</th>\n",
       "      <th>sc97</th>\n",
       "    </tr>\n",
       "  </thead>\n",
       "  <tbody>\n",
       "    <tr>\n",
       "      <th>0</th>\n",
       "      <td>0.0</td>\n",
       "      <td>0.0</td>\n",
       "      <td>4.473</td>\n",
       "      <td>1.0</td>\n",
       "      <td>7.0</td>\n",
       "      <td>7</td>\n",
       "      <td>21.168384</td>\n",
       "      <td>21.168384</td>\n",
       "      <td>pobre</td>\n",
       "      <td>0</td>\n",
       "      <td>6</td>\n",
       "      <td>0.0</td>\n",
       "      <td>583.0</td>\n",
       "      <td>1.0</td>\n",
       "      <td>35.0</td>\n",
       "      <td>13</td>\n",
       "      <td>7</td>\n",
       "      <td>1.0</td>\n",
       "    </tr>\n",
       "    <tr>\n",
       "      <th>1</th>\n",
       "      <td>0.0</td>\n",
       "      <td>0.0</td>\n",
       "      <td>4.473</td>\n",
       "      <td>1.0</td>\n",
       "      <td>8.0</td>\n",
       "      <td>7</td>\n",
       "      <td>21.168384</td>\n",
       "      <td>21.168384</td>\n",
       "      <td>pobre</td>\n",
       "      <td>0</td>\n",
       "      <td>6</td>\n",
       "      <td>0.0</td>\n",
       "      <td>583.0</td>\n",
       "      <td>1.0</td>\n",
       "      <td>35.0</td>\n",
       "      <td>14</td>\n",
       "      <td>7</td>\n",
       "      <td>1.0</td>\n",
       "    </tr>\n",
       "    <tr>\n",
       "      <th>2</th>\n",
       "      <td>1.0</td>\n",
       "      <td>0.0</td>\n",
       "      <td>4.473</td>\n",
       "      <td>1.0</td>\n",
       "      <td>6.0</td>\n",
       "      <td>7</td>\n",
       "      <td>21.168384</td>\n",
       "      <td>21.168384</td>\n",
       "      <td>pobre</td>\n",
       "      <td>0</td>\n",
       "      <td>6</td>\n",
       "      <td>0.0</td>\n",
       "      <td>583.0</td>\n",
       "      <td>1.0</td>\n",
       "      <td>35.0</td>\n",
       "      <td>12</td>\n",
       "      <td>6</td>\n",
       "      <td>1.0</td>\n",
       "    </tr>\n",
       "    <tr>\n",
       "      <th>3</th>\n",
       "      <td>1.0</td>\n",
       "      <td>0.0</td>\n",
       "      <td>4.473</td>\n",
       "      <td>1.0</td>\n",
       "      <td>7.0</td>\n",
       "      <td>7</td>\n",
       "      <td>21.168384</td>\n",
       "      <td>21.168384</td>\n",
       "      <td>pobre</td>\n",
       "      <td>0</td>\n",
       "      <td>6</td>\n",
       "      <td>0.0</td>\n",
       "      <td>583.0</td>\n",
       "      <td>1.0</td>\n",
       "      <td>35.0</td>\n",
       "      <td>13</td>\n",
       "      <td>6</td>\n",
       "      <td>1.0</td>\n",
       "    </tr>\n",
       "    <tr>\n",
       "      <th>4</th>\n",
       "      <td>0.0</td>\n",
       "      <td>0.0</td>\n",
       "      <td>4.473</td>\n",
       "      <td>1.0</td>\n",
       "      <td>2.0</td>\n",
       "      <td>7</td>\n",
       "      <td>21.168384</td>\n",
       "      <td>21.168384</td>\n",
       "      <td>pobre</td>\n",
       "      <td>0</td>\n",
       "      <td>6</td>\n",
       "      <td>0.0</td>\n",
       "      <td>583.0</td>\n",
       "      <td>1.0</td>\n",
       "      <td>35.0</td>\n",
       "      <td>8</td>\n",
       "      <td>2</td>\n",
       "      <td>1.0</td>\n",
       "    </tr>\n",
       "  </tbody>\n",
       "</table>\n",
       "</div>"
      ],
      "text/plain": [
       "   sex  indig  dist_sec   sc  grc  fam_n   min_dist   dist_cap   poor  \\\n",
       "0  0.0    0.0     4.473  1.0  7.0      7  21.168384  21.168384  pobre   \n",
       "1  0.0    0.0     4.473  1.0  8.0      7  21.168384  21.168384  pobre   \n",
       "2  1.0    0.0     4.473  1.0  6.0      7  21.168384  21.168384  pobre   \n",
       "3  1.0    0.0     4.473  1.0  7.0      7  21.168384  21.168384  pobre   \n",
       "4  0.0    0.0     4.473  1.0  2.0      7  21.168384  21.168384  pobre   \n",
       "\n",
       "  progresa  hohedu  hohwag  welfare_index  hohsex  hohage  age  grc97  sc97  \n",
       "0        0       6     0.0          583.0     1.0    35.0   13      7   1.0  \n",
       "1        0       6     0.0          583.0     1.0    35.0   14      7   1.0  \n",
       "2        0       6     0.0          583.0     1.0    35.0   12      6   1.0  \n",
       "3        0       6     0.0          583.0     1.0    35.0   13      6   1.0  \n",
       "4        0       6     0.0          583.0     1.0    35.0    8      2   1.0  "
      ]
     },
     "execution_count": 4,
     "metadata": {},
     "output_type": "execute_result"
    }
   ],
   "source": [
    "# drop the irrelevant variables year, folnum, village\n",
    "pdf_cleaned = pdf.drop(['year','folnum','village'], axis=1)\n",
    "pdf_cleaned.head()"
   ]
  },
  {
   "cell_type": "markdown",
   "metadata": {},
   "source": [
    "##### SUMMARY OF STATS  and FIND THE NUMBER OF MISSINGS"
   ]
  },
  {
   "cell_type": "code",
   "execution_count": 5,
   "metadata": {},
   "outputs": [
    {
     "data": {
      "text/html": [
       "<div>\n",
       "<style scoped>\n",
       "    .dataframe tbody tr th:only-of-type {\n",
       "        vertical-align: middle;\n",
       "    }\n",
       "\n",
       "    .dataframe tbody tr th {\n",
       "        vertical-align: top;\n",
       "    }\n",
       "\n",
       "    .dataframe thead th {\n",
       "        text-align: right;\n",
       "    }\n",
       "</style>\n",
       "<table border=\"1\" class=\"dataframe\">\n",
       "  <thead>\n",
       "    <tr style=\"text-align: right;\">\n",
       "      <th></th>\n",
       "      <th>mean</th>\n",
       "      <th>std</th>\n",
       "      <th>null</th>\n",
       "    </tr>\n",
       "  </thead>\n",
       "  <tbody>\n",
       "    <tr>\n",
       "      <th>age</th>\n",
       "      <td>11.366460</td>\n",
       "      <td>3.167744</td>\n",
       "      <td>19438</td>\n",
       "    </tr>\n",
       "    <tr>\n",
       "      <th>dist_cap</th>\n",
       "      <td>147.674452</td>\n",
       "      <td>76.063134</td>\n",
       "      <td>19438</td>\n",
       "    </tr>\n",
       "    <tr>\n",
       "      <th>dist_sec</th>\n",
       "      <td>2.418910</td>\n",
       "      <td>2.234109</td>\n",
       "      <td>19438</td>\n",
       "    </tr>\n",
       "    <tr>\n",
       "      <th>fam_n</th>\n",
       "      <td>7.215715</td>\n",
       "      <td>2.352900</td>\n",
       "      <td>19438</td>\n",
       "    </tr>\n",
       "    <tr>\n",
       "      <th>grc</th>\n",
       "      <td>3.963537</td>\n",
       "      <td>2.499063</td>\n",
       "      <td>19438</td>\n",
       "    </tr>\n",
       "    <tr>\n",
       "      <th>grc97</th>\n",
       "      <td>3.705372</td>\n",
       "      <td>2.572387</td>\n",
       "      <td>19438</td>\n",
       "    </tr>\n",
       "    <tr>\n",
       "      <th>hohage</th>\n",
       "      <td>44.436717</td>\n",
       "      <td>11.620372</td>\n",
       "      <td>19438</td>\n",
       "    </tr>\n",
       "    <tr>\n",
       "      <th>hohedu</th>\n",
       "      <td>2.768104</td>\n",
       "      <td>2.656106</td>\n",
       "      <td>19438</td>\n",
       "    </tr>\n",
       "    <tr>\n",
       "      <th>hohsex</th>\n",
       "      <td>0.925185</td>\n",
       "      <td>0.263095</td>\n",
       "      <td>19438</td>\n",
       "    </tr>\n",
       "    <tr>\n",
       "      <th>hohwag</th>\n",
       "      <td>586.985312</td>\n",
       "      <td>788.133664</td>\n",
       "      <td>19438</td>\n",
       "    </tr>\n",
       "    <tr>\n",
       "      <th>indig</th>\n",
       "      <td>0.298324</td>\n",
       "      <td>0.457525</td>\n",
       "      <td>19438</td>\n",
       "    </tr>\n",
       "    <tr>\n",
       "      <th>min_dist</th>\n",
       "      <td>103.447520</td>\n",
       "      <td>42.089441</td>\n",
       "      <td>19438</td>\n",
       "    </tr>\n",
       "    <tr>\n",
       "      <th>sc</th>\n",
       "      <td>0.819818</td>\n",
       "      <td>0.384342</td>\n",
       "      <td>19438</td>\n",
       "    </tr>\n",
       "    <tr>\n",
       "      <th>sc97</th>\n",
       "      <td>0.813922</td>\n",
       "      <td>0.389172</td>\n",
       "      <td>19438</td>\n",
       "    </tr>\n",
       "    <tr>\n",
       "      <th>sex</th>\n",
       "      <td>0.512211</td>\n",
       "      <td>0.499854</td>\n",
       "      <td>19438</td>\n",
       "    </tr>\n",
       "    <tr>\n",
       "      <th>welfare_index</th>\n",
       "      <td>690.346564</td>\n",
       "      <td>139.491130</td>\n",
       "      <td>19438</td>\n",
       "    </tr>\n",
       "  </tbody>\n",
       "</table>\n",
       "</div>"
      ],
      "text/plain": [
       "                     mean         std   null\n",
       "age             11.366460    3.167744  19438\n",
       "dist_cap       147.674452   76.063134  19438\n",
       "dist_sec         2.418910    2.234109  19438\n",
       "fam_n            7.215715    2.352900  19438\n",
       "grc              3.963537    2.499063  19438\n",
       "grc97            3.705372    2.572387  19438\n",
       "hohage          44.436717   11.620372  19438\n",
       "hohedu           2.768104    2.656106  19438\n",
       "hohsex           0.925185    0.263095  19438\n",
       "hohwag         586.985312  788.133664  19438\n",
       "indig            0.298324    0.457525  19438\n",
       "min_dist       103.447520   42.089441  19438\n",
       "sc               0.819818    0.384342  19438\n",
       "sc97             0.813922    0.389172  19438\n",
       "sex              0.512211    0.499854  19438\n",
       "welfare_index  690.346564  139.491130  19438"
      ]
     },
     "execution_count": 5,
     "metadata": {},
     "output_type": "execute_result"
    }
   ],
   "source": [
    "# sum up the null values as number of missing\n",
    "null_values = (pd.isnull(pdf_cleaned)).sum()\n",
    "\n",
    "# transpose the array and keep only mean and standard deviation\n",
    "p_summary = pdf_cleaned.describe().T[['mean','std']]\n",
    "\n",
    "# order by index from a to z\n",
    "p_summary = p_summary.sort_index()\n",
    "\n",
    "# add the null value column\n",
    "p_summary = p_summary.assign(null = null_values.sum())\n",
    "\n",
    "p_summary"
   ]
  },
  {
   "cell_type": "markdown",
   "metadata": {},
   "source": [
    "##### Present the actual levels for 'progresa' and 'poor'. Do these fit with the documentation above?"
   ]
  },
  {
   "cell_type": "code",
   "execution_count": null,
   "metadata": {},
   "outputs": [],
   "source": []
  },
  {
   "cell_type": "markdown",
   "metadata": {
    "ein.tags": "worksheet-0",
    "slideshow": {
     "slide_type": "-"
    }
   },
   "source": [
    "### 1.2 Differences at baseline?\n",
    "Now let's investigate the differences in baseline.  Are the baseline (1997) demographic characteristics **for the poor**\n",
    "different in treatment and control villages?\n",
    "\n",
    "I suggest you to use a T-Test to\n",
    "determine whether there is a statistically significant difference in\n",
    "the average values of each of the variables in the dataset. Focus only\n",
    "on the data from 1997 for poor.\n",
    "\n",
    "Present your results in a single table with the following columns and 14 (or so) rows:\n",
    "\n",
    "| Variable name | Average value (Treatment villages) | Average value (Control villages) | Difference (Treat - Control) | p-value |\n",
    "|------|------|------|------|------|\n",
    "|Male|?|?|?|?|\n"
   ]
  },
  {
   "cell_type": "code",
   "execution_count": 6,
   "metadata": {},
   "outputs": [],
   "source": [
    "#### for the treatment group \n",
    "# define treatment group 97 + pobre + basal\n",
    "df_t = pdf[(pdf.year == 97) & (pdf.poor == 'pobre') & (pdf.progresa == 'basal')]\n",
    "\n",
    "# drop the unnecessary variables\n",
    "df_t_mean = df_t.drop(['year','folnum','village'], axis=1).describe()\n",
    "\n",
    "# transpose and sort by index\n",
    "df_t_mean = df_t_mean.T[['mean']].sort_index()\n",
    "\n",
    "\n",
    "\n",
    "#### for the control group\n",
    "# treatment group 97 + pobre + basal\n",
    "df_c = pdf[(pdf.year ==97) & (pdf.poor =='pobre') & (pdf.progresa =='0')]\n",
    "\n",
    "# drop the unnecessary variables\n",
    "df_c_mean = df_c.drop(['year','folnum','village'], axis=1).describe()\n",
    "\n",
    "# transpose and sort by index\n",
    "df_c_mean = df_c_mean.T[['mean']].sort_index()\n",
    "\n",
    "\n",
    "# difference between control and treatment\n",
    "df_difference = df_t_mean - df_c_mean\n",
    "\n",
    "# Concatenate the df_t_mean, df_c_mean and df_difference into one dataframe\n",
    "df_tcd = pd.concat([df_t_mean, df_c_mean, df_difference], axis=1) \n",
    "df_t_cleaned = df_t.dropna() # drop the rows with null values\n",
    "df_c_cleaned = df_c.dropna() # drop the rows with null values"
   ]
  },
  {
   "cell_type": "code",
   "execution_count": 7,
   "metadata": {},
   "outputs": [
    {
     "data": {
      "text/plain": [
       "[0.24761554848946915,\n",
       " '0.0034141936360538474*',\n",
       " 0.9670949201081269,\n",
       " 0.4236087919095054,\n",
       " 0.39477501418400196,\n",
       " 0.39477501418400196,\n",
       " '1.925766966551876e-06*',\n",
       " '0.026132392868595904*',\n",
       " 0.47812322422242826,\n",
       " '0.00027276608533743804*',\n",
       " 0.11837601031859153,\n",
       " '1.936660975824195e-18*',\n",
       " 0.09117958597336943,\n",
       " 0.09117958597336943,\n",
       " '0.01956962017174901*',\n",
       " '0.00037240425899663014*']"
      ]
     },
     "execution_count": 7,
     "metadata": {},
     "output_type": "execute_result"
    }
   ],
   "source": [
    "# Calulate p-value\n",
    "plist = []\n",
    "for row in range(df_tcd.shape[0]): # get the row number\n",
    "    t,p = stats.ttest_ind(df_t_cleaned[df_tcd.index[row]], df_c_cleaned[df_tcd.index[row]])\n",
    "    if p < 0.05:\n",
    "        p = str(p) + '*' # Add a star to the pvalues that are smaller than 0.05\n",
    "    plist.append(p)\n",
    "plist"
   ]
  },
  {
   "cell_type": "code",
   "execution_count": 8,
   "metadata": {},
   "outputs": [
    {
     "data": {
      "text/html": [
       "<div>\n",
       "<style scoped>\n",
       "    .dataframe tbody tr th:only-of-type {\n",
       "        vertical-align: middle;\n",
       "    }\n",
       "\n",
       "    .dataframe tbody tr th {\n",
       "        vertical-align: top;\n",
       "    }\n",
       "\n",
       "    .dataframe thead th {\n",
       "        text-align: right;\n",
       "    }\n",
       "</style>\n",
       "<table border=\"1\" class=\"dataframe\">\n",
       "  <thead>\n",
       "    <tr style=\"text-align: right;\">\n",
       "      <th></th>\n",
       "      <th>Average value (Control villages)</th>\n",
       "      <th>Average value (Treatment villages)</th>\n",
       "      <th>Difference (Treatment - Control)</th>\n",
       "      <th>p-value</th>\n",
       "    </tr>\n",
       "  </thead>\n",
       "  <tbody>\n",
       "    <tr>\n",
       "      <th>age</th>\n",
       "      <td>10.742023</td>\n",
       "      <td>10.716991</td>\n",
       "      <td>-0.025032</td>\n",
       "      <td>0.247616</td>\n",
       "    </tr>\n",
       "    <tr>\n",
       "      <th>dist_cap</th>\n",
       "      <td>153.769730</td>\n",
       "      <td>150.829074</td>\n",
       "      <td>-2.940656</td>\n",
       "      <td>0.0034141936360538474*</td>\n",
       "    </tr>\n",
       "    <tr>\n",
       "      <th>dist_sec</th>\n",
       "      <td>2.507662</td>\n",
       "      <td>2.453122</td>\n",
       "      <td>-0.054540</td>\n",
       "      <td>0.967095</td>\n",
       "    </tr>\n",
       "    <tr>\n",
       "      <th>fam_n</th>\n",
       "      <td>7.302469</td>\n",
       "      <td>7.281327</td>\n",
       "      <td>-0.021142</td>\n",
       "      <td>0.423609</td>\n",
       "    </tr>\n",
       "    <tr>\n",
       "      <th>grc</th>\n",
       "      <td>3.543050</td>\n",
       "      <td>3.531599</td>\n",
       "      <td>-0.011450</td>\n",
       "      <td>0.394775</td>\n",
       "    </tr>\n",
       "    <tr>\n",
       "      <th>grc97</th>\n",
       "      <td>3.543050</td>\n",
       "      <td>3.531599</td>\n",
       "      <td>-0.011450</td>\n",
       "      <td>0.394775</td>\n",
       "    </tr>\n",
       "    <tr>\n",
       "      <th>hohage</th>\n",
       "      <td>44.276918</td>\n",
       "      <td>43.648828</td>\n",
       "      <td>-0.628090</td>\n",
       "      <td>1.925766966551876e-06*</td>\n",
       "    </tr>\n",
       "    <tr>\n",
       "      <th>hohedu</th>\n",
       "      <td>2.590348</td>\n",
       "      <td>2.663139</td>\n",
       "      <td>0.072791</td>\n",
       "      <td>0.026132392868595904*</td>\n",
       "    </tr>\n",
       "    <tr>\n",
       "      <th>hohsex</th>\n",
       "      <td>0.922947</td>\n",
       "      <td>0.924656</td>\n",
       "      <td>0.001709</td>\n",
       "      <td>0.478123</td>\n",
       "    </tr>\n",
       "    <tr>\n",
       "      <th>hohwag</th>\n",
       "      <td>573.163558</td>\n",
       "      <td>544.339544</td>\n",
       "      <td>-28.824015</td>\n",
       "      <td>0.00027276608533743804*</td>\n",
       "    </tr>\n",
       "    <tr>\n",
       "      <th>indig</th>\n",
       "      <td>0.332207</td>\n",
       "      <td>0.325986</td>\n",
       "      <td>-0.006222</td>\n",
       "      <td>0.118376</td>\n",
       "    </tr>\n",
       "    <tr>\n",
       "      <th>min_dist</th>\n",
       "      <td>103.237854</td>\n",
       "      <td>107.152915</td>\n",
       "      <td>3.915060</td>\n",
       "      <td>1.936660975824195e-18*</td>\n",
       "    </tr>\n",
       "    <tr>\n",
       "      <th>sc</th>\n",
       "      <td>0.815186</td>\n",
       "      <td>0.822697</td>\n",
       "      <td>0.007511</td>\n",
       "      <td>0.0911796</td>\n",
       "    </tr>\n",
       "    <tr>\n",
       "      <th>sc97</th>\n",
       "      <td>0.815186</td>\n",
       "      <td>0.822697</td>\n",
       "      <td>0.007511</td>\n",
       "      <td>0.0911796</td>\n",
       "    </tr>\n",
       "    <tr>\n",
       "      <th>sex</th>\n",
       "      <td>0.505052</td>\n",
       "      <td>0.519317</td>\n",
       "      <td>0.014265</td>\n",
       "      <td>0.01956962017174901*</td>\n",
       "    </tr>\n",
       "    <tr>\n",
       "      <th>welfare_index</th>\n",
       "      <td>659.579100</td>\n",
       "      <td>655.428377</td>\n",
       "      <td>-4.150723</td>\n",
       "      <td>0.00037240425899663014*</td>\n",
       "    </tr>\n",
       "  </tbody>\n",
       "</table>\n",
       "</div>"
      ],
      "text/plain": [
       "               Average value (Control villages)  \\\n",
       "age                                   10.742023   \n",
       "dist_cap                             153.769730   \n",
       "dist_sec                               2.507662   \n",
       "fam_n                                  7.302469   \n",
       "grc                                    3.543050   \n",
       "grc97                                  3.543050   \n",
       "hohage                                44.276918   \n",
       "hohedu                                 2.590348   \n",
       "hohsex                                 0.922947   \n",
       "hohwag                               573.163558   \n",
       "indig                                  0.332207   \n",
       "min_dist                             103.237854   \n",
       "sc                                     0.815186   \n",
       "sc97                                   0.815186   \n",
       "sex                                    0.505052   \n",
       "welfare_index                        659.579100   \n",
       "\n",
       "               Average value (Treatment villages)  \\\n",
       "age                                     10.716991   \n",
       "dist_cap                               150.829074   \n",
       "dist_sec                                 2.453122   \n",
       "fam_n                                    7.281327   \n",
       "grc                                      3.531599   \n",
       "grc97                                    3.531599   \n",
       "hohage                                  43.648828   \n",
       "hohedu                                   2.663139   \n",
       "hohsex                                   0.924656   \n",
       "hohwag                                 544.339544   \n",
       "indig                                    0.325986   \n",
       "min_dist                               107.152915   \n",
       "sc                                       0.822697   \n",
       "sc97                                     0.822697   \n",
       "sex                                      0.519317   \n",
       "welfare_index                          655.428377   \n",
       "\n",
       "               Difference (Treatment - Control)                  p-value  \n",
       "age                                   -0.025032                 0.247616  \n",
       "dist_cap                              -2.940656   0.0034141936360538474*  \n",
       "dist_sec                              -0.054540                 0.967095  \n",
       "fam_n                                 -0.021142                 0.423609  \n",
       "grc                                   -0.011450                 0.394775  \n",
       "grc97                                 -0.011450                 0.394775  \n",
       "hohage                                -0.628090   1.925766966551876e-06*  \n",
       "hohedu                                 0.072791    0.026132392868595904*  \n",
       "hohsex                                 0.001709                 0.478123  \n",
       "hohwag                               -28.824015  0.00027276608533743804*  \n",
       "indig                                 -0.006222                 0.118376  \n",
       "min_dist                               3.915060   1.936660975824195e-18*  \n",
       "sc                                     0.007511                0.0911796  \n",
       "sc97                                   0.007511                0.0911796  \n",
       "sex                                    0.014265     0.01956962017174901*  \n",
       "welfare_index                         -4.150723  0.00037240425899663014*  "
      ]
     },
     "execution_count": 8,
     "metadata": {},
     "output_type": "execute_result"
    }
   ],
   "source": [
    "# Consolidate the series into a dataframe\n",
    "t_result = pd.DataFrame({'Average value (Treatment villages)': df_tcd.iloc[:, 0], \\\n",
    "                         'Average value (Control villages)': df_tcd.iloc[:, 1], \\\n",
    "                         'Difference (Treatment - Control)': df_tcd.iloc[:, 2], \\\n",
    "                         'p-value': plist})\n",
    "t_result"
   ]
  },
  {
   "cell_type": "markdown",
   "metadata": {
    "ein.tags": "worksheet-0",
    "slideshow": {
     "slide_type": "-"
    }
   },
   "source": [
    "### 1.3 Interpretation\n",
    "\n",
    "* A: Are there statistically significant differences between treatment and control villages as baseline? \n",
    "* B: Why does it matter if there are differences at baseline?\n",
    "* C: What does this imply about how to measure the impact of the treatment?"
   ]
  },
  {
   "cell_type": "markdown",
   "metadata": {
    "ein.tags": "worksheet-0",
    "slideshow": {
     "slide_type": "-"
    }
   },
   "source": [
    "##### Discussion\n",
    "- A: as shown in the list, variables(dist_cap, hohage, hohedu, min_dist, sex, welfare_index) are statistically significant between treatment and control villages as baseline as they have a p value that is smaller than 0.05\n",
    "- B: If there are differences at baseline, then the groups may not be randomly choosen. As experiments require the treament and control group to be randomly selected, we may have a hard time finding the causality of the treatment due to the non random selected groups\n",
    "- C: As there are quite a few variables that have statistically significant differences between the treatment and the control villages as baseline, we need to further investigate the differences between the treatment and the control group by adding control variables."
   ]
  },
  {
   "cell_type": "markdown",
   "metadata": {
    "ein.tags": "worksheet-0",
    "slideshow": {
     "slide_type": "-"
    }
   },
   "source": [
    "### 1.4 Graphical exploration, part 1\n",
    "\n",
    "For each level of household head education, compute the average\n",
    "enrollment rate in 1997. Create a scatterplot that shows this\n",
    "relationship. What do you notice?"
   ]
  },
  {
   "cell_type": "code",
   "execution_count": 9,
   "metadata": {
    "autoscroll": false,
    "ein.tags": "worksheet-0",
    "slideshow": {
     "slide_type": "-"
    }
   },
   "outputs": [
    {
     "data": {
      "text/plain": [
       "Text(0,0.5,'sc -- enrollment rate')"
      ]
     },
     "execution_count": 9,
     "metadata": {},
     "output_type": "execute_result"
    },
    {
     "data": {
      "image/png": "[encoded data removed]",
      "text/plain": [
       "<matplotlib.figure.Figure at 0x113c0e5c0>"
      ]
     },
     "metadata": {},
     "output_type": "display_data"
    }
   ],
   "source": [
    "# finding the x and y for the graph\n",
    "x = pdf.hohedu.unique()\n",
    "y = pdf[(pdf.year == 97)].groupby('hohedu')['sc'].mean()\n",
    "\n",
    "plt.scatter(x, y)\n",
    "plt.xlabel('hohedu -- years of schooling of head of household')\n",
    "plt.ylabel('sc -- enrollment rate')"
   ]
  },
  {
   "cell_type": "markdown",
   "metadata": {
    "ein.tags": "worksheet-0",
    "slideshow": {
     "slide_type": "-"
    }
   },
   "source": [
    "##### Discussion\n",
    "- as shown in the graph, as the years of schooling of head of household goes higher, the enrollment rate goes higher --> indicating that the higher educated household heads may care more about their children's enrollment in school. However, there is a sharp drop at the year of 20 years of schooling of head of household and this may be an outlier or it could be some other reasons."
   ]
  },
  {
   "cell_type": "markdown",
   "metadata": {
    "ein.tags": "worksheet-0",
    "slideshow": {
     "slide_type": "-"
    }
   },
   "source": [
    "### 1.5 Graphical exploration, part 2\n",
    "\n",
    "Create a histogram of village enrollment rates **among poor households\n",
    "in treated villages**, before and after treatment.  Specifically, for\n",
    "each village, calculate the average rate of enrollment of poor\n",
    "households in treated villages in 1997, then compute the average rate\n",
    "of enrollment of poor households in treated villages in 1998. Create\n",
    "two separate histograms showing the distribution of these average\n",
    "enrollments rates, one histogram for 1997 and one histogram for\n",
    "1998. On each histogram, draw a vertical line that intersects the\n",
    "x-axis at the average value (across all households). Does there appear\n",
    "to be a difference? Is this difference statistically significant?"
   ]
  },
  {
   "cell_type": "code",
   "execution_count": 10,
   "metadata": {
    "autoscroll": false,
    "ein.tags": "worksheet-0",
    "slideshow": {
     "slide_type": "-"
    }
   },
   "outputs": [
    {
     "data": {
      "text/plain": [
       "<matplotlib.lines.Line2D at 0x1c1d5e2a58>"
      ]
     },
     "execution_count": 10,
     "metadata": {},
     "output_type": "execute_result"
    },
    {
     "data": {
      "image/png": "[encoded data removed]",
      "text/plain": [
       "<matplotlib.figure.Figure at 0x1c1d5cee10>"
      ]
     },
     "metadata": {},
     "output_type": "display_data"
    }
   ],
   "source": [
    "# for 1997 treatment group\n",
    "#filter and leave only the poor treated in 1997\n",
    "df_poor_97 = pdf[(pdf.poor == 'pobre') & (pdf.progresa == 'basal') & (pdf.year == 97)] \n",
    "\n",
    "# group by village\n",
    "df_poor_97_group = df_poor_97.groupby('village')[['sc']].mean().reset_index() \n",
    "\n",
    "# get the mean of the enrollment rate of the poor treated in 1997\n",
    "sc_mean_97 = df_poor_97['sc'].mean()\n",
    "\n",
    "# plot the graph\n",
    "plt.hist('sc', data=df_poor_97_group, bins = 60)\n",
    "plt.xlabel('Enrollment Rate in 1997')\n",
    "plt.ylabel('number of villages')\n",
    "plt.axvline(sc_mean_97, color='pink')"
   ]
  },
  {
   "cell_type": "code",
   "execution_count": 11,
   "metadata": {},
   "outputs": [
    {
     "data": {
      "text/plain": [
       "<matplotlib.lines.Line2D at 0x1c20b85f60>"
      ]
     },
     "execution_count": 11,
     "metadata": {},
     "output_type": "execute_result"
    },
    {
     "data": {
      "image/png": "[encoded data removed]",
      "text/plain": [
       "<matplotlib.figure.Figure at 0x1c1cf0d320>"
      ]
     },
     "metadata": {},
     "output_type": "display_data"
    }
   ],
   "source": [
    "# for 1998 treatment group\n",
    "#filter and leave only the poor treated in 1998\n",
    "df_poor_98 = pdf[(pdf.poor == 'pobre') & (pdf.progresa == 'basal') & (pdf.year == 98)]\n",
    "\n",
    "# group by village\n",
    "df_poor_98_group = df_poor_98.groupby('village')[['sc']].mean().reset_index() \n",
    "\n",
    "# get the mean of the enrollment rate of the poor treated in 1998\n",
    "sc_mean_98 = df_poor_98['sc'].mean()\n",
    "\n",
    "# plot the graph\n",
    "plt.hist('sc', data=df_poor_98_group, bins=60)\n",
    "plt.xlabel('Enrollment Rate in 1998')\n",
    "plt.ylabel('number of villages')\n",
    "plt.axvline(sc_mean_98, color = 'pink')\n",
    "plt.axvline(sc_mean_97, color = 'red')"
   ]
  },
  {
   "cell_type": "code",
   "execution_count": 12,
   "metadata": {},
   "outputs": [
    {
     "name": "stdout",
     "output_type": "stream",
     "text": [
      "sc mean for 1997:  0.8226968874033842 \n",
      "sc mean for 1997:  0.8464791213954308 \n",
      "t-value:  2.015713486515638 \n",
      "p-value:  0.04424870036572115\n"
     ]
    }
   ],
   "source": [
    "# get the t test and p value for the 98 and 97 for comparison\n",
    "t, p = stats.ttest_ind(df_poor_98_group['sc'], df_poor_97_group['sc'])\n",
    "print (\n",
    "    \"sc mean for 1997: \", sc_mean_97, \"\\n\" \n",
    "    \"sc mean for 1997: \", sc_mean_98, \"\\n\" \n",
    "    \"t-value: \", t, \"\\n\" \n",
    "    \"p-value: \", p)"
   ]
  },
  {
   "cell_type": "markdown",
   "metadata": {
    "ein.tags": "worksheet-0",
    "slideshow": {
     "slide_type": "-"
    }
   },
   "source": [
    "##### Discussion\n",
    "- as shown in the graph, the mean for the enrollment rate experienced a slight shift towards aroudn 0.845 from 0.82, meaning that the enrollment rate does get slightly improved after the program is implemented\n",
    "- p = 0.044 < 0.05 --> the result differences between the mean is statistically significant "
   ]
  },
  {
   "cell_type": "markdown",
   "metadata": {
    "ein.tags": "worksheet-0",
    "slideshow": {
     "slide_type": "-"
    }
   },
   "source": [
    "## Part 2: Measuring Impact\n",
    "\n",
    "Our goal is to estimate the causal impact of the PROGRESA program on\n",
    "the social and economic outcomes of individuals in Mexico. We will\n",
    "focus on the impact of the program on the poor (those with\n",
    "poor=='pobre'), since only the poor were eligible to receive the\n",
    "PROGRESA assistance.\n",
    "\n",
    "### 2.1 Cross-Sectional Estimator: T-test\n",
    "\n",
    "Begin by estimating the impact of Progresa using \"simple differences.\"\n",
    "Restricting yourself to data from 1998 (after treatment), calculate\n",
    "the average enrollment rate among **poor** households in the Treatment\n",
    "villages and the average enrollment rate among **poor** households in\n",
    "the control villages. Use a t-test to determine if this difference is\n",
    "statistically significant. What do you conclude?"
   ]
  },
  {
   "cell_type": "code",
   "execution_count": 13,
   "metadata": {
    "autoscroll": false,
    "ein.tags": "worksheet-0",
    "slideshow": {
     "slide_type": "-"
    }
   },
   "outputs": [
    {
     "name": "stdout",
     "output_type": "stream",
     "text": [
      "average enrollment rate among poor households in the Treatment villages:  84.65 % \n",
      " average enrollment rate among poor households in the control villages:  80.76 % \n",
      " t-test and p-value:  Ttest_indResult(statistic=8.358720567418374, pvalue=6.636344447523235e-17)\n"
     ]
    }
   ],
   "source": [
    "# create df of the poor with treatment and the poor in control in the year of 1998\n",
    "df_tpoor = pdf[((pdf.poor == 'pobre') & (pdf.progresa == 'basal') & (pdf.year == 98))] \n",
    "df_cpoor = pdf[((pdf.poor == 'pobre') & (pdf.progresa == '0') & (pdf.year == 98))] \n",
    "\n",
    "# get the average enrollment of the treatment and the control group\n",
    "df_tpoor_mean = df_tpoor.sc.mean()\n",
    "df_cpoor_mean = df_cpoor.sc.mean()\n",
    "\n",
    "# conducting t test\n",
    "t_test_98 = stats.ttest_ind(df_tpoor.sc.dropna(), df_cpoor.sc.dropna())\n",
    "t_test_98\n",
    "\n",
    "# print result\n",
    "\n",
    "print(\"average enrollment rate among poor households in the Treatment villages: \", round(float(df_tpoor_mean)*100,2), \"%\", \"\\n\", \n",
    "      \"average enrollment rate among poor households in the control villages: \", round(float(df_cpoor_mean)*100,2), \"%\", \"\\n\", \n",
    "      \"t-test and p-value: \", t_test_98\n",
    ")"
   ]
  },
  {
   "cell_type": "markdown",
   "metadata": {
    "ein.tags": "worksheet-0",
    "slideshow": {
     "slide_type": "-"
    }
   },
   "source": [
    "##### Discussion\n",
    "- avg enrollment rate increased by around 4%\n",
    "- p value is much smaller than 0.05 --> meaning that the difference is statistically significant aka the treatment group progress is working very well "
   ]
  },
  {
   "cell_type": "markdown",
   "metadata": {
    "ein.tags": "worksheet-0",
    "slideshow": {
     "slide_type": "-"
    }
   },
   "source": [
    "### 2.2 Cross-Sectional Estimator: Regression\n",
    "\n",
    "Estimate the effects of Progresa on enrollment using a regression\n",
    "model, by regressing the 1998 enrollment rates **of the poor** on\n",
    "treatment assignment.  Do not include any additional control\n",
    "variables.\n",
    "Discuss the following:\n",
    "\n",
    "* Based on this model, how much did Progresa increase the likelihood of a child enrolling?\n",
    "* How does your regression estimate compare to your t-test estimate from part 2.1?\n",
    "* Based on this regression model, can we reject the null hypothesis that the treatment effects are zero? \n",
    "* What is the counterfactual assumption underlying this regression?\n",
    "\n",
    "Note: I recommend to use statsmodels.formula.api as this allows to use\n",
    "convenient R-style formulas and provedes nice summaries of the results."
   ]
  },
  {
   "cell_type": "code",
   "execution_count": 18,
   "metadata": {
    "autoscroll": false,
    "ein.tags": "worksheet-0",
    "slideshow": {
     "slide_type": "-"
    }
   },
   "outputs": [
    {
     "name": "stderr",
     "output_type": "stream",
     "text": [
      "/Users/jennyli/anaconda3/lib/python3.6/site-packages/ipykernel_launcher.py:23: SettingWithCopyWarning: \n",
      "A value is trying to be set on a copy of a slice from a DataFrame.\n",
      "Try using .loc[row_indexer,col_indexer] = value instead\n",
      "\n",
      "See the caveats in the documentation: http://pandas.pydata.org/pandas-docs/stable/indexing.html#indexing-view-versus-copy\n"
     ]
    },
    {
     "data": {
      "text/html": [
       "<table class=\"simpletable\">\n",
       "<caption>OLS Regression Results</caption>\n",
       "<tr>\n",
       "  <th>Dep. Variable:</th>           <td>sc</td>        <th>  R-squared:         </th> <td>   0.003</td> \n",
       "</tr>\n",
       "<tr>\n",
       "  <th>Model:</th>                   <td>OLS</td>       <th>  Adj. R-squared:    </th> <td>   0.003</td> \n",
       "</tr>\n",
       "<tr>\n",
       "  <th>Method:</th>             <td>Least Squares</td>  <th>  F-statistic:       </th> <td>   69.87</td> \n",
       "</tr>\n",
       "<tr>\n",
       "  <th>Date:</th>             <td>Thu, 26 Apr 2018</td> <th>  Prob (F-statistic):</th> <td>6.64e-17</td> \n",
       "</tr>\n",
       "<tr>\n",
       "  <th>Time:</th>                 <td>19:41:02</td>     <th>  Log-Likelihood:    </th> <td> -11926.</td> \n",
       "</tr>\n",
       "<tr>\n",
       "  <th>No. Observations:</th>      <td> 27450</td>      <th>  AIC:               </th> <td>2.386e+04</td>\n",
       "</tr>\n",
       "<tr>\n",
       "  <th>Df Residuals:</th>          <td> 27448</td>      <th>  BIC:               </th> <td>2.387e+04</td>\n",
       "</tr>\n",
       "<tr>\n",
       "  <th>Df Model:</th>              <td>     1</td>      <th>                     </th>     <td> </td>    \n",
       "</tr>\n",
       "<tr>\n",
       "  <th>Covariance Type:</th>      <td>nonrobust</td>    <th>                     </th>     <td> </td>    \n",
       "</tr>\n",
       "</table>\n",
       "<table class=\"simpletable\">\n",
       "<tr>\n",
       "        <td></td>           <th>coef</th>     <th>std err</th>      <th>t</th>      <th>P>|t|</th>  <th>[0.025</th>    <th>0.975]</th>  \n",
       "</tr>\n",
       "<tr>\n",
       "  <th>Intercept</th>     <td>    0.8076</td> <td>    0.004</td> <td>  220.676</td> <td> 0.000</td> <td>    0.800</td> <td>    0.815</td>\n",
       "</tr>\n",
       "<tr>\n",
       "  <th>tc_assignment</th> <td>    0.0388</td> <td>    0.005</td> <td>    8.359</td> <td> 0.000</td> <td>    0.030</td> <td>    0.048</td>\n",
       "</tr>\n",
       "</table>\n",
       "<table class=\"simpletable\">\n",
       "<tr>\n",
       "  <th>Omnibus:</th>       <td>7638.939</td> <th>  Durbin-Watson:     </th> <td>   1.734</td> \n",
       "</tr>\n",
       "<tr>\n",
       "  <th>Prob(Omnibus):</th>  <td> 0.000</td>  <th>  Jarque-Bera (JB):  </th> <td>15767.534</td>\n",
       "</tr>\n",
       "<tr>\n",
       "  <th>Skew:</th>           <td>-1.767</td>  <th>  Prob(JB):          </th> <td>    0.00</td> \n",
       "</tr>\n",
       "<tr>\n",
       "  <th>Kurtosis:</th>       <td> 4.140</td>  <th>  Cond. No.          </th> <td>    3.01</td> \n",
       "</tr>\n",
       "</table>"
      ],
      "text/plain": [
       "<class 'statsmodels.iolib.summary.Summary'>\n",
       "\"\"\"\n",
       "                            OLS Regression Results                            \n",
       "==============================================================================\n",
       "Dep. Variable:                     sc   R-squared:                       0.003\n",
       "Model:                            OLS   Adj. R-squared:                  0.003\n",
       "Method:                 Least Squares   F-statistic:                     69.87\n",
       "Date:                Thu, 26 Apr 2018   Prob (F-statistic):           6.64e-17\n",
       "Time:                        19:41:02   Log-Likelihood:                -11926.\n",
       "No. Observations:               27450   AIC:                         2.386e+04\n",
       "Df Residuals:                   27448   BIC:                         2.387e+04\n",
       "Df Model:                           1                                         \n",
       "Covariance Type:            nonrobust                                         \n",
       "=================================================================================\n",
       "                    coef    std err          t      P>|t|      [0.025      0.975]\n",
       "---------------------------------------------------------------------------------\n",
       "Intercept         0.8076      0.004    220.676      0.000       0.800       0.815\n",
       "tc_assignment     0.0388      0.005      8.359      0.000       0.030       0.048\n",
       "==============================================================================\n",
       "Omnibus:                     7638.939   Durbin-Watson:                   1.734\n",
       "Prob(Omnibus):                  0.000   Jarque-Bera (JB):            15767.534\n",
       "Skew:                          -1.767   Prob(JB):                         0.00\n",
       "Kurtosis:                       4.140   Cond. No.                         3.01\n",
       "==============================================================================\n",
       "\n",
       "Warnings:\n",
       "[1] Standard Errors assume that the covariance matrix of the errors is correctly specified.\n",
       "\"\"\""
      ]
     },
     "execution_count": 18,
     "metadata": {},
     "output_type": "execute_result"
    }
   ],
   "source": [
    "\n",
    "\n",
    "# #create dummy for progresa variable\n",
    "# X = pd.get_dummies(pdf[((pdf.poor == 'pobre') & (pdf.year == 98) )].progresa.dropna())\n",
    "\n",
    "\n",
    "# #store our target variable\n",
    "# y = d[(d.poor == 'pobre') & (d.year == 98)].sc\n",
    "\n",
    "# #merge them\n",
    "# modData = X.join(y)\n",
    "\n",
    "# #perform linear regression\n",
    "# linRegm = smf.ols(formula = 'sc ~ basal',data=modData).fit()\n",
    "\n",
    "# #print the summary\n",
    "# linRegm.summary()\n",
    "\n",
    "df_reg=pdf[(pdf['poor']=='pobre')&(pdf['year']==98)&(np.isnan(pdf['sc']) == False)]\n",
    "\n",
    "#If it's assigned to treatment group, mark it as 1, otherwise 0.\n",
    "df_reg['tc_assignment']=df_reg.apply(lambda x: 1 if x['progresa'] == 'basal' else 0, axis=1)\n",
    "ols = smf.ols(formula='sc ~ tc_assignment', data=df_reg).fit()\n",
    "ols.summary()"
   ]
  },
  {
   "cell_type": "markdown",
   "metadata": {
    "ein.tags": "worksheet-0",
    "slideshow": {
     "slide_type": "-"
    }
   },
   "source": [
    "##### Discussion\n",
    "- "
   ]
  },
  {
   "cell_type": "markdown",
   "metadata": {
    "ein.tags": "worksheet-0",
    "slideshow": {
     "slide_type": "-"
    }
   },
   "source": [
    "### 2.3 Multiple Regression\n",
    "\n",
    "Re-run the above regression estimated but this time include a set of\n",
    "relevant control variables. Include, for instance, age, distance to a secondary\n",
    "school, gender, education of household head, welfare index,\n",
    "indigenous, etc.\n",
    "\n",
    "* How do the controls affect the point estimate of treatment effect?\n",
    "* How do the controls affect the standard error on the treatment effect? \n",
    "* How do you interpret the differences (or similarities) between your estimates of 2.2 and 2.3?"
   ]
  },
  {
   "cell_type": "code",
   "execution_count": 15,
   "metadata": {
    "autoscroll": false,
    "ein.tags": "worksheet-0",
    "slideshow": {
     "slide_type": "-"
    }
   },
   "outputs": [],
   "source": [
    "# Your code here"
   ]
  },
  {
   "cell_type": "markdown",
   "metadata": {
    "ein.tags": "worksheet-0",
    "slideshow": {
     "slide_type": "-"
    }
   },
   "source": [
    "##### Discussion\n",
    "- the diff-in-diff value is 0.031"
   ]
  },
  {
   "cell_type": "markdown",
   "metadata": {
    "ein.tags": "worksheet-0",
    "slideshow": {
     "slide_type": "-"
    }
   },
   "source": [
    "### 2.4 Difference-in-Difference, version 1 (tabular)\n",
    "\n",
    "Thus far, we have computed the effects of Progresa by estimating the\n",
    "difference in 1998 enrollment rates across villages. An alternative\n",
    "approach would be to compute the treatment effect using a\n",
    "difference-in-differences framework.\n",
    "\n",
    "Begin by estimating the average treatment effects of the program for poor households using data from 1997 and 1998. Specifically, calculate:\n",
    "\n",
    "a) the difference (between 1997 and 1998) in enrollment rates among poor households in treated villages\n",
    "\n",
    "b) the difference (between 1997 and 1998) in enrollment rates among poor households in control villages.\n",
    "\n",
    "c) The difference between these two differences is your estimate.\n",
    "\n",
    "* What is your estimate of the impact, and how does it compare to your earlier (simple difference) results?\n",
    "\n",
    "* What is the counterfactual assumption underlying this estimate? \n"
   ]
  },
  {
   "cell_type": "code",
   "execution_count": 16,
   "metadata": {
    "autoscroll": false,
    "ein.tags": "worksheet-0",
    "slideshow": {
     "slide_type": "-"
    }
   },
   "outputs": [
    {
     "name": "stdout",
     "output_type": "stream",
     "text": [
      "difference in treated group:  0.023782233992046597 \n",
      " difference in control group:  -0.007549046327276487 \n",
      " diff-in-diff:  0.031331280319323085\n"
     ]
    }
   ],
   "source": [
    "# treated group\n",
    "df_t_97 = (pdf[((pdf.year==97)&(pdf.poor =='pobre')&(pdf.progresa == 'basal'))]['sc'].mean())\n",
    "df_t_98 = (pdf[((pdf.year==98)&(pdf.poor =='pobre')&(pdf.progresa == 'basal'))]['sc'].mean())\n",
    "# difference between treated groups result from 97 and 98\n",
    "t_differ = df_t_98 - df_t_97\n",
    "\n",
    "# control group\n",
    "df_c_97 = (pdf[((pdf.year==97)&(pdf.poor =='pobre')&(pdf.progresa == '0'))]['sc'].mean())\n",
    "df_c_98 = (pdf[((pdf.year==98)&(pdf.poor =='pobre')&(pdf.progresa == '0'))]['sc'].mean())\n",
    "# difference between treated groups result from 97 and 98\n",
    "c_differ = df_c_98 - df_c_97\n",
    "\n",
    "#diff-in-diff\n",
    "diff_in_diff = t_differ - c_differ\n",
    "\n",
    "print(\"difference in treated group: \", t_differ, \"\\n\", \n",
    "      \"difference in control group: \", c_differ, \"\\n\",\n",
    "      \"diff-in-diff: \", diff_in_diff)\n"
   ]
  },
  {
   "cell_type": "markdown",
   "metadata": {
    "ein.tags": "worksheet-0",
    "slideshow": {
     "slide_type": "-"
    }
   },
   "source": [
    "##### Discussion\n",
    "- the diff-in-diff value is 0.031"
   ]
  },
  {
   "cell_type": "markdown",
   "metadata": {
    "ein.tags": "worksheet-0",
    "slideshow": {
     "slide_type": "-"
    }
   },
   "source": [
    "### 2.5 Difference-in-Difference, version 2 (regression)\n",
    "\n",
    "Now use a regression specification to estimate the average treatment\n",
    "effects of the program in a difference-in-differences\n",
    "framework. Include at least 5 control variables.\n",
    "\n",
    "* What is your estimate of the impact of Progresa? Be very specific in\n",
    "  interpreting your coefficients and standard errors, and make sure to\n",
    "  specify exactly what units you are measuring and estimating.\n",
    "\n",
    "* How do these estimates of the treatment effect compare to the\n",
    "  estimates based on the simple difference?\n",
    "\n",
    "* How do these estimates compare to the difference-in-difference\n",
    "  estimates from 2.4 above? What accounts for these differences?\n",
    "\n",
    "* What is the counterfactual assumption underlying this regression? "
   ]
  },
  {
   "cell_type": "code",
   "execution_count": 17,
   "metadata": {
    "autoscroll": false,
    "ein.tags": "worksheet-0",
    "slideshow": {
     "slide_type": "-"
    }
   },
   "outputs": [],
   "source": [
    "# treated group "
   ]
  },
  {
   "cell_type": "markdown",
   "metadata": {
    "ein.tags": "worksheet-0",
    "slideshow": {
     "slide_type": "-"
    }
   },
   "source": [
    "##### Discussion\n",
    "- "
   ]
  },
  {
   "cell_type": "markdown",
   "metadata": {
    "ein.tags": "worksheet-0",
    "slideshow": {
     "slide_type": "-"
    }
   },
   "source": [
    "### 2.6 Summary\n",
    "\n",
    "* Based on all the analysis you have undertaken to date, do you\n",
    "  believe that Progresa had a causal impact on the enrollment rates of\n",
    "  poor households in Mexico?  Explain by referring to the methods and\n",
    "  results above."
   ]
  },
  {
   "cell_type": "markdown",
   "metadata": {
    "ein.tags": "worksheet-0",
    "slideshow": {
     "slide_type": "-"
    }
   },
   "source": [
    "*Discuss your results here*"
   ]
  }
 ],
 "metadata": {
  "kernelspec": {
   "display_name": "Python 3",
   "language": "python",
   "name": "python3"
  },
  "language_info": {
   "codemirror_mode": {
    "name": "ipython",
    "version": 3
   },
   "file_extension": ".py",
   "mimetype": "text/x-python",
   "name": "python",
   "nbconvert_exporter": "python",
   "pygments_lexer": "ipython3",
   "version": "3.6.4"
  },
  "name": "ps03_progresa.ipynb"
 },
 "nbformat": 4,
 "nbformat_minor": 1
}
