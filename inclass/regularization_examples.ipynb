{
 "cells": [
  {
   "cell_type": "markdown",
   "metadata": {
    "ein.tags": "worksheet-0",
    "slideshow": {
     "slide_type": "-"
    }
   },
   "source": [
    "# Regularization"
   ]
  },
  {
   "cell_type": "code",
   "execution_count": 1,
   "metadata": {
    "autoscroll": false,
    "ein.tags": "worksheet-0",
    "slideshow": {
     "slide_type": "-"
    }
   },
   "outputs": [],
   "source": [
    "import numpy as np\n",
    "import pandas as pd\n",
    "import matplotlib.pyplot as plt\n",
    "%matplotlib inline\n",
    "from sklearn.linear_model import LinearRegression, Ridge, Lasso\n"
   ]
  },
  {
   "cell_type": "code",
   "execution_count": 2,
   "metadata": {
    "autoscroll": false,
    "ein.tags": "worksheet-0",
    "slideshow": {
     "slide_type": "-"
    }
   },
   "outputs": [
    {
     "data": {
      "text/plain": [
       "array([[ 1.47597487e+00,  1.47583292e+00,  3.08605289e-04],\n",
       "       [ 5.13371654e-01,  5.13417694e-01, -1.05769767e-04],\n",
       "       [ 2.03359027e+00,  2.03365616e+00,  4.78443143e-05],\n",
       "       [-1.63762773e+00, -1.63768379e+00,  1.05458976e-04],\n",
       "       [-3.28285749e-02, -3.28609426e-02, -6.56605996e-05],\n",
       "       [ 9.06992771e-01,  9.06907433e-01,  1.43731856e-04],\n",
       "       [ 2.47325267e-02,  2.48189857e-02, -5.35487572e-05],\n",
       "       [-3.87827695e-01, -3.87800718e-01, -6.81087220e-05],\n",
       "       [ 1.67236005e+00,  1.67221978e+00,  3.40812437e-04],\n",
       "       [-1.51837291e+00, -1.51854514e+00,  3.44673980e-04]])"
      ]
     },
     "execution_count": 2,
     "metadata": {},
     "output_type": "execute_result"
    }
   ],
   "source": [
    "n = 100\n",
    "c = 0.0001\n",
    "x1 = np.random.normal(size=n)\n",
    "x2 = x1 + c*np.random.normal(size=n)\n",
    "x3 = x1 - x2 + c*np.random.normal(size=n)\n",
    "y = x1 + x2 + x3 + np.random.normal(size=n)\n",
    "X = np.stack((x1, x2, x3), axis=1)\n",
    "X[:10]"
   ]
  },
  {
   "cell_type": "code",
   "execution_count": 3,
   "metadata": {
    "autoscroll": false,
    "ein.tags": "worksheet-0",
    "slideshow": {
     "slide_type": "-"
    }
   },
   "outputs": [
    {
     "name": "stdout",
     "output_type": "stream",
     "text": [
      "lm coefficients: [-1051.36786948  1053.31410508   714.68363118]\n",
      "ridge coefficients: [0.96588883 0.96997506 0.00391336]\n",
      "lasso coefficients [1.81342087e+00 6.28481510e-06 0.00000000e+00]\n"
     ]
    }
   ],
   "source": [
    "m = LinearRegression().fit(X, y)\n",
    "print(\"lm coefficients:\", m.coef_)\n",
    "\n",
    "mr = Ridge(alpha=0.1).fit(X, y)\n",
    "print(\"ridge coefficients:\", mr.coef_)\n",
    "\n",
    "ml = Lasso(alpha=0.1).fit(X, y)\n",
    "print(\"lasso coefficients\", ml.coef_)"
   ]
  },
  {
   "cell_type": "markdown",
   "metadata": {
    "ein.tags": "worksheet-0",
    "slideshow": {
     "slide_type": "-"
    }
   },
   "source": [
    "## Create testing data"
   ]
  },
  {
   "cell_type": "code",
   "execution_count": 4,
   "metadata": {
    "autoscroll": false,
    "ein.tags": "worksheet-0",
    "slideshow": {
     "slide_type": "-"
    }
   },
   "outputs": [],
   "source": [
    "nt = 1000\n",
    "c = 0.0005\n",
    "x1t = np.random.normal(size=nt)\n",
    "x2t = x1t + c*np.random.normal(size=nt)\n",
    "x3t = x1t - x2t + c*np.random.normal(size=nt)\n",
    "yt = x1t + x2t + x3t + np.random.normal(size=nt)\n",
    "Xt = np.stack((x1t, x2t, x3t), axis=1)\n"
   ]
  },
  {
   "cell_type": "markdown",
   "metadata": {
    "ein.tags": "worksheet-0",
    "slideshow": {
     "slide_type": "-"
    }
   },
   "source": [
    "## ... and test"
   ]
  },
  {
   "cell_type": "code",
   "execution_count": 5,
   "metadata": {
    "autoscroll": false,
    "ein.tags": "worksheet-0",
    "slideshow": {
     "slide_type": "-"
    }
   },
   "outputs": [
    {
     "name": "stdout",
     "output_type": "stream",
     "text": [
      "lm: 0.10634276651737389\n",
      "ridge: 0.11786047327421235\n",
      "lasso: 0.14160468264857531\n"
     ]
    }
   ],
   "source": [
    "yhat = m.predict(Xt)\n",
    "rmse = np.sqrt(np.mean(yt - yhat)**2)\n",
    "print(\"lm:\", rmse)\n",
    "yhatr = mr.predict(Xt)\n",
    "rmser = np.sqrt(np.mean(yt - yhatr)**2)\n",
    "print(\"ridge:\", rmser)\n",
    "yhatl = ml.predict(Xt)\n",
    "rmsel = np.sqrt(np.mean(yt - yhatl)**2)\n",
    "print(\"lasso:\", rmsel)\n"
   ]
  },
  {
   "cell_type": "markdown",
   "metadata": {
    "ein.tags": "worksheet-0",
    "slideshow": {
     "slide_type": "-"
    }
   },
   "source": [
    "## Exercise:\n",
    "\n",
    "1. compute the rmse-s at different lambda values.  Use a wide range of lambdas, say b/w 1e-6 to 1e6.\n",
    "\n",
    "2. make a plot where you show how rmse depends on $\\lambda$.  Note: use log scale for lambda\n",
    "\n",
    "3. make another plot where you show how coefficients depend on $\\lambda$\n",
    "\n",
    "4. currently our test data remains very similar to training data.\n",
    "Extend the test data a little bit by increasing the factor 0.0001 to,\n",
    "say, 0.001.  See what happens with RMSE-s and all that."
   ]
  }
 ],
 "metadata": {
  "kernelspec": {
   "display_name": "Python 3",
   "language": "python",
   "name": "python3"
  },
  "language_info": {
   "codemirror_mode": {
    "name": "ipython",
    "version": 3
   },
   "file_extension": ".py",
   "mimetype": "text/x-python",
   "name": "python",
   "nbconvert_exporter": "python",
   "pygments_lexer": "ipython3",
   "version": "3.6.4"
  },
  "name": "regularization_examples.ipynb"
 },
 "nbformat": 4,
 "nbformat_minor": 2
}
