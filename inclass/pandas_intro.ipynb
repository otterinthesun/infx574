{
 "cells": [
  {
   "cell_type": "markdown",
   "metadata": {
    "ein.tags": "worksheet-0",
    "slideshow": {
     "slide_type": "-"
    }
   },
   "source": [
    "# Pandas Intro\n"
   ]
  },
  {
   "cell_type": "code",
   "execution_count": 181,
   "metadata": {
    "autoscroll": false,
    "collapsed": false,
    "ein.tags": "worksheet-0",
    "slideshow": {
     "slide_type": "-"
    }
   },
   "outputs": [
    {
     "name": "stdout",
     "output_type": "stream",
     "text": [
      "numpy version 1.14.0\n",
      "pandas version 0.22.0\n"
     ]
    }
   ],
   "source": [
    "import numpy as np\n",
    "print(\"numpy version\", np.__version__)\n",
    "import pandas as pd\n",
    "print(\"pandas version\", pd.__version__)"
   ]
  },
  {
   "cell_type": "markdown",
   "metadata": {
    "ein.tags": "worksheet-0",
    "slideshow": {
     "slide_type": "-"
    }
   },
   "source": [
    "## Fundamental Classes"
   ]
  },
  {
   "cell_type": "markdown",
   "metadata": {
    "ein.tags": "worksheet-0",
    "slideshow": {
     "slide_type": "-"
    }
   },
   "source": [
    "### Series\n",
    "\n",
    "Series is something like a variable in data frame"
   ]
  },
  {
   "cell_type": "code",
   "execution_count": null,
   "metadata": {
    "autoscroll": false,
    "collapsed": false,
    "ein.tags": "worksheet-0",
    "slideshow": {
     "slide_type": "-"
    }
   },
   "outputs": [],
   "source": [
    "s = pd.Series([1,2,5,6])\n",
    "print(s)\n",
    "print(s.values)\n",
    "print(s.index)"
   ]
  },
  {
   "cell_type": "code",
   "execution_count": null,
   "metadata": {
    "autoscroll": false,
    "collapsed": false,
    "ein.tags": "worksheet-0",
    "slideshow": {
     "slide_type": "-"
    }
   },
   "outputs": [],
   "source": [
    "pop = pd.Series( [ 38, 26, 19, 19], index = ['ca', 'tx', 'ny', 'fl'])  # population, in millions\n",
    "print(pop, '\\n')\n",
    "print('TX population:\\n', pop['tx'], '\\n')\n",
    "print(pop['ny']*1000000, '\\n')"
   ]
  },
  {
   "cell_type": "markdown",
   "metadata": {
    "ein.tags": "worksheet-0",
    "slideshow": {
     "slide_type": "-"
    }
   },
   "source": [
    "### DataFrame\n",
    "\n",
    "The central data structure in pandas, rectangular data\n",
    "rows: observations, columns: variables\n",
    "\n",
    "variables are stored as Series."
   ]
  },
  {
   "cell_type": "code",
   "execution_count": null,
   "metadata": {
    "autoscroll": false,
    "collapsed": false,
    "ein.tags": "worksheet-0",
    "slideshow": {
     "slide_type": "-"
    }
   },
   "outputs": [],
   "source": [
    "## create as a dict of lists (or series):\n",
    "df = {'ca': [35, 37, 38], 'tx': [23, 24, 26], 'md': [5,5,6]}\n",
    "pop = pd.DataFrame(df)\n",
    "print('population:\\n', pop, '\\n')\n",
    "pop = pd.DataFrame(df, index = [2010,2012,2014])\n",
    "print('population:\\n', pop, '\\n')"
   ]
  },
  {
   "cell_type": "code",
   "execution_count": null,
   "metadata": {
    "autoscroll": false,
    "collapsed": false,
    "ein.tags": "worksheet-0",
    "slideshow": {
     "slide_type": "-"
    }
   },
   "outputs": [],
   "source": [
    "## read from file\n",
    "titanic = pd.read_csv(\"../data/titanic.csv.bz2\")  # note: automatic decompression\n",
    "print(\"First 3 obs:\\n\", titanic.head(3), '\\n')\n",
    "print('Last 3 obs:\\n', titanic.tail(3), '\\n')"
   ]
  },
  {
   "cell_type": "markdown",
   "metadata": {
    "ein.tags": "worksheet-0",
    "slideshow": {
     "slide_type": "-"
    }
   },
   "source": [
    "## Indexing dataframes"
   ]
  },
  {
   "cell_type": "code",
   "execution_count": null,
   "metadata": {
    "autoscroll": false,
    "collapsed": false,
    "ein.tags": "worksheet-0",
    "slideshow": {
     "slide_type": "-"
    }
   },
   "outputs": [],
   "source": [
    "## Select variables\n",
    "print( titanic[\"name\"][:10] , '\\n')\n",
    "print( titanic.name[:10] , '\\n')\n",
    "print( titanic[[\"name\", \"survived\"]][:10], '\\n')"
   ]
  },
  {
   "cell_type": "code",
   "execution_count": null,
   "metadata": {
    "autoscroll": false,
    "collapsed": false,
    "ein.tags": "worksheet-0",
    "slideshow": {
     "slide_type": "-"
    }
   },
   "outputs": [],
   "source": [
    "## select by logical operations\n",
    "print('Enemies of the people:\\n', titanic[titanic.pclass == 1].head(), '\\n')\n",
    "print('Male loosers:\\n',\n",
    "      titanic[np.logical_and(titanic.pclass == 3,\n",
    "                             titanic.sex == 'male')].head(),\n",
    "      '\\n')\n",
    "## note: 'and' is not ufunc "
   ]
  },
  {
   "cell_type": "code",
   "execution_count": null,
   "metadata": {
    "autoscroll": false,
    "collapsed": false,
    "ein.tags": "worksheet-0",
    "slideshow": {
     "slide_type": "-"
    }
   },
   "outputs": [],
   "source": [
    "##First select a subset\n",
    "young = titanic[titanic.age < 20]\n",
    "young.head()\n",
    "## Note the indices"
   ]
  },
  {
   "cell_type": "code",
   "execution_count": null,
   "metadata": {
    "autoscroll": false,
    "collapsed": false,
    "ein.tags": "worksheet-0",
    "slideshow": {
     "slide_type": "-"
    }
   },
   "outputs": [],
   "source": [
    "## iloc: select rows by integer row number\n",
    "print(young.iloc[4], '\\n')\n",
    "print('as df:\\n', young.iloc[[4]], '\\n')\n",
    "print( young.iloc[:3], '\\n')\n",
    "## select rows and columns\n",
    "young.iloc[4, [3,4]]"
   ]
  },
  {
   "cell_type": "code",
   "execution_count": null,
   "metadata": {
    "autoscroll": false,
    "collapsed": false,
    "ein.tags": "worksheet-0",
    "slideshow": {
     "slide_type": "-"
    }
   },
   "outputs": [],
   "source": [
    "## loc: select by index\n",
    "print(\"as series:\\n\", young.loc[27], '\\n')\n",
    "print(\"as DF:\\n\", young.loc[[27]], '\\n')\n",
    "print(young.loc[[11,53]], '\\n')\n",
    "## select rows and columns\n",
    "print( young.loc[[11,53], ['pclass', 'survived']], '\\n')"
   ]
  },
  {
   "cell_type": "markdown",
   "metadata": {
    "ein.tags": "worksheet-0",
    "slideshow": {
     "slide_type": "-"
    }
   },
   "source": [
    "## Statistics and data description"
   ]
  },
  {
   "cell_type": "code",
   "execution_count": null,
   "metadata": {
    "autoscroll": false,
    "collapsed": false,
    "ein.tags": "worksheet-0",
    "slideshow": {
     "slide_type": "-"
    }
   },
   "outputs": [],
   "source": [
    "## compute means of data:\n",
    "print(\"Mean values:\\n\", titanic[['pclass', 'name', 'survived', 'age']].mean(), '\\n')\n",
    "# note: 'name' removed\n",
    "## find unique values\n",
    "print(\"possible genders:\\n\",  titanic.sex.unique(), '\\n')\n",
    "print(\"valid values:\\n\", titanic.age.count(), '\\n')\n",
    "print(\"missings:\\n\", titanic.age.isnull().sum(), '\\n')"
   ]
  },
  {
   "cell_type": "code",
   "execution_count": null,
   "metadata": {
    "autoscroll": false,
    "collapsed": false,
    "ein.tags": "worksheet-0",
    "slideshow": {
     "slide_type": "-"
    }
   },
   "outputs": [],
   "source": [
    "tn = titanic[['pclass', 'survived', 'age', 'fare']]\n",
    "print(tn.head(), '\\n')\n",
    "print(\"means:\\n\", tn.apply(np.mean), '\\n')\n",
    "print(\"ranges:\\n\", tn.apply(lambda x: x.max() - x.min()), '\\n')"
   ]
  },
  {
   "cell_type": "markdown",
   "metadata": {
    "ein.tags": "worksheet-0",
    "slideshow": {
     "slide_type": "-"
    }
   },
   "source": [
    "### Exercise:\n",
    "compute the survival rate by age and gender: split the data into for\n",
    "groups (you women, young men, old women, old men), and compute the\n",
    "survival rate in each of the group.  You may want to use the median\n",
    "age for the young-old boundary."
   ]
  },
  {
   "cell_type": "code",
   "execution_count": 188,
   "metadata": {
    "autoscroll": false,
    "collapsed": false,
    "ein.tags": "worksheet-0",
    "slideshow": {
     "slide_type": "-"
    }
   },
   "outputs": [
    {
     "name": "stdout",
     "output_type": "stream",
     "text": [
      "age boundary: 28.0 \n",
      "\n",
      "young men 0.23452768729641693\n",
      "young women 0.7106598984771574\n",
      "old men 0.1794871794871795\n",
      "old women 0.7958115183246073\n"
     ]
    }
   ],
   "source": [
    "ageb = titanic.age.median()\n",
    "print('age boundary:', ageb, '\\n')\n",
    "ym = titanic[np.logical_and(titanic.age < ageb, titanic.sex ==\n",
    "                         'male')].survived.mean()\n",
    "print('young men', ym)\n",
    "yf = titanic[np.logical_and(titanic.age < ageb, titanic.sex !=\n",
    "                         'male')].survived.mean()\n",
    "print('young women', yf)\n",
    "om = titanic[np.logical_and(titanic.age >= ageb, titanic.sex ==\n",
    "                         'male')].survived.mean()\n",
    "print('old men', om)\n",
    "of = titanic[np.logical_and(titanic.age >= ageb, titanic.sex !=\n",
    "                         'male')].survived.mean()\n",
    "print('old women', of)"
   ]
  },
  {
   "cell_type": "markdown",
   "metadata": {
    "ein.tags": "worksheet-0",
    "slideshow": {
     "slide_type": "-"
    }
   },
   "source": [
    "## Data Wrangling\n",
    "\n",
    "### Database joins"
   ]
  },
  {
   "cell_type": "code",
   "execution_count": null,
   "metadata": {
    "autoscroll": false,
    "collapsed": false,
    "ein.tags": "worksheet-0",
    "slideshow": {
     "slide_type": "-"
    }
   },
   "outputs": [],
   "source": [
    "df1 = pd.DataFrame({ 'key': ['b', 'b', 'a', 'c', 'a', 'a', 'b'], 'data1' : range(7) })\n",
    "df2 = pd.DataFrame({ 'key': ['a', 'b', 'd'], 'data2': range(3)})\n",
    "## many-to-one inner join\n",
    "print(\"inner join\\n\", pd.merge(df1, df2))\n",
    "## many-to-one outer join\n",
    "print(\"outer join\\n\", pd.merge(df1, df2, how='outer'))"
   ]
  },
  {
   "cell_type": "code",
   "execution_count": null,
   "metadata": {
    "autoscroll": false,
    "collapsed": false,
    "ein.tags": "worksheet-0",
    "slideshow": {
     "slide_type": "-"
    }
   },
   "outputs": [],
   "source": [
    "## Many-to-many joins\n",
    "df3 = pd.DataFrame({'key': ['b', 'b', 'a', 'c', 'a', 'b'], 'data3': range(6)})\n",
    "df4 = pd.DataFrame({'key': ['a', 'b', 'a', 'b', 'd'], 'data4': range(5)})\n",
    "print(\"many-to-many left join\\n\", pd.merge(df3, df4, on='key', how='left'))"
   ]
  },
  {
   "cell_type": "code",
   "execution_count": null,
   "metadata": {
    "autoscroll": false,
    "collapsed": false,
    "ein.tags": "worksheet-0",
    "slideshow": {
     "slide_type": "-"
    }
   },
   "outputs": [],
   "source": [
    "## join method\n",
    "## Always uses index for the second data frame\n",
    "df3.join(df4.set_index('key'), on='key', how='left')"
   ]
  },
  {
   "cell_type": "markdown",
   "metadata": {
    "ein.tags": "worksheet-0",
    "slideshow": {
     "slide_type": "-"
    }
   },
   "source": [
    "### Concatenation along axes"
   ]
  },
  {
   "cell_type": "code",
   "execution_count": null,
   "metadata": {
    "autoscroll": false,
    "collapsed": false,
    "ein.tags": "worksheet-0",
    "slideshow": {
     "slide_type": "-"
    }
   },
   "outputs": [],
   "source": [
    "## concatenating numpy matrices\n",
    "arr = np.arange(12).reshape((3,4))\n",
    "print(\"along axis 0\\n\", np.concatenate((arr, arr), axis=0))\n",
    "print(\"along axis 1\\n\", np.concatenate((arr, arr), axis=1))\n"
   ]
  },
  {
   "cell_type": "code",
   "execution_count": null,
   "metadata": {
    "autoscroll": false,
    "collapsed": false,
    "ein.tags": "worksheet-0",
    "slideshow": {
     "slide_type": "-"
    }
   },
   "outputs": [],
   "source": [
    "### Concatenation in pandas\n",
    "s1 = pd.Series([0,1], index=['a', 'b'])\n",
    "s2 = pd.Series([2,3,4], index=('c','d','e'))\n",
    "s3 = pd.Series([5,6], index=['f','g'])\n",
    "c1 = pd.concat((s1,s2,s3))\n",
    "print(\"along axis0 (default)\\n\", c1)\n",
    "print(\"note: this is of type\", type(c1))"
   ]
  },
  {
   "cell_type": "code",
   "execution_count": null,
   "metadata": {
    "autoscroll": false,
    "collapsed": false,
    "ein.tags": "worksheet-0",
    "slideshow": {
     "slide_type": "-"
    }
   },
   "outputs": [],
   "source": [
    "### concat in axis=1, get a DataFrame\n",
    "c2 = pd.concat((s1,s2,s3), axis=1)\n",
    "print(\"along axis0 (default)\\n\", c2)\n",
    "print(\"note: this is of type\", type(c2))\n"
   ]
  },
  {
   "cell_type": "code",
   "execution_count": null,
   "metadata": {
    "autoscroll": false,
    "collapsed": false,
    "ein.tags": "worksheet-0",
    "slideshow": {
     "slide_type": "-"
    }
   },
   "outputs": [],
   "source": [
    "s4 = pd.concat((s1*5, s3))\n",
    "print(\"outer join (default)\\n\", pd.concat([s1,s4], axis=1))\n",
    "print(\"inner join\\n\", pd.concat([s1,s4], axis=1, join=\"inner\"))\n",
    "## give an axis:\n",
    "print(\"given join axis\\n\", pd.concat([s1,s4], axis=1, join_axes=[['a', 'e', 'b', 'c']]))\n"
   ]
  },
  {
   "cell_type": "code",
   "execution_count": null,
   "metadata": {
    "autoscroll": false,
    "collapsed": false,
    "ein.tags": "worksheet-0",
    "slideshow": {
     "slide_type": "-"
    }
   },
   "outputs": [],
   "source": [
    "## identify by hierarchical key (axis = 0)\n",
    "c5 = pd.concat([s1,s1,s3])\n",
    "print(\"w/o keys\\n\", c5)\n",
    "c3 = pd.concat([s1,s1,s3], keys=['one', 'two', 'three'])\n",
    "print(\"w/hierarchical key\\n\", c3)\n",
    "c3.unstack()\n",
    "## get DataFrame columns (axis = 1)\n",
    "c4 = pd.concat([s1,s2,s3], axis = 1, keys=['one', 'two', 'three'])\n",
    "print(\"w/hierarchical key\\n\", c4)\n"
   ]
  },
  {
   "cell_type": "code",
   "execution_count": null,
   "metadata": {
    "autoscroll": false,
    "collapsed": false,
    "ein.tags": "worksheet-0",
    "slideshow": {
     "slide_type": "-"
    }
   },
   "outputs": [],
   "source": [
    "## DataFrames behave in similar fashion:\n",
    "df1 = pd.DataFrame(np.arange(6).reshape(3,2), index=['a','b','c'], columns=['one','two'])\n",
    "df2 = pd.DataFrame(5 + np.arange(4).reshape(2,2), index=['a','c'], columns=['three', 'four'])\n",
    "print(\"df1:\\n\", df1)\n",
    "print(\"df2:\\n\", df2)\n",
    "pd.concat([df1, df2], axis=1, keys=['L1', 'L2'])"
   ]
  },
  {
   "cell_type": "code",
   "execution_count": null,
   "metadata": {
    "autoscroll": false,
    "collapsed": false,
    "ein.tags": "worksheet-0",
    "slideshow": {
     "slide_type": "-"
    }
   },
   "outputs": [],
   "source": [
    "## overlapping data\n",
    "a = pd.Series([np.nan, 2.5, np.nan, 3.5, 4.5, np.nan], index=['f', 'e', 'd', 'c', 'b', 'a'])\n",
    "b = pd.Series(np.arange(len(a), dtype=np.float64), index=['f', 'e', 'd', 'c', 'b', 'a'])\n",
    "b[-1] = np.nan\n",
    "## select a if present, otherwise b\n",
    "print(\"'np.where'\\n\", np.where(pd.isnull(a), b, a))\n",
    "## do the same with 'combine_first'\n",
    "print(\"'combine_first'\\n\", a.combine_first(b))"
   ]
  },
  {
   "cell_type": "code",
   "execution_count": null,
   "metadata": {
    "autoscroll": false,
    "collapsed": false,
    "ein.tags": "worksheet-0",
    "slideshow": {
     "slide_type": "-"
    }
   },
   "outputs": [],
   "source": [
    "## works in a similar fashion for data frames\n",
    "df1 = pd.DataFrame({'a': [1, np.nan, 5, np.nan], 'b': [np.nan, 2, np.nan, 6], 'c': range(2,18,4)})\n",
    "df2 = pd.DataFrame({'a': [5, 4, np.nan, 3, 7], 'b': [np.nan, 3, 4, 6, 8]})\n",
    "df1.combine_first(df2)"
   ]
  },
  {
   "cell_type": "markdown",
   "metadata": {
    "ein.tags": "worksheet-0",
    "slideshow": {
     "slide_type": "-"
    }
   },
   "source": [
    "### Reshaping and pivoting"
   ]
  },
  {
   "cell_type": "code",
   "execution_count": null,
   "metadata": {
    "autoscroll": false,
    "collapsed": false,
    "ein.tags": "worksheet-0",
    "slideshow": {
     "slide_type": "-"
    }
   },
   "outputs": [],
   "source": [
    "data = pd.DataFrame(np.arange(6).reshape((2,3)), index=pd.Index(['OH','CO'], name='state'), columns=pd.Index(['one', 'two', 'three'], name='number'))\n",
    "long = data.stack()\n",
    "print(\"long form\\n\", long)\n",
    "wide = long.unstack()\n",
    "print('wide form\\n', wide)\n",
    "print('wide with 0-level in columns:\\n', long.unstack(0))"
   ]
  },
  {
   "cell_type": "markdown",
   "metadata": {
    "ein.tags": "worksheet-0",
    "slideshow": {
     "slide_type": "-"
    }
   },
   "source": [
    "## Chapther 9: Data Aggregation and Group Operations"
   ]
  },
  {
   "cell_type": "code",
   "execution_count": null,
   "metadata": {
    "autoscroll": false,
    "collapsed": false,
    "ein.tags": "worksheet-0",
    "slideshow": {
     "slide_type": "-"
    }
   },
   "outputs": [],
   "source": [
    "df = pd.DataFrame({'key1': ['a', 'a', 'b', 'b', 'a', np.nan], 'key2': ['one', 'two', 'one', 'two', 'one', np.nan],\n",
    "                   'data1': np.random.randn(5), 'data2': np.random.randn(5)})\n",
    "## group the data\n",
    "grouped = df['data1'].groupby(df['key1'])\n",
    "# group by a single key\n",
    "print(\"means by key1:\\n\", grouped.mean())\n",
    "print(\"\\nmeans by key1, key2:\\n\", df['data1'].groupby([df['key1'], df.key2]).mean() )\n",
    "# group by two keys\n"
   ]
  },
  {
   "cell_type": "code",
   "execution_count": null,
   "metadata": {
    "autoscroll": false,
    "collapsed": false,
    "ein.tags": "worksheet-0",
    "slideshow": {
     "slide_type": "-"
    }
   },
   "outputs": [],
   "source": [
    "states = np.array(['OH', 'CA', 'CA', 'OH', 'OH'])\n",
    "years = np.array([2005, 2005, 2006, 2005, 2006])\n",
    "print(\"means by state, year:\\n\", df.data1.groupby([states, years]).mean() )\n",
    "# note: key2 removed\n",
    "## use the same data frame:\n",
    "print(\"\\nkeys in the same df:\\n\", df.groupby(['key1', 'key2']).mean() )\n"
   ]
  },
  {
   "cell_type": "markdown",
   "metadata": {
    "ein.tags": "worksheet-0",
    "slideshow": {
     "slide_type": "-"
    }
   },
   "source": [
    "### Exercice:\n",
    "repeat the previous exercise using grouping: compute the survival rate\n",
    "for men, women, old and young using groupby operator."
   ]
  },
  {
   "cell_type": "code",
   "execution_count": null,
   "metadata": {
    "autoscroll": false,
    "collapsed": false,
    "ein.tags": "worksheet-0",
    "slideshow": {
     "slide_type": "-"
    }
   },
   "outputs": [],
   "source": []
  }
 ],
 "metadata": {
  "name": "pandas_intro.ipynb"
 },
 "nbformat": 4,
 "nbformat_minor": 2
}
