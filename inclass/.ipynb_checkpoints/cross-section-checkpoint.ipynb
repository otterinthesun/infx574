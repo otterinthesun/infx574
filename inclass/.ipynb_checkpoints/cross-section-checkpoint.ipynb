{
 "cells": [
  {
   "cell_type": "code",
   "execution_count": 1,
   "metadata": {
    "autoscroll": false,
    "ein.tags": "worksheet-0",
    "slideshow": {
     "slide_type": "-"
    }
   },
   "outputs": [],
   "source": [
    "import numpy as np\n",
    "import pandas as pd\n",
    "import matplotlib.pyplot as plt\n",
    "import statsmodels.formula.api as smf\n",
    "import random\n",
    "%matplotlib inline"
   ]
  },
  {
   "cell_type": "markdown",
   "metadata": {
    "ein.tags": "worksheet-0",
    "slideshow": {
     "slide_type": "-"
    }
   },
   "source": [
    "## Cross-sectional Estimator"
   ]
  },
  {
   "cell_type": "code",
   "execution_count": 2,
   "metadata": {
    "autoscroll": false,
    "ein.tags": "worksheet-0",
    "slideshow": {
     "slide_type": "-"
    }
   },
   "outputs": [
    {
     "name": "stdout",
     "output_type": "stream",
     "text": [
      "[1 0 1 0 0 0 0 0 0 0 0 1 0 0 1 1 0 0 1 0]\n"
     ]
    },
    {
     "data": {
      "text/plain": [
       "array([ 2.08442832e+00,  1.59279583e-01,  2.66772906e+00,  5.94902950e-01,\n",
       "        8.48674923e-02,  2.00402233e-01,  4.06202492e-01,  6.16401644e-01,\n",
       "        6.16842784e-01,  8.64040004e-01,  1.91040372e-01,  2.05023518e+00,\n",
       "        2.72046102e-01,  5.58911091e-01,  2.69980705e+00,  1.89850024e+00,\n",
       "        4.55301568e-01,  5.58930834e-01,  2.42783716e+00,  8.92170159e-01,\n",
       "        6.11621523e-01, -2.79044452e-03,  7.34553214e-01,  2.98440075e+00,\n",
       "        2.01104281e+00,  1.85246709e+00,  8.50348971e-02,  2.62701471e+00,\n",
       "        2.24131239e+00,  9.19082318e-01])"
      ]
     },
     "execution_count": 2,
     "metadata": {},
     "output_type": "execute_result"
    }
   ],
   "source": [
    "n = 1000\n",
    "T = np.random.choice(2, n)\n",
    "eps = 0.5*np.random.normal(size=n)\n",
    "# here eps and T are independent.\n",
    "## You may try to make eps and T dependent, for instance:\n",
    "# eps = 0.5*np.random.normal(size=n) + T\n",
    "# -- just by adding T to eps makes these dependent.  See what happens!\n",
    "y = 0.5 + 2*T + eps\n",
    "# question: what are true values of alpha and beta?\n",
    "print(T[:20])\n",
    "y[:30]"
   ]
  },
  {
   "cell_type": "code",
   "execution_count": 3,
   "metadata": {
    "autoscroll": false,
    "ein.tags": "worksheet-0",
    "slideshow": {
     "slide_type": "-"
    }
   },
   "outputs": [
    {
     "name": "stdout",
     "output_type": "stream",
     "text": [
      "   T         y\n",
      "0  1  2.084428\n",
      "1  0  0.159280\n",
      "2  1  2.667729\n",
      "3  0  0.594903\n",
      "4  0  0.084867\n",
      "5  0  0.200402\n",
      "6  0  0.406202\n",
      "7  0  0.616402\n",
      "8  0  0.616843\n",
      "9  0  0.864040\n"
     ]
    }
   ],
   "source": [
    "df = pd.DataFrame({\"y\" : y, \"T\" : T })\n",
    "print(df.head(10))"
   ]
  },
  {
   "cell_type": "code",
   "execution_count": null,
   "metadata": {
    "autoscroll": false,
    "ein.tags": "worksheet-0",
    "slideshow": {
     "slide_type": "-"
    }
   },
   "outputs": [],
   "source": [
    "plt.figure(figsize=(15,10))\n",
    "plt.scatter(df['T'] + 0.2*np.random.uniform(size=n), df['y'])"
   ]
  },
  {
   "cell_type": "code",
   "execution_count": null,
   "metadata": {
    "autoscroll": false,
    "ein.tags": "worksheet-0",
    "slideshow": {
     "slide_type": "-"
    }
   },
   "outputs": [],
   "source": [
    "df.groupby(\"T\").mean()"
   ]
  },
  {
   "cell_type": "code",
   "execution_count": null,
   "metadata": {
    "autoscroll": false,
    "ein.tags": "worksheet-0",
    "slideshow": {
     "slide_type": "-"
    }
   },
   "outputs": [],
   "source": [
    "m = smf.ols(formula = \"y~T\", data=df).fit()\n",
    "print(m.summary())"
   ]
  }
 ],
 "metadata": {
  "kernelspec": {
   "display_name": "Python 3",
   "language": "python",
   "name": "python3"
  },
  "language_info": {
   "codemirror_mode": {
    "name": "ipython",
    "version": 3
   },
   "file_extension": ".py",
   "mimetype": "text/x-python",
   "name": "python",
   "nbconvert_exporter": "python",
   "pygments_lexer": "ipython3",
   "version": "3.6.4"
  },
  "name": "cross-section.ipynb"
 },
 "nbformat": 4,
 "nbformat_minor": 2
}
