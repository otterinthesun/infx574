{
 "cells": [
  {
   "cell_type": "markdown",
   "metadata": {
    "ein.tags": "worksheet-0",
    "slideshow": {
     "slide_type": "-"
    }
   },
   "source": [
    "# Overfitting, testing-training, Cross-validation"
   ]
  },
  {
   "cell_type": "code",
   "execution_count": 1,
   "metadata": {
    "autoscroll": false,
    "ein.tags": "worksheet-0",
    "slideshow": {
     "slide_type": "-"
    }
   },
   "outputs": [],
   "source": [
    "import numpy as np\n",
    "import pandas as pd\n",
    "import matplotlib.pyplot as plt\n",
    "%matplotlib inline\n",
    "import statsmodels.formula.api as smf"
   ]
  },
  {
   "cell_type": "markdown",
   "metadata": {
    "ein.tags": "worksheet-0",
    "slideshow": {
     "slide_type": "-"
    }
   },
   "source": [
    "## Overfitting\n",
    "\n",
    "Example with random data"
   ]
  },
  {
   "cell_type": "code",
   "execution_count": 2,
   "metadata": {
    "autoscroll": false,
    "ein.tags": "worksheet-0",
    "slideshow": {
     "slide_type": "-"
    }
   },
   "outputs": [],
   "source": [
    "n = 100\n",
    "x = np.random.normal(size=n)\n",
    "z = np.random.normal(size=n)\n",
    "z1 = np.random.normal(size=n)\n",
    "z2 = np.random.normal(size=n)\n",
    "z3 = np.random.normal(size=n)\n",
    "z4 = np.random.normal(size=n)\n",
    "z5 = np.random.normal(size=n)\n",
    "y = x + np.random.normal(size=n)\n",
    "# note: y does not depend on z"
   ]
  },
  {
   "cell_type": "code",
   "execution_count": 3,
   "metadata": {
    "autoscroll": false,
    "ein.tags": "worksheet-0",
    "slideshow": {
     "slide_type": "-"
    }
   },
   "outputs": [],
   "source": [
    "dat = pd.DataFrame({'y' : y, 'x': x, 'z': z, 'z1':z1, 'z2':z2, 'z3':z3, 'z4':z4, 'z5':z5})\n"
   ]
  },
  {
   "cell_type": "code",
   "execution_count": 4,
   "metadata": {
    "autoscroll": false,
    "ein.tags": "worksheet-0",
    "slideshow": {
     "slide_type": "-"
    }
   },
   "outputs": [
    {
     "data": {
      "text/html": [
       "<table class=\"simpletable\">\n",
       "<caption>OLS Regression Results</caption>\n",
       "<tr>\n",
       "  <th>Dep. Variable:</th>            <td>y</td>        <th>  R-squared:         </th> <td>   0.574</td>\n",
       "</tr>\n",
       "<tr>\n",
       "  <th>Model:</th>                   <td>OLS</td>       <th>  Adj. R-squared:    </th> <td>   0.542</td>\n",
       "</tr>\n",
       "<tr>\n",
       "  <th>Method:</th>             <td>Least Squares</td>  <th>  F-statistic:       </th> <td>   17.74</td>\n",
       "</tr>\n",
       "<tr>\n",
       "  <th>Date:</th>             <td>Mon, 07 May 2018</td> <th>  Prob (F-statistic):</th> <td>1.05e-14</td>\n",
       "</tr>\n",
       "<tr>\n",
       "  <th>Time:</th>                 <td>18:13:48</td>     <th>  Log-Likelihood:    </th> <td> -121.29</td>\n",
       "</tr>\n",
       "<tr>\n",
       "  <th>No. Observations:</th>      <td>   100</td>      <th>  AIC:               </th> <td>   258.6</td>\n",
       "</tr>\n",
       "<tr>\n",
       "  <th>Df Residuals:</th>          <td>    92</td>      <th>  BIC:               </th> <td>   279.4</td>\n",
       "</tr>\n",
       "<tr>\n",
       "  <th>Df Model:</th>              <td>     7</td>      <th>                     </th>     <td> </td>   \n",
       "</tr>\n",
       "<tr>\n",
       "  <th>Covariance Type:</th>      <td>nonrobust</td>    <th>                     </th>     <td> </td>   \n",
       "</tr>\n",
       "</table>\n",
       "<table class=\"simpletable\">\n",
       "<tr>\n",
       "      <td></td>         <th>coef</th>     <th>std err</th>      <th>t</th>      <th>P>|t|</th>  <th>[0.025</th>    <th>0.975]</th>  \n",
       "</tr>\n",
       "<tr>\n",
       "  <th>Intercept</th> <td>    0.0081</td> <td>    0.089</td> <td>    0.092</td> <td> 0.927</td> <td>   -0.168</td> <td>    0.184</td>\n",
       "</tr>\n",
       "<tr>\n",
       "  <th>x</th>         <td>    0.8806</td> <td>    0.083</td> <td>   10.566</td> <td> 0.000</td> <td>    0.715</td> <td>    1.046</td>\n",
       "</tr>\n",
       "<tr>\n",
       "  <th>z</th>         <td>   -0.0111</td> <td>    0.071</td> <td>   -0.156</td> <td> 0.876</td> <td>   -0.152</td> <td>    0.129</td>\n",
       "</tr>\n",
       "<tr>\n",
       "  <th>z1</th>        <td>    0.0083</td> <td>    0.083</td> <td>    0.101</td> <td> 0.920</td> <td>   -0.156</td> <td>    0.172</td>\n",
       "</tr>\n",
       "<tr>\n",
       "  <th>z2</th>        <td>   -0.1422</td> <td>    0.092</td> <td>   -1.553</td> <td> 0.124</td> <td>   -0.324</td> <td>    0.040</td>\n",
       "</tr>\n",
       "<tr>\n",
       "  <th>z3</th>        <td>   -0.0531</td> <td>    0.102</td> <td>   -0.519</td> <td> 0.605</td> <td>   -0.256</td> <td>    0.150</td>\n",
       "</tr>\n",
       "<tr>\n",
       "  <th>z4</th>        <td>   -0.0202</td> <td>    0.091</td> <td>   -0.221</td> <td> 0.825</td> <td>   -0.201</td> <td>    0.161</td>\n",
       "</tr>\n",
       "<tr>\n",
       "  <th>z5</th>        <td>    0.1624</td> <td>    0.087</td> <td>    1.871</td> <td> 0.065</td> <td>   -0.010</td> <td>    0.335</td>\n",
       "</tr>\n",
       "</table>\n",
       "<table class=\"simpletable\">\n",
       "<tr>\n",
       "  <th>Omnibus:</th>       <td> 3.469</td> <th>  Durbin-Watson:     </th> <td>   2.175</td>\n",
       "</tr>\n",
       "<tr>\n",
       "  <th>Prob(Omnibus):</th> <td> 0.176</td> <th>  Jarque-Bera (JB):  </th> <td>   2.075</td>\n",
       "</tr>\n",
       "<tr>\n",
       "  <th>Skew:</th>          <td> 0.093</td> <th>  Prob(JB):          </th> <td>   0.354</td>\n",
       "</tr>\n",
       "<tr>\n",
       "  <th>Kurtosis:</th>      <td> 2.319</td> <th>  Cond. No.          </th> <td>    1.60</td>\n",
       "</tr>\n",
       "</table>"
      ],
      "text/plain": [
       "<class 'statsmodels.iolib.summary.Summary'>\n",
       "\"\"\"\n",
       "                            OLS Regression Results                            \n",
       "==============================================================================\n",
       "Dep. Variable:                      y   R-squared:                       0.574\n",
       "Model:                            OLS   Adj. R-squared:                  0.542\n",
       "Method:                 Least Squares   F-statistic:                     17.74\n",
       "Date:                Mon, 07 May 2018   Prob (F-statistic):           1.05e-14\n",
       "Time:                        18:13:48   Log-Likelihood:                -121.29\n",
       "No. Observations:                 100   AIC:                             258.6\n",
       "Df Residuals:                      92   BIC:                             279.4\n",
       "Df Model:                           7                                         \n",
       "Covariance Type:            nonrobust                                         \n",
       "==============================================================================\n",
       "                 coef    std err          t      P>|t|      [0.025      0.975]\n",
       "------------------------------------------------------------------------------\n",
       "Intercept      0.0081      0.089      0.092      0.927      -0.168       0.184\n",
       "x              0.8806      0.083     10.566      0.000       0.715       1.046\n",
       "z             -0.0111      0.071     -0.156      0.876      -0.152       0.129\n",
       "z1             0.0083      0.083      0.101      0.920      -0.156       0.172\n",
       "z2            -0.1422      0.092     -1.553      0.124      -0.324       0.040\n",
       "z3            -0.0531      0.102     -0.519      0.605      -0.256       0.150\n",
       "z4            -0.0202      0.091     -0.221      0.825      -0.201       0.161\n",
       "z5             0.1624      0.087      1.871      0.065      -0.010       0.335\n",
       "==============================================================================\n",
       "Omnibus:                        3.469   Durbin-Watson:                   2.175\n",
       "Prob(Omnibus):                  0.176   Jarque-Bera (JB):                2.075\n",
       "Skew:                           0.093   Prob(JB):                        0.354\n",
       "Kurtosis:                       2.319   Cond. No.                         1.60\n",
       "==============================================================================\n",
       "\n",
       "Warnings:\n",
       "[1] Standard Errors assume that the covariance matrix of the errors is correctly specified.\n",
       "\"\"\""
      ]
     },
     "execution_count": 4,
     "metadata": {},
     "output_type": "execute_result"
    }
   ],
   "source": [
    "m = smf.ols(formula='y ~ 1 + x + z + z1 + z2 + z3 + z4 + z5', data=dat).fit()\n",
    "m.summary()"
   ]
  },
  {
   "cell_type": "markdown",
   "metadata": {
    "ein.tags": "worksheet-0",
    "slideshow": {
     "slide_type": "-"
    }
   },
   "source": [
    "## Testing-training"
   ]
  },
  {
   "cell_type": "code",
   "execution_count": 5,
   "metadata": {
    "autoscroll": false,
    "ein.tags": "worksheet-0",
    "slideshow": {
     "slide_type": "-"
    }
   },
   "outputs": [],
   "source": [
    "indices = range(len(dat))\n",
    "itest = np.random.choice(indices, int(0.2*len(indices)), False)\n",
    "# last False: no replacements\n",
    "itrain = list(set(indices).difference(itest))\n",
    "testDat = dat.iloc[itest]\n",
    "trainDat = dat.iloc[itrain]\n"
   ]
  },
  {
   "cell_type": "code",
   "execution_count": 6,
   "metadata": {
    "autoscroll": false,
    "ein.tags": "worksheet-0",
    "slideshow": {
     "slide_type": "-"
    }
   },
   "outputs": [
    {
     "name": "stdout",
     "output_type": "stream",
     "text": [
      "0.5930538151077039\n"
     ]
    }
   ],
   "source": [
    "m = smf.ols(formula='y ~ x + z + z1 + z2 + z3 +z4', data=trainDat).fit()\n",
    "yhat = m.predict(exog=dict(testDat))\n",
    "mse = np.mean((yhat - testDat.y)**2)\n",
    "print(mse)\n"
   ]
  },
  {
   "cell_type": "markdown",
   "metadata": {
    "ein.tags": "worksheet-0",
    "slideshow": {
     "slide_type": "-"
    }
   },
   "source": [
    "## k-fold CV"
   ]
  },
  {
   "cell_type": "code",
   "execution_count": 7,
   "metadata": {
    "autoscroll": false,
    "ein.tags": "worksheet-0",
    "slideshow": {
     "slide_type": "-"
    }
   },
   "outputs": [],
   "source": [
    "k = 10\n",
    "indices = np.arange(len(dat))\n",
    "np.random.shuffle(indices)\n"
   ]
  },
  {
   "cell_type": "code",
   "execution_count": 8,
   "metadata": {
    "autoscroll": false,
    "ein.tags": "worksheet-0",
    "slideshow": {
     "slide_type": "-"
    }
   },
   "outputs": [
    {
     "name": "stdout",
     "output_type": "stream",
     "text": [
      "0.08266552503656002\n",
      "0.14006438532023682\n",
      "0.21919304422097122\n",
      "0.3041220124232126\n",
      "0.3678434456917049\n",
      "0.4479662962367016\n",
      "0.5286337474663401\n",
      "0.6228636530327478\n",
      "0.7444434562126087\n",
      "0.8463136614326301\n",
      "0.8558450437693574\n"
     ]
    }
   ],
   "source": [
    "rmse1 = np.empty(k)\n",
    "rmse2 = np.empty(k)\n",
    "for i in range(k):\n",
    "    itest = indices[i::k]\n",
    "    itrain = list(set(indices).difference(itest))\n",
    "    testDat = dat.iloc[itest]\n",
    "    trainDat = dat.iloc[itrain]\n",
    "    m1 = smf.ols(formula='y ~ x', data=trainDat).fit()\n",
    "    m2 = smf.ols(formula='y ~ x + z', data=trainDat).fit()\n",
    "    yhat1 = m1.predict(exog=dict(testDat))\n",
    "    yhat2 = m2.predict(exog=dict(testDat))\n",
    "    rmse1[i] = np.sqrt(np.mean((yhat1 - testDat.y)**2))\n",
    "    rmse2[i] = np.sqrt(np.mean((yhat2 - testDat.y)**2))\n",
    "\n",
    "    print(np.mean(rmse1))\n",
    "print(np.mean(rmse2))    "
   ]
  },
  {
   "cell_type": "markdown",
   "metadata": {
    "ein.tags": "worksheet-0",
    "slideshow": {
     "slide_type": "-"
    }
   },
   "source": [
    "## Exercise:\n",
    "\n",
    "Create an image of overfitting with only a few datapoints (say 10..20). \n",
    "\n",
    "* create random x (standard normal or uniform)\n",
    "* create random y = constant + random noise\n",
    "* plot x versus y\n",
    "* estimate models y ~ x, y ~ x + x^2, y ~ x + x^2 + x^3 ...\n",
    "* predict yhat on a grid\n",
    "* plot x versus predicted yhat"
   ]
  },
  {
   "cell_type": "markdown",
   "metadata": {
    "ein.tags": "worksheet-0",
    "slideshow": {
     "slide_type": "-"
    }
   },
   "source": [
    "## Bootstrap\n",
    "\n",
    "What is the 10th percentile of pareto random variables?\n",
    "\n",
    "How to find it's standard errors?"
   ]
  },
  {
   "cell_type": "code",
   "execution_count": 9,
   "metadata": {
    "autoscroll": false,
    "ein.tags": "worksheet-0",
    "slideshow": {
     "slide_type": "-"
    }
   },
   "outputs": [
    {
     "data": {
      "text/plain": [
       "0.03923721164778919"
      ]
     },
     "execution_count": 9,
     "metadata": {},
     "output_type": "execute_result"
    }
   ],
   "source": [
    "n = 100\n",
    "r = 1000\n",
    "x = np.random.pareto(2, size=n)\n",
    "np.percentile(x, 10)"
   ]
  },
  {
   "cell_type": "code",
   "execution_count": 10,
   "metadata": {
    "autoscroll": false,
    "ein.tags": "worksheet-0",
    "slideshow": {
     "slide_type": "-"
    }
   },
   "outputs": [
    {
     "name": "stdout",
     "output_type": "stream",
     "text": [
      "0.027384851171507733 0.1019788295197756\n"
     ]
    },
    {
     "data": {
      "image/png": "[encoded data removed]",
      "text/plain": [
       "<matplotlib.figure.Figure at 0x1a152f3cf8>"
      ]
     },
     "metadata": {},
     "output_type": "display_data"
    }
   ],
   "source": [
    "x = np.random.pareto(2, size=(r,n))\n",
    "p10 = pd.DataFrame(x).apply(lambda x: np.percentile(x, 10), axis=1)\n",
    "lb, ub = np.percentile(p10, 2.5), np.percentile(p10, 97.5)\n",
    "print(lb, ub)\n",
    "a = plt.hist(p10)"
   ]
  },
  {
   "cell_type": "code",
   "execution_count": 11,
   "metadata": {
    "autoscroll": false,
    "ein.tags": "worksheet-0",
    "slideshow": {
     "slide_type": "-"
    }
   },
   "outputs": [
    {
     "name": "stdout",
     "output_type": "stream",
     "text": [
      "0.01565264484042772 0.1466591192822391\n"
     ]
    },
    {
     "data": {
      "image/png": "[encoded data removed]",
      "text/plain": [
       "<matplotlib.figure.Figure at 0x1a15357160>"
      ]
     },
     "metadata": {},
     "output_type": "display_data"
    }
   ],
   "source": [
    "x = np.random.pareto(2, size=n)\n",
    "p10 = np.empty(r)\n",
    "for i in range(r):\n",
    "    xx = np.random.choice(x, len(x))\n",
    "    p10[i] = np.percentile(xx, 10)\n",
    "\n",
    "lb, ub = np.percentile(p10, 2.5), np.percentile(p10, 97.5)\n",
    "print(lb, ub)\n",
    "a = plt.hist(p10)    "
   ]
  }
 ],
 "metadata": {
  "kernelspec": {
   "display_name": "Python 3",
   "language": "python",
   "name": "python3"
  },
  "language_info": {
   "codemirror_mode": {
    "name": "ipython",
    "version": 3
   },
   "file_extension": ".py",
   "mimetype": "text/x-python",
   "name": "python",
   "nbconvert_exporter": "python",
   "pygments_lexer": "ipython3",
   "version": "3.6.4"
  },
  "name": "cross-validation.ipynb"
 },
 "nbformat": 4,
 "nbformat_minor": 2
}
