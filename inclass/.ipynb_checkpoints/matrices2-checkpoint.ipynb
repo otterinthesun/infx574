{
 "cells": [
  {
   "cell_type": "code",
   "execution_count": 1,
   "metadata": {
    "autoscroll": false,
    "ein.tags": "worksheet-0",
    "slideshow": {
     "slide_type": "-"
    }
   },
   "outputs": [],
   "source": [
    "import numpy as np"
   ]
  },
  {
   "cell_type": "code",
   "execution_count": 3,
   "metadata": {
    "autoscroll": false,
    "ein.tags": "worksheet-0",
    "slideshow": {
     "slide_type": "-"
    }
   },
   "outputs": [
    {
     "name": "stdout",
     "output_type": "stream",
     "text": [
      "[[ 0.75037902  0.69328281]\n",
      " [-0.8097777  -0.22872994]]\n",
      "2\n",
      "0.3897708032938748\n"
     ]
    },
    {
     "data": {
      "text/plain": [
       "0.3897708032938748"
      ]
     },
     "execution_count": 3,
     "metadata": {},
     "output_type": "execute_result"
    }
   ],
   "source": [
    "a = np.random.normal(size=(2,2))\n",
    "print(a)\n",
    "## matrix rank\n",
    "print(np.linalg.matrix_rank(a))\n",
    "print(np.linalg.det(a))\n",
    "np.linalg.det(a)"
   ]
  },
  {
   "cell_type": "markdown",
   "metadata": {
    "ein.tags": "worksheet-0",
    "slideshow": {
     "slide_type": "-"
    }
   },
   "source": [
    "## Inverse matrix"
   ]
  },
  {
   "cell_type": "code",
   "execution_count": 4,
   "metadata": {
    "autoscroll": false,
    "ein.tags": "worksheet-0",
    "slideshow": {
     "slide_type": "-"
    }
   },
   "outputs": [
    {
     "name": "stdout",
     "output_type": "stream",
     "text": [
      "[[-0.58683191 -1.77869353]\n",
      " [ 2.07757402  1.92518017]]\n",
      "\n",
      " [[1. 0.]\n",
      " [0. 1.]]\n",
      "\n",
      " [[1.00000000e+00 0.00000000e+00]\n",
      " [5.55111512e-17 1.00000000e+00]]\n",
      "\n",
      " [[0.00000000e+00 0.00000000e+00]\n",
      " [5.55111512e-17 0.00000000e+00]]\n"
     ]
    }
   ],
   "source": [
    "a1 = np.linalg.inv(a)\n",
    "print(a1)\n",
    "print(\"\\n\", a1 @ a)\n",
    "print(\"\\n\", a @ a1)\n",
    "print(\"\\n\", a @ a1 - np.eye(2))"
   ]
  },
  {
   "cell_type": "markdown",
   "metadata": {
    "ein.tags": "worksheet-0",
    "slideshow": {
     "slide_type": "-"
    }
   },
   "source": [
    "## (Near) singular matrices"
   ]
  },
  {
   "cell_type": "code",
   "execution_count": 5,
   "metadata": {
    "autoscroll": false,
    "ein.tags": "worksheet-0",
    "slideshow": {
     "slide_type": "-"
    }
   },
   "outputs": [
    {
     "name": "stdout",
     "output_type": "stream",
     "text": [
      "[[1 2 3]\n",
      " [4 5 6]\n",
      " [7 8 9]]\n",
      "rank= 2\n"
     ]
    },
    {
     "data": {
      "text/plain": [
       "matrix([[ 3.15251974e+15, -6.30503948e+15,  3.15251974e+15],\n",
       "        [-6.30503948e+15,  1.26100790e+16, -6.30503948e+15],\n",
       "        [ 3.15251974e+15, -6.30503948e+15,  3.15251974e+15]])"
      ]
     },
     "execution_count": 5,
     "metadata": {},
     "output_type": "execute_result"
    }
   ],
   "source": [
    "## singular matrix\n",
    "a = np.matrix(np.arange(1,10).reshape(3,3))\n",
    "print(a)\n",
    "print(\"rank=\", np.linalg.matrix_rank(a))\n",
    "np.linalg.inv(a)"
   ]
  },
  {
   "cell_type": "code",
   "execution_count": null,
   "metadata": {
    "autoscroll": false,
    "ein.tags": "worksheet-0",
    "slideshow": {
     "slide_type": "-"
    }
   },
   "outputs": [],
   "source": [
    "b = a + 1e-9*np.eye(3)\n",
    "print(b)\n",
    "print(\"rank=\", np.linalg.matrix_rank(b))\n",
    "b1 = np.linalg.inv(b)\n",
    "print(\"\\n\", b1@b)\n",
    "print('\\n', b1@b - np.eye(3))\n",
    "\n",
    "print(\"condition number\\n\", np.linalg.cond(b))"
   ]
  },
  {
   "cell_type": "markdown",
   "metadata": {
    "ein.tags": "worksheet-0",
    "slideshow": {
     "slide_type": "-"
    }
   },
   "source": [
    "## Eigenvalues"
   ]
  },
  {
   "cell_type": "code",
   "execution_count": null,
   "metadata": {
    "autoscroll": false,
    "ein.tags": "worksheet-0",
    "slideshow": {
     "slide_type": "-"
    }
   },
   "outputs": [],
   "source": [
    "a = np.matrix(np.arange(1,10).reshape(3,3))\n",
    "print(a)\n",
    "ev = np.linalg.eig(a)\n",
    "print('\\neigenvalues\\n', ev)\n",
    "val, vec = np.linalg.eig(a)\n",
    "print('\\neigenvalues\\n', val)\n",
    "print('\\ncondition number', np.linalg.cond(a))\n",
    "print('\\neigenvectors\\n', vec)"
   ]
  },
  {
   "cell_type": "markdown",
   "metadata": {
    "ein.tags": "worksheet-0",
    "slideshow": {
     "slide_type": "-"
    }
   },
   "source": [
    "## diagonalization"
   ]
  },
  {
   "cell_type": "code",
   "execution_count": null,
   "metadata": {
    "autoscroll": false,
    "ein.tags": "worksheet-0",
    "slideshow": {
     "slide_type": "-"
    }
   },
   "outputs": [],
   "source": [
    "a = np.matrix(np.arange(1,10).reshape(3,3))\n",
    "a = 0.5*(a + a.T)\n",
    "print(a)\n",
    "val, vec = np.linalg.eig(a)\n",
    "print('\\neigenvalues\\n', val)\n",
    "print('\\neigenvectors\\n', vec)\n",
    "L = np.diag(val)\n",
    "C = vec\n",
    "print('C\\n', C)\n",
    "C1 = np.linalg.inv(C)\n",
    "print('\\nC inverse\\n', C1)\n",
    "print('\\ndiagonal form\\n', C @ L @ C1)"
   ]
  },
  {
   "cell_type": "code",
   "execution_count": null,
   "metadata": {
    "autoscroll": false,
    "ein.tags": "worksheet-0",
    "slideshow": {
     "slide_type": "-"
    }
   },
   "outputs": [],
   "source": []
  }
 ],
 "metadata": {
  "kernelspec": {
   "display_name": "Python 3",
   "language": "python",
   "name": "python3"
  },
  "language_info": {
   "codemirror_mode": {
    "name": "ipython",
    "version": 3
   },
   "file_extension": ".py",
   "mimetype": "text/x-python",
   "name": "python",
   "nbconvert_exporter": "python",
   "pygments_lexer": "ipython3",
   "version": "3.6.4"
  },
  "name": "matrices2.ipynb"
 },
 "nbformat": 4,
 "nbformat_minor": 2
}
