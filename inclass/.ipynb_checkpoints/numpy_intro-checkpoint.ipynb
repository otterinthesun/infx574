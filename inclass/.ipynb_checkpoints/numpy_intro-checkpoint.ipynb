{
 "cells": [
  {
   "cell_type": "markdown",
   "metadata": {
    "ein.tags": "worksheet-0",
    "slideshow": {
     "slide_type": "-"
    }
   },
   "source": [
    "# Numpy\n",
    "\n",
    "Numpy is the primary way in python to handle matrices/vectors"
   ]
  },
  {
   "cell_type": "code",
   "execution_count": 1,
   "metadata": {
    "autoscroll": false,
    "ein.tags": "worksheet-0",
    "slideshow": {
     "slide_type": "-"
    }
   },
   "outputs": [
    {
     "name": "stdout",
     "output_type": "stream",
     "text": [
      "1.14.0\n"
     ]
    }
   ],
   "source": [
    "import numpy as np\n",
    "print(np.__version__)"
   ]
  },
  {
   "cell_type": "markdown",
   "metadata": {
    "ein.tags": "worksheet-0",
    "slideshow": {
     "slide_type": "-"
    }
   },
   "source": [
    "## Array: the fundamental building block"
   ]
  },
  {
   "cell_type": "markdown",
   "metadata": {
    "ein.tags": "worksheet-0",
    "slideshow": {
     "slide_type": "-"
    }
   },
   "source": [
    "### Creating arrays"
   ]
  },
  {
   "cell_type": "code",
   "execution_count": 2,
   "metadata": {
    "autoscroll": false,
    "ein.tags": "worksheet-0",
    "slideshow": {
     "slide_type": "-"
    }
   },
   "outputs": [
    {
     "name": "stdout",
     "output_type": "stream",
     "text": [
      "a:\n",
      " [1 2 3 4]\n",
      "b:\n",
      " [[1 2]\n",
      " [3 4]]\n"
     ]
    }
   ],
   "source": [
    "a = np.array([1,2,3,4])\n",
    "print(\"a:\\n\", a)\n",
    "b = np.array([[1,2], [3,4]])\n",
    "print(\"b:\\n\", b)"
   ]
  },
  {
   "cell_type": "code",
   "execution_count": 3,
   "metadata": {
    "autoscroll": false,
    "ein.tags": "worksheet-0",
    "slideshow": {
     "slide_type": "-"
    }
   },
   "outputs": [
    {
     "name": "stdout",
     "output_type": "stream",
     "text": [
      "(4,)\n",
      "(2, 2)\n"
     ]
    }
   ],
   "source": [
    "## Shape: the form of the array\n",
    "print(a.shape)\n",
    "print(b.shape)"
   ]
  },
  {
   "cell_type": "code",
   "execution_count": 4,
   "metadata": {
    "autoscroll": false,
    "ein.tags": "worksheet-0",
    "slideshow": {
     "slide_type": "-"
    }
   },
   "outputs": [
    {
     "name": "stdout",
     "output_type": "stream",
     "text": [
      "arange:\n",
      " [0 1 2 3 4 5 6 7 8 9]\n",
      "zeros:\n",
      " [[0. 0. 0. 0. 0.]\n",
      " [0. 0. 0. 0. 0.]]\n",
      "ones:\n",
      " [[1 1]\n",
      " [1 1]]\n",
      "empty:\n",
      " [[-2.31584178e+077 -2.31584178e+077 -6.91691904e-323  0.00000000e+000\n",
      "   2.12199579e-314  0.00000000e+000  0.00000000e+000  0.00000000e+000]\n",
      " [ 1.75871011e-310  3.50977866e+064  0.00000000e+000  0.00000000e+000\n",
      "               nan              nan  3.50977942e+064  2.16015873e-314]\n",
      " [-2.31584178e+077  2.00389766e+000  2.16030025e-314  2.15974856e-314\n",
      "   2.16118967e-314  2.16028220e-314  2.16113279e-314  2.16040176e-314]]\n",
      "reshape:\n",
      " [[ 0  1  2  3]\n",
      " [ 4  5  6  7]\n",
      " [ 8  9 10 11]] \n",
      "\n",
      "random numbers:\n",
      " [[ 0.33359254  1.11679537  0.43284127 -0.26203699 -3.04805912]\n",
      " [ 0.34886095  0.06025181  1.42074112  1.24894965 -0.48326373]\n",
      " [-1.00110869 -0.271329   -1.47930001 -1.8615997  -0.3279267 ]\n",
      " [ 0.26824693 -0.23215445 -0.80426403 -0.30780555 -1.49807709]] \n",
      "\n"
     ]
    }
   ],
   "source": [
    "## create various arrays\n",
    "print(\"arange:\\n\", np.arange(10))\n",
    "# like range, but gives an array\n",
    "print(\"zeros:\\n\", np.zeros((2,5)) )\n",
    "print(\"ones:\\n\", np.ones_like((b)) )\n",
    "print(\"empty:\\n\", np.empty((3,8)) )\n",
    "print(\"reshape:\\n\", np.arange(12).reshape((3,4)), \"\\n\")\n",
    "print(\"random numbers:\\n\", np.random.randn(4,5) ,'\\n')"
   ]
  },
  {
   "cell_type": "code",
   "execution_count": 5,
   "metadata": {
    "autoscroll": false,
    "ein.tags": "worksheet-0",
    "slideshow": {
     "slide_type": "-"
    }
   },
   "outputs": [
    {
     "name": "stdout",
     "output_type": "stream",
     "text": [
      "int64\n",
      "[1 2]\n",
      "int64\n",
      "[ True False  True]\n",
      "[1. 0. 1.]\n"
     ]
    }
   ],
   "source": [
    "## data types\n",
    "print(a.dtype)\n",
    "c = np.array([1,2], dtype='int64')\n",
    "print(c)\n",
    "print(c.dtype)\n",
    "## converting data types\n",
    "d = np.array([True,False,True])\n",
    "print(d)\n",
    "print(d.astype('float'))\n",
    "# can also convert strings"
   ]
  },
  {
   "cell_type": "code",
   "execution_count": 6,
   "metadata": {
    "autoscroll": false,
    "ein.tags": "worksheet-0",
    "slideshow": {
     "slide_type": "-"
    }
   },
   "outputs": [
    {
     "name": "stdout",
     "output_type": "stream",
     "text": [
      "[2 3 4 5] \n",
      "\n",
      "[[ 2  4]\n",
      " [ 8 16]] \n",
      "\n"
     ]
    }
   ],
   "source": [
    "## math with arrays\n",
    "print(1 + a, \"\\n\")\n",
    "print(2**b, \"\\n\")"
   ]
  },
  {
   "cell_type": "markdown",
   "metadata": {
    "ein.tags": "worksheet-0",
    "slideshow": {
     "slide_type": "-"
    }
   },
   "source": [
    "### Array Indexing and Slicing"
   ]
  },
  {
   "cell_type": "code",
   "execution_count": 7,
   "metadata": {
    "autoscroll": false,
    "ein.tags": "worksheet-0",
    "slideshow": {
     "slide_type": "-"
    }
   },
   "outputs": [
    {
     "name": "stdout",
     "output_type": "stream",
     "text": [
      "[11 10  9  8  7  6  5  4  3  2  1  0]\n",
      "[ 0  1  2  3  4 -1 -1 -1 -1 -1 -1 11]\n"
     ]
    }
   ],
   "source": [
    "## 1d arrays indexed like lists:\n",
    "a = np.arange(12)\n",
    "print(a[::-1])\n",
    "b = a\n",
    "a[5:11] = -1\n",
    "print(b)"
   ]
  },
  {
   "cell_type": "code",
   "execution_count": 8,
   "metadata": {
    "autoscroll": false,
    "ein.tags": "worksheet-0",
    "slideshow": {
     "slide_type": "-"
    }
   },
   "outputs": [
    {
     "name": "stdout",
     "output_type": "stream",
     "text": [
      "c:\n",
      " [[ 0  1  2  3]\n",
      " [ 4  5  6  7]\n",
      " [ 8  9 10 11]] \n",
      "\n",
      "2nd row:\n",
      " [4 5 6 7] \n",
      "\n",
      "3rd column:\n",
      " [ 2  6 10] \n",
      "\n",
      "2nd row, 3rd column:\n",
      " 6 \n",
      " 6 \n",
      "\n"
     ]
    }
   ],
   "source": [
    "## 2D arrays may need two indices:\n",
    "c = np.arange(12).reshape((3,4))\n",
    "print(\"c:\\n\", c, \"\\n\")\n",
    "print(\"2nd row:\\n\", c[1], \"\\n\")\n",
    "print(\"3rd column:\\n\", c[:,2], \"\\n\")\n",
    "print(\"2nd row, 3rd column:\\n\", c[1,2], '\\n', c[1][2], '\\n')"
   ]
  },
  {
   "cell_type": "code",
   "execution_count": 9,
   "metadata": {
    "autoscroll": false,
    "ein.tags": "worksheet-0",
    "slideshow": {
     "slide_type": "-"
    }
   },
   "outputs": [
    {
     "name": "stdout",
     "output_type": "stream",
     "text": [
      "rows 1,2:\n",
      " [[0 1 2 3]\n",
      " [4 5 6 7]] \n",
      "\n",
      "rows 1,2, cols 1,2,3:\n",
      " [[0 1 2]\n",
      " [4 5 6]] \n",
      "\n"
     ]
    }
   ],
   "source": [
    "## 2d Slicing:\n",
    "print(\"rows 1,2:\\n\", c[:2], '\\n')\n",
    "print(\"rows 1,2, cols 1,2,3:\\n\", c[:2, :3], '\\n')"
   ]
  },
  {
   "cell_type": "markdown",
   "metadata": {
    "ein.tags": "worksheet-0",
    "slideshow": {
     "slide_type": "-"
    }
   },
   "source": [
    "Exercise:\n",
    "* create a 4x5 array of even numbers: 2, 4, 6, ...\n",
    "* extract third column\n",
    "* set the fourth row to 1,2,3,4,5\n"
   ]
  },
  {
   "cell_type": "code",
   "execution_count": 10,
   "metadata": {
    "autoscroll": false,
    "ein.tags": "worksheet-0",
    "slideshow": {
     "slide_type": "-"
    }
   },
   "outputs": [
    {
     "name": "stdout",
     "output_type": "stream",
     "text": [
      "[ 6 16 26 36] \n",
      "\n"
     ]
    },
    {
     "data": {
      "text/plain": [
       "array([[ 2,  4,  6,  8, 10],\n",
       "       [12, 14, 16, 18, 20],\n",
       "       [22, 24, 26, 28, 30],\n",
       "       [ 1,  2,  3,  4,  5]])"
      ]
     },
     "execution_count": 10,
     "metadata": {},
     "output_type": "execute_result"
    }
   ],
   "source": [
    "a = np.arange(2,42,2).reshape(4,5)\n",
    "print(a[:,2], '\\n')\n",
    "a[3] = 1 + np.arange(5)\n",
    "a"
   ]
  },
  {
   "cell_type": "code",
   "execution_count": 11,
   "metadata": {
    "autoscroll": false,
    "ein.tags": "worksheet-0",
    "slideshow": {
     "slide_type": "-"
    }
   },
   "outputs": [],
   "source": [
    "## do it here"
   ]
  },
  {
   "cell_type": "code",
   "execution_count": 12,
   "metadata": {
    "autoscroll": false,
    "ein.tags": "worksheet-0",
    "slideshow": {
     "slide_type": "-"
    }
   },
   "outputs": [
    {
     "name": "stdout",
     "output_type": "stream",
     "text": [
      "[[-1.03937112 -0.56884414  1.03752277]\n",
      " [-0.22176244 -0.36511779 -0.58433032]\n",
      " [-0.15340534  0.56105667 -0.65732712]\n",
      " [-1.49597114 -0.31154145  0.10825694]] \n",
      "\n",
      "[[-1. -1.  0.]\n",
      " [-1. -1. -1.]\n",
      " [-1.  0. -1.]\n",
      " [-1. -1.  0.]] \n",
      "\n"
     ]
    }
   ],
   "source": [
    "## Boolean indexing\n",
    "a = np.random.randn(4,3)\n",
    "print(a, '\\n')\n",
    "b = np.zeros_like(a)\n",
    "b[a < 0] = -1\n",
    "print(b, '\\n')"
   ]
  },
  {
   "cell_type": "markdown",
   "metadata": {
    "ein.tags": "worksheet-0",
    "slideshow": {
     "slide_type": "-"
    }
   },
   "source": [
    "## Universal Functions  (ufuncs)\n",
    "\n",
    "Vectorized arithmetic/logic on arrays"
   ]
  },
  {
   "cell_type": "code",
   "execution_count": 13,
   "metadata": {
    "autoscroll": false,
    "ein.tags": "worksheet-0",
    "slideshow": {
     "slide_type": "-"
    }
   },
   "outputs": [
    {
     "name": "stdout",
     "output_type": "stream",
     "text": [
      "sqrt:\n",
      " [[0.         1.         1.41421356 1.73205081]\n",
      " [2.         2.23606798 2.44948974 2.64575131]\n",
      " [2.82842712 3.         3.16227766 3.31662479]] \n",
      "\n",
      "squares:\n",
      " [[  0   1   4   9]\n",
      " [ 16  25  36  49]\n",
      " [ 64  81 100 121]] \n",
      "\n",
      "[[11 10  9  8]\n",
      " [ 7  6  5  4]\n",
      " [ 3  2  1  0]]\n",
      "powers:\n",
      " [[    0     1   512  6561]\n",
      " [16384 15625  7776  2401]\n",
      " [  512    81    10     1]] \n",
      "\n",
      "> [[False False False False]\n",
      " [False False  True  True]\n",
      " [ True  True  True  True]] \n",
      "\n"
     ]
    }
   ],
   "source": [
    "a = np.arange(12).reshape((3,4))\n",
    "print(\"sqrt:\\n\", np.sqrt(a), '\\n')\n",
    "print(\"squares:\\n\", a**2, '\\n')\n",
    "b = np.arange(12)[::-1].reshape((3,4))\n",
    "print(b)\n",
    "print(\"powers:\\n\", np.power(a,b), '\\n')\n",
    "print(\">\", np.greater(a, b), '\\n')\n"
   ]
  },
  {
   "cell_type": "code",
   "execution_count": 14,
   "metadata": {
    "autoscroll": false,
    "ein.tags": "worksheet-0",
    "slideshow": {
     "slide_type": "-"
    }
   },
   "outputs": [
    {
     "data": {
      "text/plain": [
       "array([['even', 'odd', 'even', 'odd'],\n",
       "       ['even', 'odd', 'even', 'odd'],\n",
       "       ['even', 'odd', 'even', 'odd']], dtype='<U4')"
      ]
     },
     "execution_count": 14,
     "metadata": {},
     "output_type": "execute_result"
    }
   ],
   "source": [
    "## Computing\n",
    "a = np.arange(12).reshape((3,4))\n",
    "np.where(a % 2 == 0, \"even\", \"odd\")"
   ]
  },
  {
   "cell_type": "code",
   "execution_count": 15,
   "metadata": {
    "autoscroll": false,
    "ein.tags": "worksheet-0",
    "slideshow": {
     "slide_type": "-"
    }
   },
   "outputs": [
    {
     "name": "stdout",
     "output_type": "stream",
     "text": [
      "[[0.27120568 0.56170074 0.74834592 0.34373756]\n",
      " [0.21288917 0.95624401 0.54056713 0.99639344]\n",
      " [0.78724641 0.96598951 0.70249522 0.87870505]] \n",
      "\n"
     ]
    },
    {
     "data": {
      "text/plain": [
       "array([[0.27120568, 1.        , 1.        , 0.34373756],\n",
       "       [0.21288917, 1.        , 1.        , 1.        ],\n",
       "       [1.        , 1.        , 1.        , 1.        ]])"
      ]
     },
     "execution_count": 15,
     "metadata": {},
     "output_type": "execute_result"
    }
   ],
   "source": [
    "b = np.random.uniform(size = (3,4))\n",
    "print(b, '\\n')\n",
    "np.where(b > 0.5, 1, b)"
   ]
  },
  {
   "cell_type": "code",
   "execution_count": 16,
   "metadata": {
    "autoscroll": false,
    "ein.tags": "worksheet-0",
    "slideshow": {
     "slide_type": "-"
    }
   },
   "outputs": [
    {
     "data": {
      "text/plain": [
       "0.6637933191103974"
      ]
     },
     "execution_count": 16,
     "metadata": {},
     "output_type": "execute_result"
    }
   ],
   "source": [
    "## Stats\n",
    "b.mean()"
   ]
  },
  {
   "cell_type": "code",
   "execution_count": 17,
   "metadata": {
    "autoscroll": false,
    "ein.tags": "worksheet-0",
    "slideshow": {
     "slide_type": "-"
    }
   },
   "outputs": [
    {
     "data": {
      "text/plain": [
       "array([1.9249899 , 2.70609376, 3.33443617])"
      ]
     },
     "execution_count": 17,
     "metadata": {},
     "output_type": "execute_result"
    }
   ],
   "source": [
    "## do this row-wise\n",
    "## Note: axis 1 is columns.  sum(axis=1) means sum by columns, retain rows\n",
    "b.sum(axis=1)"
   ]
  },
  {
   "cell_type": "code",
   "execution_count": 18,
   "metadata": {
    "autoscroll": false,
    "ein.tags": "worksheet-0",
    "slideshow": {
     "slide_type": "-"
    }
   },
   "outputs": [
    {
     "data": {
      "text/plain": [
       "4"
      ]
     },
     "execution_count": 18,
     "metadata": {},
     "output_type": "execute_result"
    }
   ],
   "source": [
    "b.argmin()"
   ]
  },
  {
   "cell_type": "code",
   "execution_count": 19,
   "metadata": {
    "autoscroll": false,
    "ein.tags": "worksheet-0",
    "slideshow": {
     "slide_type": "-"
    }
   },
   "outputs": [
    {
     "data": {
      "text/plain": [
       "array([1, 0, 1, 0])"
      ]
     },
     "execution_count": 19,
     "metadata": {},
     "output_type": "execute_result"
    }
   ],
   "source": [
    "b.argmin(axis=0)"
   ]
  },
  {
   "cell_type": "code",
   "execution_count": 20,
   "metadata": {
    "autoscroll": false,
    "ein.tags": "worksheet-0",
    "slideshow": {
     "slide_type": "-"
    }
   },
   "outputs": [
    {
     "name": "stdout",
     "output_type": "stream",
     "text": [
      "[0.60442506 0.28329585 0.51225645 0.7609135  0.91275913 0.56440782\n",
      " 0.4727103  0.60393464 0.49496488 0.62562139] \n",
      "\n",
      "[0.28329585 0.4727103  0.49496488 0.51225645 0.56440782 0.60393464\n",
      " 0.60442506 0.62562139 0.7609135  0.91275913]\n"
     ]
    }
   ],
   "source": [
    "## sorting\n",
    "a = np.random.uniform(size=10)\n",
    "print(a, '\\n')\n",
    "a.sort()  # in-place sorting\n",
    "print(a)"
   ]
  },
  {
   "cell_type": "code",
   "execution_count": null,
   "metadata": {
    "autoscroll": false,
    "ein.tags": "worksheet-0",
    "slideshow": {
     "slide_type": "-"
    }
   },
   "outputs": [],
   "source": []
  }
 ],
 "metadata": {
  "kernelspec": {
   "display_name": "Python 3",
   "language": "python",
   "name": "python3"
  },
  "language_info": {
   "codemirror_mode": {
    "name": "ipython",
    "version": 3
   },
   "file_extension": ".py",
   "mimetype": "text/x-python",
   "name": "python",
   "nbconvert_exporter": "python",
   "pygments_lexer": "ipython3",
   "version": "3.6.4"
  },
  "name": "numpy_intro.ipynb"
 },
 "nbformat": 4,
 "nbformat_minor": 2
}
